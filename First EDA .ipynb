{
 "cells": [
  {
   "attachments": {},
   "cell_type": "markdown",
   "metadata": {},
   "source": [
    "*import Libraries*"
   ]
  },
  {
   "cell_type": "code",
   "execution_count": 2,
   "metadata": {},
   "outputs": [],
   "source": [
    "import pandas as pd\n",
    "import numpy as np\n",
    "import matplotlib as plt\n",
    "import plotly.express as px"
   ]
  },
  {
   "attachments": {},
   "cell_type": "markdown",
   "metadata": {},
   "source": [
    "## 2. **Data Loading and exploration and cleaning**\n",
    " ↪ Load the csv file with the pandas\n",
    " \n",
    " ↪ creating the dataframe and understanding the data present in the dataset using pandas\n",
    " \n",
    " ↪ Dealing with the missing data, outliers and the incorrect records"
   ]
  },
  {
   "cell_type": "code",
   "execution_count": 3,
   "metadata": {},
   "outputs": [],
   "source": [
    "df = pd.read_csv('./datasets/National Universities Rankings.csv')\n"
   ]
  },
  {
   "attachments": {},
   "cell_type": "markdown",
   "metadata": {},
   "source": [
    "- Viewing the data"
   ]
  },
  {
   "cell_type": "code",
   "execution_count": 4,
   "metadata": {},
   "outputs": [
    {
     "data": {
      "text/html": [
       "<div>\n",
       "<style scoped>\n",
       "    .dataframe tbody tr th:only-of-type {\n",
       "        vertical-align: middle;\n",
       "    }\n",
       "\n",
       "    .dataframe tbody tr th {\n",
       "        vertical-align: top;\n",
       "    }\n",
       "\n",
       "    .dataframe thead th {\n",
       "        text-align: right;\n",
       "    }\n",
       "</style>\n",
       "<table border=\"1\" class=\"dataframe\">\n",
       "  <thead>\n",
       "    <tr style=\"text-align: right;\">\n",
       "      <th></th>\n",
       "      <th>index</th>\n",
       "      <th>Name</th>\n",
       "      <th>Location</th>\n",
       "      <th>Rank</th>\n",
       "      <th>Description</th>\n",
       "      <th>Tuition and fees</th>\n",
       "      <th>In-state</th>\n",
       "      <th>Undergrad Enrollment</th>\n",
       "    </tr>\n",
       "  </thead>\n",
       "  <tbody>\n",
       "    <tr>\n",
       "      <th>0</th>\n",
       "      <td>0</td>\n",
       "      <td>Princeton University</td>\n",
       "      <td>Princeton, NJ</td>\n",
       "      <td>1</td>\n",
       "      <td>Princeton, the fourth-oldest college in the Un...</td>\n",
       "      <td>$45,320</td>\n",
       "      <td>NaN</td>\n",
       "      <td>5,402</td>\n",
       "    </tr>\n",
       "    <tr>\n",
       "      <th>1</th>\n",
       "      <td>1</td>\n",
       "      <td>Harvard University</td>\n",
       "      <td>Cambridge, MA</td>\n",
       "      <td>2</td>\n",
       "      <td>Harvard is located in Cambridge, Massachusetts...</td>\n",
       "      <td>$47,074</td>\n",
       "      <td>NaN</td>\n",
       "      <td>6,699</td>\n",
       "    </tr>\n",
       "    <tr>\n",
       "      <th>2</th>\n",
       "      <td>2</td>\n",
       "      <td>University of Chicago</td>\n",
       "      <td>Chicago, IL</td>\n",
       "      <td>3</td>\n",
       "      <td>The University of Chicago, situated in Chicago...</td>\n",
       "      <td>$52,491</td>\n",
       "      <td>NaN</td>\n",
       "      <td>5,844</td>\n",
       "    </tr>\n",
       "    <tr>\n",
       "      <th>3</th>\n",
       "      <td>3</td>\n",
       "      <td>Yale University</td>\n",
       "      <td>New Haven, CT</td>\n",
       "      <td>3</td>\n",
       "      <td>Yale University, located in New Haven, Connect...</td>\n",
       "      <td>$49,480</td>\n",
       "      <td>NaN</td>\n",
       "      <td>5,532</td>\n",
       "    </tr>\n",
       "    <tr>\n",
       "      <th>4</th>\n",
       "      <td>4</td>\n",
       "      <td>Columbia University</td>\n",
       "      <td>New York, NY</td>\n",
       "      <td>5</td>\n",
       "      <td>Columbia University, located in Manhattan's Mo...</td>\n",
       "      <td>$55,056</td>\n",
       "      <td>NaN</td>\n",
       "      <td>6,102</td>\n",
       "    </tr>\n",
       "    <tr>\n",
       "      <th>...</th>\n",
       "      <td>...</td>\n",
       "      <td>...</td>\n",
       "      <td>...</td>\n",
       "      <td>...</td>\n",
       "      <td>...</td>\n",
       "      <td>...</td>\n",
       "      <td>...</td>\n",
       "      <td>...</td>\n",
       "    </tr>\n",
       "    <tr>\n",
       "      <th>226</th>\n",
       "      <td>226</td>\n",
       "      <td>University of Massachusetts--Dartmouth</td>\n",
       "      <td>North Dartmouth, MA</td>\n",
       "      <td>220</td>\n",
       "      <td>Located about 60 miles south of Boston, the Un...</td>\n",
       "      <td>$19,270</td>\n",
       "      <td>$12,588</td>\n",
       "      <td>7,295</td>\n",
       "    </tr>\n",
       "    <tr>\n",
       "      <th>227</th>\n",
       "      <td>227</td>\n",
       "      <td>University of Missouri--St. Louis</td>\n",
       "      <td>St. Louis, MO</td>\n",
       "      <td>220</td>\n",
       "      <td>Undergraduates at University of Missouri--St. ...</td>\n",
       "      <td>$26,277</td>\n",
       "      <td>$10,065</td>\n",
       "      <td>13,569</td>\n",
       "    </tr>\n",
       "    <tr>\n",
       "      <th>228</th>\n",
       "      <td>228</td>\n",
       "      <td>University of North Carolina--Greensboro</td>\n",
       "      <td>Greensboro, NC</td>\n",
       "      <td>220</td>\n",
       "      <td>University of North Carolina--Greensboro is lo...</td>\n",
       "      <td>$21,595</td>\n",
       "      <td>$6,733</td>\n",
       "      <td>15,951</td>\n",
       "    </tr>\n",
       "    <tr>\n",
       "      <th>229</th>\n",
       "      <td>229</td>\n",
       "      <td>University of Southern Mississippi</td>\n",
       "      <td>Hattiesburg, MS</td>\n",
       "      <td>220</td>\n",
       "      <td>The University of Southern Mississippi has two...</td>\n",
       "      <td>$16,094</td>\n",
       "      <td>$7,224</td>\n",
       "      <td>11,840</td>\n",
       "    </tr>\n",
       "    <tr>\n",
       "      <th>230</th>\n",
       "      <td>230</td>\n",
       "      <td>Utah State University</td>\n",
       "      <td>Logan, UT</td>\n",
       "      <td>220</td>\n",
       "      <td>Founded in 1888, Utah State University is a pu...</td>\n",
       "      <td>$19,772</td>\n",
       "      <td>$6,866</td>\n",
       "      <td>25,259</td>\n",
       "    </tr>\n",
       "  </tbody>\n",
       "</table>\n",
       "<p>231 rows × 8 columns</p>\n",
       "</div>"
      ],
      "text/plain": [
       "     index                                      Name             Location  \\\n",
       "0        0                      Princeton University        Princeton, NJ   \n",
       "1        1                        Harvard University        Cambridge, MA   \n",
       "2        2                     University of Chicago          Chicago, IL   \n",
       "3        3                           Yale University        New Haven, CT   \n",
       "4        4                       Columbia University         New York, NY   \n",
       "..     ...                                       ...                  ...   \n",
       "226    226    University of Massachusetts--Dartmouth  North Dartmouth, MA   \n",
       "227    227         University of Missouri--St. Louis        St. Louis, MO   \n",
       "228    228  University of North Carolina--Greensboro       Greensboro, NC   \n",
       "229    229        University of Southern Mississippi      Hattiesburg, MS   \n",
       "230    230                     Utah State University            Logan, UT   \n",
       "\n",
       "     Rank                                        Description Tuition and fees  \\\n",
       "0       1  Princeton, the fourth-oldest college in the Un...         $45,320    \n",
       "1       2  Harvard is located in Cambridge, Massachusetts...         $47,074    \n",
       "2       3  The University of Chicago, situated in Chicago...         $52,491    \n",
       "3       3  Yale University, located in New Haven, Connect...         $49,480    \n",
       "4       5  Columbia University, located in Manhattan's Mo...         $55,056    \n",
       "..    ...                                                ...              ...   \n",
       "226   220  Located about 60 miles south of Boston, the Un...         $19,270    \n",
       "227   220  Undergraduates at University of Missouri--St. ...         $26,277    \n",
       "228   220  University of North Carolina--Greensboro is lo...         $21,595    \n",
       "229   220  The University of Southern Mississippi has two...         $16,094    \n",
       "230   220  Founded in 1888, Utah State University is a pu...         $19,772    \n",
       "\n",
       "     In-state Undergrad Enrollment  \n",
       "0         NaN                5,402  \n",
       "1         NaN                6,699  \n",
       "2         NaN                5,844  \n",
       "3         NaN                5,532  \n",
       "4         NaN                6,102  \n",
       "..        ...                  ...  \n",
       "226  $12,588                 7,295  \n",
       "227  $10,065                13,569  \n",
       "228   $6,733                15,951  \n",
       "229   $7,224                11,840  \n",
       "230   $6,866                25,259  \n",
       "\n",
       "[231 rows x 8 columns]"
      ]
     },
     "execution_count": 4,
     "metadata": {},
     "output_type": "execute_result"
    }
   ],
   "source": [
    "df"
   ]
  },
  {
   "cell_type": "code",
   "execution_count": 5,
   "metadata": {},
   "outputs": [],
   "source": [
    "# hide all warnings runtime\n",
    "import warnings\n",
    "warnings.filterwarnings('ignore')"
   ]
  },
  {
   "attachments": {},
   "cell_type": "markdown",
   "metadata": {},
   "source": [
    "- let's see the exact column names which can be easily copied later on from National Universities Rankings"
   ]
  },
  {
   "cell_type": "code",
   "execution_count": 6,
   "metadata": {},
   "outputs": [
    {
     "data": {
      "text/plain": [
       "Index(['index', 'Name', 'Location', 'Rank', 'Description', 'Tuition and fees',\n",
       "       'In-state', 'Undergrad Enrollment'],\n",
       "      dtype='object')"
      ]
     },
     "execution_count": 6,
     "metadata": {},
     "output_type": "execute_result"
    }
   ],
   "source": [
    "df.columns"
   ]
  },
  {
   "attachments": {},
   "cell_type": "markdown",
   "metadata": {},
   "source": [
    "- Let's have a look on the shape of the dataset"
   ]
  },
  {
   "cell_type": "code",
   "execution_count": 7,
   "metadata": {},
   "outputs": [
    {
     "data": {
      "text/plain": [
       "(231, 8)"
      ]
     },
     "execution_count": 7,
     "metadata": {},
     "output_type": "execute_result"
    }
   ],
   "source": [
    "df.shape"
   ]
  },
  {
   "cell_type": "markdown",
   "metadata": {},
   "source": [
    "Not enough, let's have a look on the columns and their data types using detailed info function"
   ]
  },
  {
   "cell_type": "code",
   "execution_count": 8,
   "metadata": {},
   "outputs": [
    {
     "name": "stdout",
     "output_type": "stream",
     "text": [
      "<class 'pandas.core.frame.DataFrame'>\n",
      "RangeIndex: 231 entries, 0 to 230\n",
      "Data columns (total 8 columns):\n",
      " #   Column                Non-Null Count  Dtype \n",
      "---  ------                --------------  ----- \n",
      " 0   index                 231 non-null    int64 \n",
      " 1   Name                  231 non-null    object\n",
      " 2   Location              231 non-null    object\n",
      " 3   Rank                  231 non-null    int64 \n",
      " 4   Description           231 non-null    object\n",
      " 5   Tuition and fees      231 non-null    object\n",
      " 6   In-state              133 non-null    object\n",
      " 7   Undergrad Enrollment  231 non-null    object\n",
      "dtypes: int64(2), object(6)\n",
      "memory usage: 14.6+ KB\n"
     ]
    }
   ],
   "source": [
    "df.info()"
   ]
  },
  {
   "attachments": {},
   "cell_type": "markdown",
   "metadata": {},
   "source": [
    "# **Observations**\n",
    "---\n",
    "1. There are 231 rows and 8 columns in the dataset\n",
    "2. The columns are of different data types\n",
    "3. The columns in the datasets are:\n",
    "   - `'index', 'Name', 'Location', 'Rank', 'Description', 'Tuition and fees',\n",
    "       'In-state', 'Undergrad Enrollment'`\n",
    "4. There are some missing values in the dataset which we will read in details and deal later on in the notebook.\n"
   ]
  },
  {
   "cell_type": "code",
   "execution_count": 9,
   "metadata": {},
   "outputs": [],
   "source": [
    "# This column won't provide any value\n",
    "df = df.drop('Description', axis=1)"
   ]
  },
  {
   "cell_type": "code",
   "execution_count": 10,
   "metadata": {},
   "outputs": [
    {
     "data": {
      "text/html": [
       "<div>\n",
       "<style scoped>\n",
       "    .dataframe tbody tr th:only-of-type {\n",
       "        vertical-align: middle;\n",
       "    }\n",
       "\n",
       "    .dataframe tbody tr th {\n",
       "        vertical-align: top;\n",
       "    }\n",
       "\n",
       "    .dataframe thead th {\n",
       "        text-align: right;\n",
       "    }\n",
       "</style>\n",
       "<table border=\"1\" class=\"dataframe\">\n",
       "  <thead>\n",
       "    <tr style=\"text-align: right;\">\n",
       "      <th></th>\n",
       "      <th>index</th>\n",
       "      <th>Rank</th>\n",
       "    </tr>\n",
       "  </thead>\n",
       "  <tbody>\n",
       "    <tr>\n",
       "      <th>count</th>\n",
       "      <td>231.000000</td>\n",
       "      <td>231.000000</td>\n",
       "    </tr>\n",
       "    <tr>\n",
       "      <th>mean</th>\n",
       "      <td>115.000000</td>\n",
       "      <td>113.982684</td>\n",
       "    </tr>\n",
       "    <tr>\n",
       "      <th>std</th>\n",
       "      <td>66.828138</td>\n",
       "      <td>65.995518</td>\n",
       "    </tr>\n",
       "    <tr>\n",
       "      <th>min</th>\n",
       "      <td>0.000000</td>\n",
       "      <td>1.000000</td>\n",
       "    </tr>\n",
       "    <tr>\n",
       "      <th>25%</th>\n",
       "      <td>57.500000</td>\n",
       "      <td>56.000000</td>\n",
       "    </tr>\n",
       "    <tr>\n",
       "      <th>50%</th>\n",
       "      <td>115.000000</td>\n",
       "      <td>111.000000</td>\n",
       "    </tr>\n",
       "    <tr>\n",
       "      <th>75%</th>\n",
       "      <td>172.500000</td>\n",
       "      <td>171.000000</td>\n",
       "    </tr>\n",
       "    <tr>\n",
       "      <th>max</th>\n",
       "      <td>230.000000</td>\n",
       "      <td>220.000000</td>\n",
       "    </tr>\n",
       "  </tbody>\n",
       "</table>\n",
       "</div>"
      ],
      "text/plain": [
       "            index        Rank\n",
       "count  231.000000  231.000000\n",
       "mean   115.000000  113.982684\n",
       "std     66.828138   65.995518\n",
       "min      0.000000    1.000000\n",
       "25%     57.500000   56.000000\n",
       "50%    115.000000  111.000000\n",
       "75%    172.500000  171.000000\n",
       "max    230.000000  220.000000"
      ]
     },
     "execution_count": 10,
     "metadata": {},
     "output_type": "execute_result"
    }
   ],
   "source": [
    "df.describe()"
   ]
  },
  {
   "attachments": {},
   "cell_type": "markdown",
   "metadata": {},
   "source": [
    "## Observations:\n",
    "---\n",
    "- We have only 2 columns as numeric data type, rest all are object data type (according to python),but we can see ,according to our needs.\n",
    "---\n",
    "- Let's check the null values "
   ]
  },
  {
   "cell_type": "code",
   "execution_count": 11,
   "metadata": {},
   "outputs": [
    {
     "data": {
      "text/plain": [
       "index                    0\n",
       "Name                     0\n",
       "Location                 0\n",
       "Rank                     0\n",
       "Tuition and fees         0\n",
       "In-state                98\n",
       "Undergrad Enrollment     0\n",
       "dtype: int64"
      ]
     },
     "execution_count": 11,
     "metadata": {},
     "output_type": "execute_result"
    }
   ],
   "source": [
    "df.isnull().sum()"
   ]
  },
  {
   "cell_type": "code",
   "execution_count": 12,
   "metadata": {},
   "outputs": [
    {
     "data": {
      "text/plain": [
       "index                    0.000000\n",
       "Name                     0.000000\n",
       "Location                 0.000000\n",
       "Rank                     0.000000\n",
       "Tuition and fees         0.000000\n",
       "In-state                42.424242\n",
       "Undergrad Enrollment     0.000000\n",
       "dtype: float64"
      ]
     },
     "execution_count": 12,
     "metadata": {},
     "output_type": "execute_result"
    }
   ],
   "source": [
    "#check percentage of null values \n",
    "df.isnull().sum()*100/len(df)"
   ]
  },
  {
   "attachments": {},
   "cell_type": "markdown",
   "metadata": {},
   "source": [
    "## Observations:\n",
    "---\n",
    "- we have many null values in dataset, So first of all we deal with these null values \n",
    "---\n",
    "- Let's remove or deal with null values in that columns `'In-state'`."
   ]
  },
  {
   "attachments": {},
   "cell_type": "markdown",
   "metadata": {},
   "source": [
    "- we have 98 null values in that column`'In-state'`, So let's deal with these  values "
   ]
  },
  {
   "cell_type": "code",
   "execution_count": 13,
   "metadata": {},
   "outputs": [],
   "source": [
    "# convert data type of 'Tuition and fees'\n",
    "def to_numeric(x):\n",
    "    return int(x.replace(',', ''))\n",
    "\n",
    "df['Tuition and fees'] = df['Tuition and fees'].str[1:].apply(to_numeric)\n",
    "\n",
    "def to_numeric(y):\n",
    "    return int(y.replace(',', ''))\n",
    "df['Undergrad Enrollment'] = df['Undergrad Enrollment'].str[1:].apply(to_numeric)"
   ]
  },
  {
   "cell_type": "code",
   "execution_count": 14,
   "metadata": {},
   "outputs": [],
   "source": [
    "# The amount of discount won't be as valuable as the fact that there's a discount or not\n",
    "df[\"In-state-discount\"] = (~df[\"In-state\"].isnull())\n",
    "df = df.drop(\"In-state\", axis=1)"
   ]
  },
  {
   "cell_type": "code",
   "execution_count": 15,
   "metadata": {},
   "outputs": [],
   "source": [
    "# We will only keep the State\n",
    "df[\"State\"] = df.Location.str[-2:]\n",
    "df = df.drop('Location', axis=1)"
   ]
  },
  {
   "attachments": {},
   "cell_type": "markdown",
   "metadata": {},
   "source": [
    "- transform data and groupby of these columns"
   ]
  },
  {
   "cell_type": "code",
   "execution_count": 16,
   "metadata": {},
   "outputs": [],
   "source": [
    "df[\"Tuition and fees\"] = df[\"Tuition and fees\"].astype(float)\n",
    "df[\"State-mean-tuition-fees\"] = df.groupby('State')['Tuition and fees'].transform('mean')\n",
    "df[\"State-mean-rankings\"] = df.groupby('State')['Rank'].transform('mean')"
   ]
  },
  {
   "cell_type": "code",
   "execution_count": 17,
   "metadata": {},
   "outputs": [],
   "source": [
    "df['quantile-rank'] = pd.qcut(df['Rank'], 4, labels=[\"great reputation\", \"good reputation\", \"average reputation\",\n",
    "\"low reputation\"])\n",
    "df['quantile-tuition-fees'] = pd.qcut(df['Tuition and fees'], 4, labels=[\"low\", \"average\",\n",
    " \"expensive\", \"very expensive\"])"
   ]
  },
  {
   "attachments": {},
   "cell_type": "markdown",
   "metadata": {},
   "source": [
    "----\n",
    "- create a box plot of \"Tuition and fees\",and \"state\""
   ]
  },
  {
   "cell_type": "code",
   "execution_count": 18,
   "metadata": {},
   "outputs": [
    {
     "data": {
      "application/vnd.plotly.v1+json": {
       "config": {
        "plotlyServerURL": "https://plot.ly"
       },
       "data": [
        {
         "alignmentgroup": "True",
         "hovertemplate": "State=%{x}<br>Tuition and fees=%{y}<extra></extra>",
         "legendgroup": "",
         "marker": {
          "color": "#636efa"
         },
         "name": "",
         "notched": false,
         "offsetgroup": "",
         "orientation": "v",
         "showlegend": false,
         "type": "box",
         "x": [
          "DC",
          "DC",
          "DC",
          "DC",
          "DC",
          "NH",
          "NH",
          "CT",
          "CT",
          "CT",
          "MA",
          "MA",
          "MA",
          "MA",
          "MA",
          "MA",
          "MA",
          "MA",
          "MA",
          "MA",
          "MA",
          "MA",
          "MA",
          "MA",
          "MA",
          "VT",
          "PA",
          "PA",
          "PA",
          "PA",
          "PA",
          "PA",
          "PA",
          "PA",
          "PA",
          "PA",
          "PA",
          "PA",
          "RI",
          "RI",
          "NY",
          "NY",
          "NY",
          "NY",
          "NY",
          "NY",
          "NY",
          "NY",
          "NY",
          "NY",
          "NY",
          "NY",
          "NY",
          "NY",
          "NY",
          "NY",
          "NY",
          "NY",
          "NY",
          "NY",
          "NY",
          "CA",
          "CA",
          "CA",
          "CA",
          "CA",
          "CA",
          "CA",
          "CA",
          "CA",
          "CA",
          "CA",
          "CA",
          "CA",
          "CA",
          "CA",
          "CA",
          "CA",
          "CA",
          "CA",
          "CA",
          "CA",
          "CA",
          "GA",
          "GA",
          "GA",
          "GA",
          "MD",
          "MD",
          "MD",
          "IL",
          "IL",
          "IL",
          "IL",
          "IL",
          "IL",
          "IL",
          "IL",
          "IL",
          "IL",
          "IL",
          "TX",
          "TX",
          "TX",
          "TX",
          "TX",
          "TX",
          "TX",
          "TX",
          "TX",
          "TX",
          "CO",
          "CO",
          "CO",
          "CO",
          "CO",
          "NJ",
          "NJ",
          "NJ",
          "NJ",
          "NJ",
          "NJ",
          "NJ",
          "LA",
          "LA",
          "LA",
          "VA",
          "VA",
          "VA",
          "VA",
          "VA",
          "VA",
          "VA",
          "HI",
          "IN",
          "IN",
          "IN",
          "IN",
          "IN",
          "WA",
          "WA",
          "WA",
          "WI",
          "WI",
          "WI",
          "TN",
          "TN",
          "TN",
          "TN",
          "TN",
          "SC",
          "SC",
          "NC",
          "NC",
          "NC",
          "NC",
          "NC",
          "NC",
          "NC",
          "NC",
          "MI",
          "MI",
          "MI",
          "MI",
          "MI",
          "MI",
          "DE",
          "MO",
          "MO",
          "MO",
          "MO",
          "MO",
          "MO",
          "MO",
          "OR",
          "OR",
          "MN",
          "MN",
          "FL",
          "FL",
          "FL",
          "FL",
          "FL",
          "FL",
          "FL",
          "ME",
          "OH",
          "OH",
          "OH",
          "OH",
          "OH",
          "OH",
          "OH",
          "OH",
          "OH",
          "AZ",
          "AZ",
          "OK",
          "OK",
          "OK",
          "KY",
          "KY",
          "IA",
          "IA",
          "KS",
          "KS",
          "MT",
          "MT",
          "AL",
          "AL",
          "AL",
          "AL",
          "AR",
          "NE",
          "AK",
          "ID",
          "WV",
          "NM",
          "NM",
          "NV",
          "MS",
          "MS",
          "MS",
          "ND",
          "ND",
          "UT",
          "UT",
          "UT",
          "WY",
          "SD",
          "SD"
         ],
         "x0": " ",
         "xaxis": "x",
         "y": [
          42536,
          51950,
          24908,
          50547,
          44853,
          51438,
          31424,
          35858,
          49480,
          37790,
          32023,
          51570,
          52430,
          29125,
          30123,
          25750,
          43150,
          50240,
          47655,
          46994,
          35578,
          19270,
          48452,
          47074,
          51296,
          40364,
          49280,
          28250,
          32382,
          29758,
          35210,
          48320,
          51030,
          42870,
          52040,
          25994,
          35062,
          51464,
          28852,
          51367,
          42772,
          45022,
          40670,
          47317,
          31880,
          34034,
          26266,
          55056,
          46132,
          50953,
          45535,
          42160,
          38568,
          26270,
          17620,
          39460,
          50142,
          49062,
          22244,
          50797,
          22164,
          39900,
          18244,
          44494,
          40241,
          46140,
          36696,
          39944,
          44588,
          40263,
          50022,
          17596,
          47940,
          40704,
          47577,
          39458,
          52217,
          41387,
          40728,
          40191,
          36120,
          17209,
          39518,
          35130,
          47954,
          32404,
          29844,
          24492,
          32045,
          50410,
          20886,
          37626,
          32170,
          31320,
          26526,
          52491,
          45214,
          23799,
          27130,
          41384,
          50855,
          33654,
          26180,
          42006,
          25410,
          42670,
          50358,
          28768,
          34676,
          22861,
          43918,
          29334,
          28374,
          35079,
          46362,
          34828,
          30326,
          29480,
          20318,
          45320,
          39258,
          48838,
          30023,
          25851,
          27005,
          51010,
          27028,
          41718,
          32582,
          31608,
          45066,
          31322,
          29371,
          33764,
          29791,
          28804,
          49685,
          34246,
          25428,
          25673,
          38940,
          34791,
          38470,
          32738,
          27530,
          29756,
          30858,
          24800,
          30420,
          45610,
          31282,
          32796,
          33916,
          29850,
          26399,
          20193,
          22904,
          49308,
          21595,
          51265,
          25713,
          30968,
          23670,
          27684,
          43476,
          39090,
          31420,
          26152,
          27958,
          22714,
          49770,
          40726,
          26277,
          25892,
          28846,
          33442,
          22210,
          39594,
          24673,
          47004,
          28666,
          27660,
          22467,
          17325,
          40446,
          29498,
          31592,
          46006,
          20392,
          18332,
          21208,
          29229,
          18376,
          26334,
          40940,
          25458,
          30025,
          20978,
          38796,
          21451,
          24626,
          26334,
          21483,
          28413,
          25932,
          23429,
          23042,
          24562,
          26950,
          20622,
          28840,
          17654,
          23168,
          23148,
          22469,
          22040,
          21432,
          21234,
          21302,
          21052,
          20142,
          22012,
          16094,
          18899,
          19790,
          27039,
          5300,
          19772,
          16215,
          11688,
          11403
         ],
         "y0": " ",
         "yaxis": "y"
        }
       ],
       "layout": {
        "boxmode": "group",
        "legend": {
         "tracegroupgap": 0
        },
        "margin": {
         "t": 60
        },
        "template": {
         "data": {
          "bar": [
           {
            "error_x": {
             "color": "#2a3f5f"
            },
            "error_y": {
             "color": "#2a3f5f"
            },
            "marker": {
             "line": {
              "color": "#E5ECF6",
              "width": 0.5
             },
             "pattern": {
              "fillmode": "overlay",
              "size": 10,
              "solidity": 0.2
             }
            },
            "type": "bar"
           }
          ],
          "barpolar": [
           {
            "marker": {
             "line": {
              "color": "#E5ECF6",
              "width": 0.5
             },
             "pattern": {
              "fillmode": "overlay",
              "size": 10,
              "solidity": 0.2
             }
            },
            "type": "barpolar"
           }
          ],
          "carpet": [
           {
            "aaxis": {
             "endlinecolor": "#2a3f5f",
             "gridcolor": "white",
             "linecolor": "white",
             "minorgridcolor": "white",
             "startlinecolor": "#2a3f5f"
            },
            "baxis": {
             "endlinecolor": "#2a3f5f",
             "gridcolor": "white",
             "linecolor": "white",
             "minorgridcolor": "white",
             "startlinecolor": "#2a3f5f"
            },
            "type": "carpet"
           }
          ],
          "choropleth": [
           {
            "colorbar": {
             "outlinewidth": 0,
             "ticks": ""
            },
            "type": "choropleth"
           }
          ],
          "contour": [
           {
            "colorbar": {
             "outlinewidth": 0,
             "ticks": ""
            },
            "colorscale": [
             [
              0,
              "#0d0887"
             ],
             [
              0.1111111111111111,
              "#46039f"
             ],
             [
              0.2222222222222222,
              "#7201a8"
             ],
             [
              0.3333333333333333,
              "#9c179e"
             ],
             [
              0.4444444444444444,
              "#bd3786"
             ],
             [
              0.5555555555555556,
              "#d8576b"
             ],
             [
              0.6666666666666666,
              "#ed7953"
             ],
             [
              0.7777777777777778,
              "#fb9f3a"
             ],
             [
              0.8888888888888888,
              "#fdca26"
             ],
             [
              1,
              "#f0f921"
             ]
            ],
            "type": "contour"
           }
          ],
          "contourcarpet": [
           {
            "colorbar": {
             "outlinewidth": 0,
             "ticks": ""
            },
            "type": "contourcarpet"
           }
          ],
          "heatmap": [
           {
            "colorbar": {
             "outlinewidth": 0,
             "ticks": ""
            },
            "colorscale": [
             [
              0,
              "#0d0887"
             ],
             [
              0.1111111111111111,
              "#46039f"
             ],
             [
              0.2222222222222222,
              "#7201a8"
             ],
             [
              0.3333333333333333,
              "#9c179e"
             ],
             [
              0.4444444444444444,
              "#bd3786"
             ],
             [
              0.5555555555555556,
              "#d8576b"
             ],
             [
              0.6666666666666666,
              "#ed7953"
             ],
             [
              0.7777777777777778,
              "#fb9f3a"
             ],
             [
              0.8888888888888888,
              "#fdca26"
             ],
             [
              1,
              "#f0f921"
             ]
            ],
            "type": "heatmap"
           }
          ],
          "heatmapgl": [
           {
            "colorbar": {
             "outlinewidth": 0,
             "ticks": ""
            },
            "colorscale": [
             [
              0,
              "#0d0887"
             ],
             [
              0.1111111111111111,
              "#46039f"
             ],
             [
              0.2222222222222222,
              "#7201a8"
             ],
             [
              0.3333333333333333,
              "#9c179e"
             ],
             [
              0.4444444444444444,
              "#bd3786"
             ],
             [
              0.5555555555555556,
              "#d8576b"
             ],
             [
              0.6666666666666666,
              "#ed7953"
             ],
             [
              0.7777777777777778,
              "#fb9f3a"
             ],
             [
              0.8888888888888888,
              "#fdca26"
             ],
             [
              1,
              "#f0f921"
             ]
            ],
            "type": "heatmapgl"
           }
          ],
          "histogram": [
           {
            "marker": {
             "pattern": {
              "fillmode": "overlay",
              "size": 10,
              "solidity": 0.2
             }
            },
            "type": "histogram"
           }
          ],
          "histogram2d": [
           {
            "colorbar": {
             "outlinewidth": 0,
             "ticks": ""
            },
            "colorscale": [
             [
              0,
              "#0d0887"
             ],
             [
              0.1111111111111111,
              "#46039f"
             ],
             [
              0.2222222222222222,
              "#7201a8"
             ],
             [
              0.3333333333333333,
              "#9c179e"
             ],
             [
              0.4444444444444444,
              "#bd3786"
             ],
             [
              0.5555555555555556,
              "#d8576b"
             ],
             [
              0.6666666666666666,
              "#ed7953"
             ],
             [
              0.7777777777777778,
              "#fb9f3a"
             ],
             [
              0.8888888888888888,
              "#fdca26"
             ],
             [
              1,
              "#f0f921"
             ]
            ],
            "type": "histogram2d"
           }
          ],
          "histogram2dcontour": [
           {
            "colorbar": {
             "outlinewidth": 0,
             "ticks": ""
            },
            "colorscale": [
             [
              0,
              "#0d0887"
             ],
             [
              0.1111111111111111,
              "#46039f"
             ],
             [
              0.2222222222222222,
              "#7201a8"
             ],
             [
              0.3333333333333333,
              "#9c179e"
             ],
             [
              0.4444444444444444,
              "#bd3786"
             ],
             [
              0.5555555555555556,
              "#d8576b"
             ],
             [
              0.6666666666666666,
              "#ed7953"
             ],
             [
              0.7777777777777778,
              "#fb9f3a"
             ],
             [
              0.8888888888888888,
              "#fdca26"
             ],
             [
              1,
              "#f0f921"
             ]
            ],
            "type": "histogram2dcontour"
           }
          ],
          "mesh3d": [
           {
            "colorbar": {
             "outlinewidth": 0,
             "ticks": ""
            },
            "type": "mesh3d"
           }
          ],
          "parcoords": [
           {
            "line": {
             "colorbar": {
              "outlinewidth": 0,
              "ticks": ""
             }
            },
            "type": "parcoords"
           }
          ],
          "pie": [
           {
            "automargin": true,
            "type": "pie"
           }
          ],
          "scatter": [
           {
            "fillpattern": {
             "fillmode": "overlay",
             "size": 10,
             "solidity": 0.2
            },
            "type": "scatter"
           }
          ],
          "scatter3d": [
           {
            "line": {
             "colorbar": {
              "outlinewidth": 0,
              "ticks": ""
             }
            },
            "marker": {
             "colorbar": {
              "outlinewidth": 0,
              "ticks": ""
             }
            },
            "type": "scatter3d"
           }
          ],
          "scattercarpet": [
           {
            "marker": {
             "colorbar": {
              "outlinewidth": 0,
              "ticks": ""
             }
            },
            "type": "scattercarpet"
           }
          ],
          "scattergeo": [
           {
            "marker": {
             "colorbar": {
              "outlinewidth": 0,
              "ticks": ""
             }
            },
            "type": "scattergeo"
           }
          ],
          "scattergl": [
           {
            "marker": {
             "colorbar": {
              "outlinewidth": 0,
              "ticks": ""
             }
            },
            "type": "scattergl"
           }
          ],
          "scattermapbox": [
           {
            "marker": {
             "colorbar": {
              "outlinewidth": 0,
              "ticks": ""
             }
            },
            "type": "scattermapbox"
           }
          ],
          "scatterpolar": [
           {
            "marker": {
             "colorbar": {
              "outlinewidth": 0,
              "ticks": ""
             }
            },
            "type": "scatterpolar"
           }
          ],
          "scatterpolargl": [
           {
            "marker": {
             "colorbar": {
              "outlinewidth": 0,
              "ticks": ""
             }
            },
            "type": "scatterpolargl"
           }
          ],
          "scatterternary": [
           {
            "marker": {
             "colorbar": {
              "outlinewidth": 0,
              "ticks": ""
             }
            },
            "type": "scatterternary"
           }
          ],
          "surface": [
           {
            "colorbar": {
             "outlinewidth": 0,
             "ticks": ""
            },
            "colorscale": [
             [
              0,
              "#0d0887"
             ],
             [
              0.1111111111111111,
              "#46039f"
             ],
             [
              0.2222222222222222,
              "#7201a8"
             ],
             [
              0.3333333333333333,
              "#9c179e"
             ],
             [
              0.4444444444444444,
              "#bd3786"
             ],
             [
              0.5555555555555556,
              "#d8576b"
             ],
             [
              0.6666666666666666,
              "#ed7953"
             ],
             [
              0.7777777777777778,
              "#fb9f3a"
             ],
             [
              0.8888888888888888,
              "#fdca26"
             ],
             [
              1,
              "#f0f921"
             ]
            ],
            "type": "surface"
           }
          ],
          "table": [
           {
            "cells": {
             "fill": {
              "color": "#EBF0F8"
             },
             "line": {
              "color": "white"
             }
            },
            "header": {
             "fill": {
              "color": "#C8D4E3"
             },
             "line": {
              "color": "white"
             }
            },
            "type": "table"
           }
          ]
         },
         "layout": {
          "annotationdefaults": {
           "arrowcolor": "#2a3f5f",
           "arrowhead": 0,
           "arrowwidth": 1
          },
          "autotypenumbers": "strict",
          "coloraxis": {
           "colorbar": {
            "outlinewidth": 0,
            "ticks": ""
           }
          },
          "colorscale": {
           "diverging": [
            [
             0,
             "#8e0152"
            ],
            [
             0.1,
             "#c51b7d"
            ],
            [
             0.2,
             "#de77ae"
            ],
            [
             0.3,
             "#f1b6da"
            ],
            [
             0.4,
             "#fde0ef"
            ],
            [
             0.5,
             "#f7f7f7"
            ],
            [
             0.6,
             "#e6f5d0"
            ],
            [
             0.7,
             "#b8e186"
            ],
            [
             0.8,
             "#7fbc41"
            ],
            [
             0.9,
             "#4d9221"
            ],
            [
             1,
             "#276419"
            ]
           ],
           "sequential": [
            [
             0,
             "#0d0887"
            ],
            [
             0.1111111111111111,
             "#46039f"
            ],
            [
             0.2222222222222222,
             "#7201a8"
            ],
            [
             0.3333333333333333,
             "#9c179e"
            ],
            [
             0.4444444444444444,
             "#bd3786"
            ],
            [
             0.5555555555555556,
             "#d8576b"
            ],
            [
             0.6666666666666666,
             "#ed7953"
            ],
            [
             0.7777777777777778,
             "#fb9f3a"
            ],
            [
             0.8888888888888888,
             "#fdca26"
            ],
            [
             1,
             "#f0f921"
            ]
           ],
           "sequentialminus": [
            [
             0,
             "#0d0887"
            ],
            [
             0.1111111111111111,
             "#46039f"
            ],
            [
             0.2222222222222222,
             "#7201a8"
            ],
            [
             0.3333333333333333,
             "#9c179e"
            ],
            [
             0.4444444444444444,
             "#bd3786"
            ],
            [
             0.5555555555555556,
             "#d8576b"
            ],
            [
             0.6666666666666666,
             "#ed7953"
            ],
            [
             0.7777777777777778,
             "#fb9f3a"
            ],
            [
             0.8888888888888888,
             "#fdca26"
            ],
            [
             1,
             "#f0f921"
            ]
           ]
          },
          "colorway": [
           "#636efa",
           "#EF553B",
           "#00cc96",
           "#ab63fa",
           "#FFA15A",
           "#19d3f3",
           "#FF6692",
           "#B6E880",
           "#FF97FF",
           "#FECB52"
          ],
          "font": {
           "color": "#2a3f5f"
          },
          "geo": {
           "bgcolor": "white",
           "lakecolor": "white",
           "landcolor": "#E5ECF6",
           "showlakes": true,
           "showland": true,
           "subunitcolor": "white"
          },
          "hoverlabel": {
           "align": "left"
          },
          "hovermode": "closest",
          "mapbox": {
           "style": "light"
          },
          "paper_bgcolor": "white",
          "plot_bgcolor": "#E5ECF6",
          "polar": {
           "angularaxis": {
            "gridcolor": "white",
            "linecolor": "white",
            "ticks": ""
           },
           "bgcolor": "#E5ECF6",
           "radialaxis": {
            "gridcolor": "white",
            "linecolor": "white",
            "ticks": ""
           }
          },
          "scene": {
           "xaxis": {
            "backgroundcolor": "#E5ECF6",
            "gridcolor": "white",
            "gridwidth": 2,
            "linecolor": "white",
            "showbackground": true,
            "ticks": "",
            "zerolinecolor": "white"
           },
           "yaxis": {
            "backgroundcolor": "#E5ECF6",
            "gridcolor": "white",
            "gridwidth": 2,
            "linecolor": "white",
            "showbackground": true,
            "ticks": "",
            "zerolinecolor": "white"
           },
           "zaxis": {
            "backgroundcolor": "#E5ECF6",
            "gridcolor": "white",
            "gridwidth": 2,
            "linecolor": "white",
            "showbackground": true,
            "ticks": "",
            "zerolinecolor": "white"
           }
          },
          "shapedefaults": {
           "line": {
            "color": "#2a3f5f"
           }
          },
          "ternary": {
           "aaxis": {
            "gridcolor": "white",
            "linecolor": "white",
            "ticks": ""
           },
           "baxis": {
            "gridcolor": "white",
            "linecolor": "white",
            "ticks": ""
           },
           "bgcolor": "#E5ECF6",
           "caxis": {
            "gridcolor": "white",
            "linecolor": "white",
            "ticks": ""
           }
          },
          "title": {
           "x": 0.05
          },
          "xaxis": {
           "automargin": true,
           "gridcolor": "white",
           "linecolor": "white",
           "ticks": "",
           "title": {
            "standoff": 15
           },
           "zerolinecolor": "white",
           "zerolinewidth": 2
          },
          "yaxis": {
           "automargin": true,
           "gridcolor": "white",
           "linecolor": "white",
           "ticks": "",
           "title": {
            "standoff": 15
           },
           "zerolinecolor": "white",
           "zerolinewidth": 2
          }
         }
        },
        "xaxis": {
         "anchor": "y",
         "domain": [
          0,
          1
         ],
         "title": {
          "text": "State"
         }
        },
        "yaxis": {
         "anchor": "x",
         "domain": [
          0,
          1
         ],
         "title": {
          "text": "Tuition and fees"
         }
        }
       }
      }
     },
     "metadata": {},
     "output_type": "display_data"
    }
   ],
   "source": [
    "fig = px.box(df.sort_values(by=['State-mean-tuition-fees'], ascending=False), x=\"State\", y=\"Tuition and fees\")\n",
    "fig.show()"
   ]
  },
  {
   "attachments": {},
   "cell_type": "markdown",
   "metadata": {},
   "source": [
    "- create a box plot of \"State\",and \"Rank"
   ]
  },
  {
   "cell_type": "code",
   "execution_count": 19,
   "metadata": {},
   "outputs": [
    {
     "data": {
      "application/vnd.plotly.v1+json": {
       "config": {
        "plotlyServerURL": "https://plot.ly"
       },
       "data": [
        {
         "alignmentgroup": "True",
         "hovertemplate": "State=%{x}<br>Rank=%{y}<extra></extra>",
         "legendgroup": "",
         "marker": {
          "color": "#636efa"
         },
         "name": "",
         "notched": false,
         "offsetgroup": "",
         "orientation": "v",
         "showlegend": false,
         "type": "box",
         "x": [
          "NH",
          "NH",
          "GA",
          "GA",
          "GA",
          "GA",
          "MD",
          "MD",
          "MD",
          "DE",
          "DC",
          "DC",
          "DC",
          "DC",
          "DC",
          "CT",
          "CT",
          "CT",
          "RI",
          "RI",
          "SC",
          "SC",
          "MA",
          "MA",
          "MA",
          "MA",
          "MA",
          "MA",
          "MA",
          "MA",
          "MA",
          "MA",
          "MA",
          "MA",
          "MA",
          "MA",
          "MA",
          "CA",
          "CA",
          "CA",
          "CA",
          "CA",
          "CA",
          "CA",
          "CA",
          "CA",
          "CA",
          "CA",
          "CA",
          "CA",
          "CA",
          "CA",
          "CA",
          "CA",
          "CA",
          "CA",
          "CA",
          "CA",
          "CA",
          "VT",
          "PA",
          "PA",
          "PA",
          "PA",
          "PA",
          "PA",
          "PA",
          "PA",
          "PA",
          "PA",
          "PA",
          "PA",
          "NY",
          "NY",
          "NY",
          "NY",
          "NY",
          "NY",
          "NY",
          "NY",
          "NY",
          "NY",
          "NY",
          "NY",
          "NY",
          "NY",
          "NY",
          "NY",
          "NY",
          "NY",
          "NY",
          "NY",
          "NY",
          "MN",
          "MN",
          "IA",
          "IA",
          "WI",
          "WI",
          "WI",
          "NJ",
          "NJ",
          "NJ",
          "NJ",
          "NJ",
          "NJ",
          "NJ",
          "IN",
          "IN",
          "IN",
          "IN",
          "IN",
          "TX",
          "TX",
          "TX",
          "TX",
          "TX",
          "TX",
          "TX",
          "TX",
          "TX",
          "TX",
          "NE",
          "OK",
          "OK",
          "OK",
          "CO",
          "CO",
          "CO",
          "CO",
          "CO",
          "WA",
          "WA",
          "WA",
          "IL",
          "IL",
          "IL",
          "IL",
          "IL",
          "IL",
          "IL",
          "IL",
          "IL",
          "IL",
          "IL",
          "OR",
          "OR",
          "VA",
          "VA",
          "VA",
          "VA",
          "VA",
          "VA",
          "VA",
          "LA",
          "LA",
          "LA",
          "NC",
          "NC",
          "NC",
          "NC",
          "NC",
          "NC",
          "NC",
          "NC",
          "KS",
          "AZ",
          "AZ",
          "KS",
          "OH",
          "OH",
          "OH",
          "OH",
          "OH",
          "OH",
          "OH",
          "OH",
          "OH",
          "FL",
          "FL",
          "FL",
          "FL",
          "FL",
          "FL",
          "FL",
          "UT",
          "UT",
          "UT",
          "MI",
          "MI",
          "MI",
          "MI",
          "MI",
          "MI",
          "AR",
          "TN",
          "TN",
          "TN",
          "TN",
          "TN",
          "AL",
          "AL",
          "AL",
          "AL",
          "MO",
          "MO",
          "MO",
          "MO",
          "MO",
          "MO",
          "MO",
          "KY",
          "KY",
          "HI",
          "ID",
          "WY",
          "MS",
          "MS",
          "MS",
          "ME",
          "WV",
          "ND",
          "ND",
          "NV",
          "NM",
          "NM",
          "AK",
          "SD",
          "SD",
          "MT",
          "MT"
         ],
         "x0": " ",
         "xaxis": "x",
         "y": [
          107,
          11,
          56,
          135,
          34,
          20,
          60,
          159,
          10,
          79,
          56,
          74,
          124,
          20,
          124,
          3,
          188,
          60,
          159,
          14,
          66,
          107,
          7,
          74,
          39,
          220,
          34,
          31,
          74,
          39,
          27,
          220,
          2,
          60,
          188,
          197,
          152,
          152,
          107,
          5,
          152,
          50,
          146,
          164,
          44,
          202,
          39,
          220,
          20,
          23,
          24,
          44,
          86,
          118,
          12,
          37,
          79,
          183,
          111,
          92,
          124,
          118,
          68,
          96,
          50,
          50,
          183,
          152,
          8,
          44,
          188,
          24,
          86,
          32,
          188,
          146,
          15,
          96,
          5,
          99,
          99,
          60,
          36,
          107,
          129,
          66,
          39,
          146,
          60,
          133,
          164,
          146,
          129,
          118,
          71,
          111,
          82,
          86,
          171,
          44,
          135,
          135,
          176,
          118,
          1,
          70,
          71,
          60,
          176,
          86,
          15,
          197,
          71,
          56,
          214,
          56,
          74,
          146,
          82,
          15,
          176,
          194,
          111,
          86,
          152,
          111,
          197,
          86,
          129,
          82,
          92,
          159,
          54,
          143,
          44,
          214,
          152,
          214,
          12,
          3,
          124,
          99,
          103,
          152,
          220,
          103,
          143,
          32,
          24,
          210,
          164,
          143,
          74,
          220,
          135,
          202,
          39,
          27,
          30,
          220,
          8,
          220,
          92,
          210,
          202,
          118,
          124,
          129,
          135,
          188,
          135,
          54,
          111,
          194,
          214,
          79,
          37,
          146,
          50,
          92,
          44,
          171,
          176,
          159,
          214,
          220,
          68,
          111,
          202,
          82,
          194,
          118,
          183,
          27,
          135,
          15,
          169,
          220,
          103,
          176,
          159,
          103,
          197,
          99,
          220,
          96,
          19,
          164,
          111,
          164,
          210,
          171,
          133,
          169,
          171,
          171,
          135,
          176,
          220,
          183,
          183,
          202,
          188,
          197,
          220,
          176,
          202,
          202,
          202,
          210,
          214
         ],
         "y0": " ",
         "yaxis": "y"
        }
       ],
       "layout": {
        "boxmode": "group",
        "legend": {
         "tracegroupgap": 0
        },
        "margin": {
         "t": 60
        },
        "template": {
         "data": {
          "bar": [
           {
            "error_x": {
             "color": "#2a3f5f"
            },
            "error_y": {
             "color": "#2a3f5f"
            },
            "marker": {
             "line": {
              "color": "#E5ECF6",
              "width": 0.5
             },
             "pattern": {
              "fillmode": "overlay",
              "size": 10,
              "solidity": 0.2
             }
            },
            "type": "bar"
           }
          ],
          "barpolar": [
           {
            "marker": {
             "line": {
              "color": "#E5ECF6",
              "width": 0.5
             },
             "pattern": {
              "fillmode": "overlay",
              "size": 10,
              "solidity": 0.2
             }
            },
            "type": "barpolar"
           }
          ],
          "carpet": [
           {
            "aaxis": {
             "endlinecolor": "#2a3f5f",
             "gridcolor": "white",
             "linecolor": "white",
             "minorgridcolor": "white",
             "startlinecolor": "#2a3f5f"
            },
            "baxis": {
             "endlinecolor": "#2a3f5f",
             "gridcolor": "white",
             "linecolor": "white",
             "minorgridcolor": "white",
             "startlinecolor": "#2a3f5f"
            },
            "type": "carpet"
           }
          ],
          "choropleth": [
           {
            "colorbar": {
             "outlinewidth": 0,
             "ticks": ""
            },
            "type": "choropleth"
           }
          ],
          "contour": [
           {
            "colorbar": {
             "outlinewidth": 0,
             "ticks": ""
            },
            "colorscale": [
             [
              0,
              "#0d0887"
             ],
             [
              0.1111111111111111,
              "#46039f"
             ],
             [
              0.2222222222222222,
              "#7201a8"
             ],
             [
              0.3333333333333333,
              "#9c179e"
             ],
             [
              0.4444444444444444,
              "#bd3786"
             ],
             [
              0.5555555555555556,
              "#d8576b"
             ],
             [
              0.6666666666666666,
              "#ed7953"
             ],
             [
              0.7777777777777778,
              "#fb9f3a"
             ],
             [
              0.8888888888888888,
              "#fdca26"
             ],
             [
              1,
              "#f0f921"
             ]
            ],
            "type": "contour"
           }
          ],
          "contourcarpet": [
           {
            "colorbar": {
             "outlinewidth": 0,
             "ticks": ""
            },
            "type": "contourcarpet"
           }
          ],
          "heatmap": [
           {
            "colorbar": {
             "outlinewidth": 0,
             "ticks": ""
            },
            "colorscale": [
             [
              0,
              "#0d0887"
             ],
             [
              0.1111111111111111,
              "#46039f"
             ],
             [
              0.2222222222222222,
              "#7201a8"
             ],
             [
              0.3333333333333333,
              "#9c179e"
             ],
             [
              0.4444444444444444,
              "#bd3786"
             ],
             [
              0.5555555555555556,
              "#d8576b"
             ],
             [
              0.6666666666666666,
              "#ed7953"
             ],
             [
              0.7777777777777778,
              "#fb9f3a"
             ],
             [
              0.8888888888888888,
              "#fdca26"
             ],
             [
              1,
              "#f0f921"
             ]
            ],
            "type": "heatmap"
           }
          ],
          "heatmapgl": [
           {
            "colorbar": {
             "outlinewidth": 0,
             "ticks": ""
            },
            "colorscale": [
             [
              0,
              "#0d0887"
             ],
             [
              0.1111111111111111,
              "#46039f"
             ],
             [
              0.2222222222222222,
              "#7201a8"
             ],
             [
              0.3333333333333333,
              "#9c179e"
             ],
             [
              0.4444444444444444,
              "#bd3786"
             ],
             [
              0.5555555555555556,
              "#d8576b"
             ],
             [
              0.6666666666666666,
              "#ed7953"
             ],
             [
              0.7777777777777778,
              "#fb9f3a"
             ],
             [
              0.8888888888888888,
              "#fdca26"
             ],
             [
              1,
              "#f0f921"
             ]
            ],
            "type": "heatmapgl"
           }
          ],
          "histogram": [
           {
            "marker": {
             "pattern": {
              "fillmode": "overlay",
              "size": 10,
              "solidity": 0.2
             }
            },
            "type": "histogram"
           }
          ],
          "histogram2d": [
           {
            "colorbar": {
             "outlinewidth": 0,
             "ticks": ""
            },
            "colorscale": [
             [
              0,
              "#0d0887"
             ],
             [
              0.1111111111111111,
              "#46039f"
             ],
             [
              0.2222222222222222,
              "#7201a8"
             ],
             [
              0.3333333333333333,
              "#9c179e"
             ],
             [
              0.4444444444444444,
              "#bd3786"
             ],
             [
              0.5555555555555556,
              "#d8576b"
             ],
             [
              0.6666666666666666,
              "#ed7953"
             ],
             [
              0.7777777777777778,
              "#fb9f3a"
             ],
             [
              0.8888888888888888,
              "#fdca26"
             ],
             [
              1,
              "#f0f921"
             ]
            ],
            "type": "histogram2d"
           }
          ],
          "histogram2dcontour": [
           {
            "colorbar": {
             "outlinewidth": 0,
             "ticks": ""
            },
            "colorscale": [
             [
              0,
              "#0d0887"
             ],
             [
              0.1111111111111111,
              "#46039f"
             ],
             [
              0.2222222222222222,
              "#7201a8"
             ],
             [
              0.3333333333333333,
              "#9c179e"
             ],
             [
              0.4444444444444444,
              "#bd3786"
             ],
             [
              0.5555555555555556,
              "#d8576b"
             ],
             [
              0.6666666666666666,
              "#ed7953"
             ],
             [
              0.7777777777777778,
              "#fb9f3a"
             ],
             [
              0.8888888888888888,
              "#fdca26"
             ],
             [
              1,
              "#f0f921"
             ]
            ],
            "type": "histogram2dcontour"
           }
          ],
          "mesh3d": [
           {
            "colorbar": {
             "outlinewidth": 0,
             "ticks": ""
            },
            "type": "mesh3d"
           }
          ],
          "parcoords": [
           {
            "line": {
             "colorbar": {
              "outlinewidth": 0,
              "ticks": ""
             }
            },
            "type": "parcoords"
           }
          ],
          "pie": [
           {
            "automargin": true,
            "type": "pie"
           }
          ],
          "scatter": [
           {
            "fillpattern": {
             "fillmode": "overlay",
             "size": 10,
             "solidity": 0.2
            },
            "type": "scatter"
           }
          ],
          "scatter3d": [
           {
            "line": {
             "colorbar": {
              "outlinewidth": 0,
              "ticks": ""
             }
            },
            "marker": {
             "colorbar": {
              "outlinewidth": 0,
              "ticks": ""
             }
            },
            "type": "scatter3d"
           }
          ],
          "scattercarpet": [
           {
            "marker": {
             "colorbar": {
              "outlinewidth": 0,
              "ticks": ""
             }
            },
            "type": "scattercarpet"
           }
          ],
          "scattergeo": [
           {
            "marker": {
             "colorbar": {
              "outlinewidth": 0,
              "ticks": ""
             }
            },
            "type": "scattergeo"
           }
          ],
          "scattergl": [
           {
            "marker": {
             "colorbar": {
              "outlinewidth": 0,
              "ticks": ""
             }
            },
            "type": "scattergl"
           }
          ],
          "scattermapbox": [
           {
            "marker": {
             "colorbar": {
              "outlinewidth": 0,
              "ticks": ""
             }
            },
            "type": "scattermapbox"
           }
          ],
          "scatterpolar": [
           {
            "marker": {
             "colorbar": {
              "outlinewidth": 0,
              "ticks": ""
             }
            },
            "type": "scatterpolar"
           }
          ],
          "scatterpolargl": [
           {
            "marker": {
             "colorbar": {
              "outlinewidth": 0,
              "ticks": ""
             }
            },
            "type": "scatterpolargl"
           }
          ],
          "scatterternary": [
           {
            "marker": {
             "colorbar": {
              "outlinewidth": 0,
              "ticks": ""
             }
            },
            "type": "scatterternary"
           }
          ],
          "surface": [
           {
            "colorbar": {
             "outlinewidth": 0,
             "ticks": ""
            },
            "colorscale": [
             [
              0,
              "#0d0887"
             ],
             [
              0.1111111111111111,
              "#46039f"
             ],
             [
              0.2222222222222222,
              "#7201a8"
             ],
             [
              0.3333333333333333,
              "#9c179e"
             ],
             [
              0.4444444444444444,
              "#bd3786"
             ],
             [
              0.5555555555555556,
              "#d8576b"
             ],
             [
              0.6666666666666666,
              "#ed7953"
             ],
             [
              0.7777777777777778,
              "#fb9f3a"
             ],
             [
              0.8888888888888888,
              "#fdca26"
             ],
             [
              1,
              "#f0f921"
             ]
            ],
            "type": "surface"
           }
          ],
          "table": [
           {
            "cells": {
             "fill": {
              "color": "#EBF0F8"
             },
             "line": {
              "color": "white"
             }
            },
            "header": {
             "fill": {
              "color": "#C8D4E3"
             },
             "line": {
              "color": "white"
             }
            },
            "type": "table"
           }
          ]
         },
         "layout": {
          "annotationdefaults": {
           "arrowcolor": "#2a3f5f",
           "arrowhead": 0,
           "arrowwidth": 1
          },
          "autotypenumbers": "strict",
          "coloraxis": {
           "colorbar": {
            "outlinewidth": 0,
            "ticks": ""
           }
          },
          "colorscale": {
           "diverging": [
            [
             0,
             "#8e0152"
            ],
            [
             0.1,
             "#c51b7d"
            ],
            [
             0.2,
             "#de77ae"
            ],
            [
             0.3,
             "#f1b6da"
            ],
            [
             0.4,
             "#fde0ef"
            ],
            [
             0.5,
             "#f7f7f7"
            ],
            [
             0.6,
             "#e6f5d0"
            ],
            [
             0.7,
             "#b8e186"
            ],
            [
             0.8,
             "#7fbc41"
            ],
            [
             0.9,
             "#4d9221"
            ],
            [
             1,
             "#276419"
            ]
           ],
           "sequential": [
            [
             0,
             "#0d0887"
            ],
            [
             0.1111111111111111,
             "#46039f"
            ],
            [
             0.2222222222222222,
             "#7201a8"
            ],
            [
             0.3333333333333333,
             "#9c179e"
            ],
            [
             0.4444444444444444,
             "#bd3786"
            ],
            [
             0.5555555555555556,
             "#d8576b"
            ],
            [
             0.6666666666666666,
             "#ed7953"
            ],
            [
             0.7777777777777778,
             "#fb9f3a"
            ],
            [
             0.8888888888888888,
             "#fdca26"
            ],
            [
             1,
             "#f0f921"
            ]
           ],
           "sequentialminus": [
            [
             0,
             "#0d0887"
            ],
            [
             0.1111111111111111,
             "#46039f"
            ],
            [
             0.2222222222222222,
             "#7201a8"
            ],
            [
             0.3333333333333333,
             "#9c179e"
            ],
            [
             0.4444444444444444,
             "#bd3786"
            ],
            [
             0.5555555555555556,
             "#d8576b"
            ],
            [
             0.6666666666666666,
             "#ed7953"
            ],
            [
             0.7777777777777778,
             "#fb9f3a"
            ],
            [
             0.8888888888888888,
             "#fdca26"
            ],
            [
             1,
             "#f0f921"
            ]
           ]
          },
          "colorway": [
           "#636efa",
           "#EF553B",
           "#00cc96",
           "#ab63fa",
           "#FFA15A",
           "#19d3f3",
           "#FF6692",
           "#B6E880",
           "#FF97FF",
           "#FECB52"
          ],
          "font": {
           "color": "#2a3f5f"
          },
          "geo": {
           "bgcolor": "white",
           "lakecolor": "white",
           "landcolor": "#E5ECF6",
           "showlakes": true,
           "showland": true,
           "subunitcolor": "white"
          },
          "hoverlabel": {
           "align": "left"
          },
          "hovermode": "closest",
          "mapbox": {
           "style": "light"
          },
          "paper_bgcolor": "white",
          "plot_bgcolor": "#E5ECF6",
          "polar": {
           "angularaxis": {
            "gridcolor": "white",
            "linecolor": "white",
            "ticks": ""
           },
           "bgcolor": "#E5ECF6",
           "radialaxis": {
            "gridcolor": "white",
            "linecolor": "white",
            "ticks": ""
           }
          },
          "scene": {
           "xaxis": {
            "backgroundcolor": "#E5ECF6",
            "gridcolor": "white",
            "gridwidth": 2,
            "linecolor": "white",
            "showbackground": true,
            "ticks": "",
            "zerolinecolor": "white"
           },
           "yaxis": {
            "backgroundcolor": "#E5ECF6",
            "gridcolor": "white",
            "gridwidth": 2,
            "linecolor": "white",
            "showbackground": true,
            "ticks": "",
            "zerolinecolor": "white"
           },
           "zaxis": {
            "backgroundcolor": "#E5ECF6",
            "gridcolor": "white",
            "gridwidth": 2,
            "linecolor": "white",
            "showbackground": true,
            "ticks": "",
            "zerolinecolor": "white"
           }
          },
          "shapedefaults": {
           "line": {
            "color": "#2a3f5f"
           }
          },
          "ternary": {
           "aaxis": {
            "gridcolor": "white",
            "linecolor": "white",
            "ticks": ""
           },
           "baxis": {
            "gridcolor": "white",
            "linecolor": "white",
            "ticks": ""
           },
           "bgcolor": "#E5ECF6",
           "caxis": {
            "gridcolor": "white",
            "linecolor": "white",
            "ticks": ""
           }
          },
          "title": {
           "x": 0.05
          },
          "xaxis": {
           "automargin": true,
           "gridcolor": "white",
           "linecolor": "white",
           "ticks": "",
           "title": {
            "standoff": 15
           },
           "zerolinecolor": "white",
           "zerolinewidth": 2
          },
          "yaxis": {
           "automargin": true,
           "gridcolor": "white",
           "linecolor": "white",
           "ticks": "",
           "title": {
            "standoff": 15
           },
           "zerolinecolor": "white",
           "zerolinewidth": 2
          }
         }
        },
        "xaxis": {
         "anchor": "y",
         "domain": [
          0,
          1
         ],
         "title": {
          "text": "State"
         }
        },
        "yaxis": {
         "anchor": "x",
         "domain": [
          0,
          1
         ],
         "title": {
          "text": "Rank"
         }
        }
       }
      }
     },
     "metadata": {},
     "output_type": "display_data"
    }
   ],
   "source": [
    "fig = px.box(df.sort_values(by=['State-mean-rankings']), x=\"State\", y=\"Rank\")\n",
    "fig.show()"
   ]
  },
  {
   "attachments": {},
   "cell_type": "markdown",
   "metadata": {},
   "source": [
    "- The tendency is clear, those states that have the highest ranked universities also tend to have the most expensive ones.\n",
    "----\n",
    "- using 'groupby' function create a heatmap of that columns 'quantile-rank', 'quantile-tuition-fees'"
   ]
  },
  {
   "cell_type": "code",
   "execution_count": 20,
   "metadata": {},
   "outputs": [
    {
     "data": {
      "application/vnd.plotly.v1+json": {
       "config": {
        "plotlyServerURL": "https://plot.ly"
       },
       "data": [
        {
         "coloraxis": "coloraxis",
         "histfunc": "sum",
         "hovertemplate": "quantile-rank=%{x}<br>quantile-tuition-fees=%{y}<br>sum of count=%{z}<extra></extra>",
         "name": "",
         "type": "histogram2d",
         "x": [
          "great reputation",
          "great reputation",
          "great reputation",
          "good reputation",
          "good reputation",
          "good reputation",
          "good reputation",
          "average reputation",
          "average reputation",
          "average reputation",
          "average reputation",
          "low reputation",
          "low reputation",
          "low reputation",
          "low reputation"
         ],
         "xaxis": "x",
         "xbingroup": "x",
         "y": [
          "very expensive",
          "expensive",
          "average",
          "very expensive",
          "average",
          "expensive",
          "low",
          "average",
          "expensive",
          "low",
          "very expensive",
          "low",
          "average",
          "expensive",
          "very expensive"
         ],
         "yaxis": "y",
         "ybingroup": "y",
         "z": [
          42,
          13,
          4,
          12,
          19,
          19,
          8,
          19,
          20,
          17,
          2,
          33,
          16,
          5,
          2
         ]
        }
       ],
       "layout": {
        "coloraxis": {
         "colorbar": {
          "title": {
           "text": "sum of count"
          }
         },
         "colorscale": [
          [
           0,
           "#0d0887"
          ],
          [
           0.1111111111111111,
           "#46039f"
          ],
          [
           0.2222222222222222,
           "#7201a8"
          ],
          [
           0.3333333333333333,
           "#9c179e"
          ],
          [
           0.4444444444444444,
           "#bd3786"
          ],
          [
           0.5555555555555556,
           "#d8576b"
          ],
          [
           0.6666666666666666,
           "#ed7953"
          ],
          [
           0.7777777777777778,
           "#fb9f3a"
          ],
          [
           0.8888888888888888,
           "#fdca26"
          ],
          [
           1,
           "#f0f921"
          ]
         ]
        },
        "legend": {
         "tracegroupgap": 0
        },
        "margin": {
         "t": 60
        },
        "template": {
         "data": {
          "bar": [
           {
            "error_x": {
             "color": "#2a3f5f"
            },
            "error_y": {
             "color": "#2a3f5f"
            },
            "marker": {
             "line": {
              "color": "#E5ECF6",
              "width": 0.5
             },
             "pattern": {
              "fillmode": "overlay",
              "size": 10,
              "solidity": 0.2
             }
            },
            "type": "bar"
           }
          ],
          "barpolar": [
           {
            "marker": {
             "line": {
              "color": "#E5ECF6",
              "width": 0.5
             },
             "pattern": {
              "fillmode": "overlay",
              "size": 10,
              "solidity": 0.2
             }
            },
            "type": "barpolar"
           }
          ],
          "carpet": [
           {
            "aaxis": {
             "endlinecolor": "#2a3f5f",
             "gridcolor": "white",
             "linecolor": "white",
             "minorgridcolor": "white",
             "startlinecolor": "#2a3f5f"
            },
            "baxis": {
             "endlinecolor": "#2a3f5f",
             "gridcolor": "white",
             "linecolor": "white",
             "minorgridcolor": "white",
             "startlinecolor": "#2a3f5f"
            },
            "type": "carpet"
           }
          ],
          "choropleth": [
           {
            "colorbar": {
             "outlinewidth": 0,
             "ticks": ""
            },
            "type": "choropleth"
           }
          ],
          "contour": [
           {
            "colorbar": {
             "outlinewidth": 0,
             "ticks": ""
            },
            "colorscale": [
             [
              0,
              "#0d0887"
             ],
             [
              0.1111111111111111,
              "#46039f"
             ],
             [
              0.2222222222222222,
              "#7201a8"
             ],
             [
              0.3333333333333333,
              "#9c179e"
             ],
             [
              0.4444444444444444,
              "#bd3786"
             ],
             [
              0.5555555555555556,
              "#d8576b"
             ],
             [
              0.6666666666666666,
              "#ed7953"
             ],
             [
              0.7777777777777778,
              "#fb9f3a"
             ],
             [
              0.8888888888888888,
              "#fdca26"
             ],
             [
              1,
              "#f0f921"
             ]
            ],
            "type": "contour"
           }
          ],
          "contourcarpet": [
           {
            "colorbar": {
             "outlinewidth": 0,
             "ticks": ""
            },
            "type": "contourcarpet"
           }
          ],
          "heatmap": [
           {
            "colorbar": {
             "outlinewidth": 0,
             "ticks": ""
            },
            "colorscale": [
             [
              0,
              "#0d0887"
             ],
             [
              0.1111111111111111,
              "#46039f"
             ],
             [
              0.2222222222222222,
              "#7201a8"
             ],
             [
              0.3333333333333333,
              "#9c179e"
             ],
             [
              0.4444444444444444,
              "#bd3786"
             ],
             [
              0.5555555555555556,
              "#d8576b"
             ],
             [
              0.6666666666666666,
              "#ed7953"
             ],
             [
              0.7777777777777778,
              "#fb9f3a"
             ],
             [
              0.8888888888888888,
              "#fdca26"
             ],
             [
              1,
              "#f0f921"
             ]
            ],
            "type": "heatmap"
           }
          ],
          "heatmapgl": [
           {
            "colorbar": {
             "outlinewidth": 0,
             "ticks": ""
            },
            "colorscale": [
             [
              0,
              "#0d0887"
             ],
             [
              0.1111111111111111,
              "#46039f"
             ],
             [
              0.2222222222222222,
              "#7201a8"
             ],
             [
              0.3333333333333333,
              "#9c179e"
             ],
             [
              0.4444444444444444,
              "#bd3786"
             ],
             [
              0.5555555555555556,
              "#d8576b"
             ],
             [
              0.6666666666666666,
              "#ed7953"
             ],
             [
              0.7777777777777778,
              "#fb9f3a"
             ],
             [
              0.8888888888888888,
              "#fdca26"
             ],
             [
              1,
              "#f0f921"
             ]
            ],
            "type": "heatmapgl"
           }
          ],
          "histogram": [
           {
            "marker": {
             "pattern": {
              "fillmode": "overlay",
              "size": 10,
              "solidity": 0.2
             }
            },
            "type": "histogram"
           }
          ],
          "histogram2d": [
           {
            "colorbar": {
             "outlinewidth": 0,
             "ticks": ""
            },
            "colorscale": [
             [
              0,
              "#0d0887"
             ],
             [
              0.1111111111111111,
              "#46039f"
             ],
             [
              0.2222222222222222,
              "#7201a8"
             ],
             [
              0.3333333333333333,
              "#9c179e"
             ],
             [
              0.4444444444444444,
              "#bd3786"
             ],
             [
              0.5555555555555556,
              "#d8576b"
             ],
             [
              0.6666666666666666,
              "#ed7953"
             ],
             [
              0.7777777777777778,
              "#fb9f3a"
             ],
             [
              0.8888888888888888,
              "#fdca26"
             ],
             [
              1,
              "#f0f921"
             ]
            ],
            "type": "histogram2d"
           }
          ],
          "histogram2dcontour": [
           {
            "colorbar": {
             "outlinewidth": 0,
             "ticks": ""
            },
            "colorscale": [
             [
              0,
              "#0d0887"
             ],
             [
              0.1111111111111111,
              "#46039f"
             ],
             [
              0.2222222222222222,
              "#7201a8"
             ],
             [
              0.3333333333333333,
              "#9c179e"
             ],
             [
              0.4444444444444444,
              "#bd3786"
             ],
             [
              0.5555555555555556,
              "#d8576b"
             ],
             [
              0.6666666666666666,
              "#ed7953"
             ],
             [
              0.7777777777777778,
              "#fb9f3a"
             ],
             [
              0.8888888888888888,
              "#fdca26"
             ],
             [
              1,
              "#f0f921"
             ]
            ],
            "type": "histogram2dcontour"
           }
          ],
          "mesh3d": [
           {
            "colorbar": {
             "outlinewidth": 0,
             "ticks": ""
            },
            "type": "mesh3d"
           }
          ],
          "parcoords": [
           {
            "line": {
             "colorbar": {
              "outlinewidth": 0,
              "ticks": ""
             }
            },
            "type": "parcoords"
           }
          ],
          "pie": [
           {
            "automargin": true,
            "type": "pie"
           }
          ],
          "scatter": [
           {
            "fillpattern": {
             "fillmode": "overlay",
             "size": 10,
             "solidity": 0.2
            },
            "type": "scatter"
           }
          ],
          "scatter3d": [
           {
            "line": {
             "colorbar": {
              "outlinewidth": 0,
              "ticks": ""
             }
            },
            "marker": {
             "colorbar": {
              "outlinewidth": 0,
              "ticks": ""
             }
            },
            "type": "scatter3d"
           }
          ],
          "scattercarpet": [
           {
            "marker": {
             "colorbar": {
              "outlinewidth": 0,
              "ticks": ""
             }
            },
            "type": "scattercarpet"
           }
          ],
          "scattergeo": [
           {
            "marker": {
             "colorbar": {
              "outlinewidth": 0,
              "ticks": ""
             }
            },
            "type": "scattergeo"
           }
          ],
          "scattergl": [
           {
            "marker": {
             "colorbar": {
              "outlinewidth": 0,
              "ticks": ""
             }
            },
            "type": "scattergl"
           }
          ],
          "scattermapbox": [
           {
            "marker": {
             "colorbar": {
              "outlinewidth": 0,
              "ticks": ""
             }
            },
            "type": "scattermapbox"
           }
          ],
          "scatterpolar": [
           {
            "marker": {
             "colorbar": {
              "outlinewidth": 0,
              "ticks": ""
             }
            },
            "type": "scatterpolar"
           }
          ],
          "scatterpolargl": [
           {
            "marker": {
             "colorbar": {
              "outlinewidth": 0,
              "ticks": ""
             }
            },
            "type": "scatterpolargl"
           }
          ],
          "scatterternary": [
           {
            "marker": {
             "colorbar": {
              "outlinewidth": 0,
              "ticks": ""
             }
            },
            "type": "scatterternary"
           }
          ],
          "surface": [
           {
            "colorbar": {
             "outlinewidth": 0,
             "ticks": ""
            },
            "colorscale": [
             [
              0,
              "#0d0887"
             ],
             [
              0.1111111111111111,
              "#46039f"
             ],
             [
              0.2222222222222222,
              "#7201a8"
             ],
             [
              0.3333333333333333,
              "#9c179e"
             ],
             [
              0.4444444444444444,
              "#bd3786"
             ],
             [
              0.5555555555555556,
              "#d8576b"
             ],
             [
              0.6666666666666666,
              "#ed7953"
             ],
             [
              0.7777777777777778,
              "#fb9f3a"
             ],
             [
              0.8888888888888888,
              "#fdca26"
             ],
             [
              1,
              "#f0f921"
             ]
            ],
            "type": "surface"
           }
          ],
          "table": [
           {
            "cells": {
             "fill": {
              "color": "#EBF0F8"
             },
             "line": {
              "color": "white"
             }
            },
            "header": {
             "fill": {
              "color": "#C8D4E3"
             },
             "line": {
              "color": "white"
             }
            },
            "type": "table"
           }
          ]
         },
         "layout": {
          "annotationdefaults": {
           "arrowcolor": "#2a3f5f",
           "arrowhead": 0,
           "arrowwidth": 1
          },
          "autotypenumbers": "strict",
          "coloraxis": {
           "colorbar": {
            "outlinewidth": 0,
            "ticks": ""
           }
          },
          "colorscale": {
           "diverging": [
            [
             0,
             "#8e0152"
            ],
            [
             0.1,
             "#c51b7d"
            ],
            [
             0.2,
             "#de77ae"
            ],
            [
             0.3,
             "#f1b6da"
            ],
            [
             0.4,
             "#fde0ef"
            ],
            [
             0.5,
             "#f7f7f7"
            ],
            [
             0.6,
             "#e6f5d0"
            ],
            [
             0.7,
             "#b8e186"
            ],
            [
             0.8,
             "#7fbc41"
            ],
            [
             0.9,
             "#4d9221"
            ],
            [
             1,
             "#276419"
            ]
           ],
           "sequential": [
            [
             0,
             "#0d0887"
            ],
            [
             0.1111111111111111,
             "#46039f"
            ],
            [
             0.2222222222222222,
             "#7201a8"
            ],
            [
             0.3333333333333333,
             "#9c179e"
            ],
            [
             0.4444444444444444,
             "#bd3786"
            ],
            [
             0.5555555555555556,
             "#d8576b"
            ],
            [
             0.6666666666666666,
             "#ed7953"
            ],
            [
             0.7777777777777778,
             "#fb9f3a"
            ],
            [
             0.8888888888888888,
             "#fdca26"
            ],
            [
             1,
             "#f0f921"
            ]
           ],
           "sequentialminus": [
            [
             0,
             "#0d0887"
            ],
            [
             0.1111111111111111,
             "#46039f"
            ],
            [
             0.2222222222222222,
             "#7201a8"
            ],
            [
             0.3333333333333333,
             "#9c179e"
            ],
            [
             0.4444444444444444,
             "#bd3786"
            ],
            [
             0.5555555555555556,
             "#d8576b"
            ],
            [
             0.6666666666666666,
             "#ed7953"
            ],
            [
             0.7777777777777778,
             "#fb9f3a"
            ],
            [
             0.8888888888888888,
             "#fdca26"
            ],
            [
             1,
             "#f0f921"
            ]
           ]
          },
          "colorway": [
           "#636efa",
           "#EF553B",
           "#00cc96",
           "#ab63fa",
           "#FFA15A",
           "#19d3f3",
           "#FF6692",
           "#B6E880",
           "#FF97FF",
           "#FECB52"
          ],
          "font": {
           "color": "#2a3f5f"
          },
          "geo": {
           "bgcolor": "white",
           "lakecolor": "white",
           "landcolor": "#E5ECF6",
           "showlakes": true,
           "showland": true,
           "subunitcolor": "white"
          },
          "hoverlabel": {
           "align": "left"
          },
          "hovermode": "closest",
          "mapbox": {
           "style": "light"
          },
          "paper_bgcolor": "white",
          "plot_bgcolor": "#E5ECF6",
          "polar": {
           "angularaxis": {
            "gridcolor": "white",
            "linecolor": "white",
            "ticks": ""
           },
           "bgcolor": "#E5ECF6",
           "radialaxis": {
            "gridcolor": "white",
            "linecolor": "white",
            "ticks": ""
           }
          },
          "scene": {
           "xaxis": {
            "backgroundcolor": "#E5ECF6",
            "gridcolor": "white",
            "gridwidth": 2,
            "linecolor": "white",
            "showbackground": true,
            "ticks": "",
            "zerolinecolor": "white"
           },
           "yaxis": {
            "backgroundcolor": "#E5ECF6",
            "gridcolor": "white",
            "gridwidth": 2,
            "linecolor": "white",
            "showbackground": true,
            "ticks": "",
            "zerolinecolor": "white"
           },
           "zaxis": {
            "backgroundcolor": "#E5ECF6",
            "gridcolor": "white",
            "gridwidth": 2,
            "linecolor": "white",
            "showbackground": true,
            "ticks": "",
            "zerolinecolor": "white"
           }
          },
          "shapedefaults": {
           "line": {
            "color": "#2a3f5f"
           }
          },
          "ternary": {
           "aaxis": {
            "gridcolor": "white",
            "linecolor": "white",
            "ticks": ""
           },
           "baxis": {
            "gridcolor": "white",
            "linecolor": "white",
            "ticks": ""
           },
           "bgcolor": "#E5ECF6",
           "caxis": {
            "gridcolor": "white",
            "linecolor": "white",
            "ticks": ""
           }
          },
          "title": {
           "x": 0.05
          },
          "xaxis": {
           "automargin": true,
           "gridcolor": "white",
           "linecolor": "white",
           "ticks": "",
           "title": {
            "standoff": 15
           },
           "zerolinecolor": "white",
           "zerolinewidth": 2
          },
          "yaxis": {
           "automargin": true,
           "gridcolor": "white",
           "linecolor": "white",
           "ticks": "",
           "title": {
            "standoff": 15
           },
           "zerolinecolor": "white",
           "zerolinewidth": 2
          }
         }
        },
        "xaxis": {
         "anchor": "y",
         "domain": [
          0,
          1
         ],
         "title": {
          "text": "quantile-rank"
         }
        },
        "yaxis": {
         "anchor": "x",
         "domain": [
          0,
          1
         ],
         "title": {
          "text": "quantile-tuition-fees"
         }
        }
       }
      }
     },
     "metadata": {},
     "output_type": "display_data"
    }
   ],
   "source": [
    "heatmap_df = df[['quantile-rank', 'quantile-tuition-fees']]\n",
    "heatmap_df[\"count\"] = heatmap_df.groupby(['quantile-rank', 'quantile-tuition-fees'])['quantile-rank'].transform('count')\n",
    "heatmap_df = heatmap_df.drop_duplicates()\n",
    "fig = px.density_heatmap(heatmap_df,\n",
    "                x='quantile-rank',\n",
    "                y='quantile-tuition-fees',\n",
    "                z='count'\n",
    "               )\n",
    "fig.show()"
   ]
  },
  {
   "attachments": {},
   "cell_type": "markdown",
   "metadata": {},
   "source": [
    "- Just like it was observed in the previous boxplot graphs, universities with a high reputation also tend to be more expensive.\n",
    "## Observations\n",
    "*There are a few reasons why universities that are higher in rankings tend to have higher tuition fees. First, higher-ranked universities often have a reputation for offering a higher quality education, which can make them more attractive to students. As a result, these universities may be able to charge higher tuition fees because students are willing to pay more for a better education. In addition, higher-ranked universities may also offer more specialized programs or facilities, such as state-of-the-art laboratories or research facilities, which can also contribute to their higher costs. Overall, there are many factors that can contribute to higher tuition fees at higher-ranked universities.*"
   ]
  },
  {
   "attachments": {},
   "cell_type": "markdown",
   "metadata": {},
   "source": [
    "---\n",
    "- craate a scatter plot of that column \"Tuition and fees\", and \"Undergrad Enrollment\""
   ]
  },
  {
   "cell_type": "code",
   "execution_count": 21,
   "metadata": {},
   "outputs": [
    {
     "data": {
      "application/vnd.plotly.v1+json": {
       "config": {
        "plotlyServerURL": "https://plot.ly"
       },
       "data": [
        {
         "hovertemplate": "<b>%{hovertext}</b><br><br>State=NJ<br>Tuition and fees=%{x}<br>Undergrad Enrollment=%{y}<extra></extra>",
         "hovertext": [
          "Princeton University",
          "Rutgers University--New Brunswick",
          "Stevens Institute of Technology",
          "Seton Hall University",
          "New Jersey Institute of Technology",
          "Rutgers University--Newark",
          "Montclair State University"
         ],
         "legendgroup": "NJ",
         "marker": {
          "color": "#636efa",
          "symbol": "circle"
         },
         "mode": "markers",
         "name": "NJ",
         "orientation": "v",
         "showlegend": true,
         "type": "scatter",
         "x": [
          45320,
          30023,
          48838,
          39258,
          30326,
          29480,
          20318
         ],
         "xaxis": "x",
         "y": [
          402,
          5484,
          873,
          90,
          8,
          713,
          6336
         ],
         "yaxis": "y"
        },
        {
         "hovertemplate": "<b>%{hovertext}</b><br><br>State=MA<br>Tuition and fees=%{x}<br>Undergrad Enrollment=%{y}<extra></extra>",
         "hovertext": [
          "Harvard University",
          "Massachusetts Institute of Technology",
          "Tufts University",
          "Boston College",
          "Brandeis University",
          "Boston University",
          "Northeastern University",
          "Worcester Polytechnic Institute",
          "Clark University",
          "University of Massachusetts--Amherst",
          "University of Massachusetts--Lowell",
          "Suffolk University",
          "Lesley University",
          "University of Massachusetts--Boston",
          "University of Massachusetts--Dartmouth"
         ],
         "legendgroup": "MA",
         "marker": {
          "color": "#EF553B",
          "symbol": "circle"
         },
         "mode": "markers",
         "name": "MA",
         "orientation": "v",
         "showlegend": true,
         "type": "scatter",
         "x": [
          47074,
          48452,
          52430,
          51296,
          51570,
          50240,
          47655,
          46994,
          43150,
          30123,
          29125,
          35578,
          25750,
          32023,
          19270
         ],
         "xaxis": "x",
         "y": [
          699,
          527,
          290,
          192,
          621,
          7932,
          3697,
          299,
          397,
          2748,
          3266,
          565,
          520,
          2949,
          295
         ],
         "yaxis": "y"
        },
        {
         "hovertemplate": "<b>%{hovertext}</b><br><br>State=IL<br>Tuition and fees=%{x}<br>Undergrad Enrollment=%{y}<extra></extra>",
         "hovertext": [
          "University of Chicago",
          "Northwestern University",
          "University of Illinois--Urbana-Champaign",
          "Loyola University Chicago",
          "Illinois Institute of Technology",
          "DePaul University",
          "Illinois State University",
          "University of Illinois--Chicago",
          "Northern Illinois University",
          "Southern Illinois University--Carbondale",
          "Benedictine University"
         ],
         "legendgroup": "IL",
         "marker": {
          "color": "#00cc96",
          "symbol": "circle"
         },
         "mode": "markers",
         "name": "IL",
         "orientation": "v",
         "showlegend": true,
         "type": "scatter",
         "x": [
          52491,
          50855,
          31320,
          41384,
          45214,
          37626,
          20886,
          26526,
          23799,
          27130,
          32170
         ],
         "xaxis": "x",
         "y": [
          844,
          314,
          3368,
          1079,
          991,
          5961,
          8426,
          7575,
          5027,
          3031,
          347
         ],
         "yaxis": "y"
        },
        {
         "hovertemplate": "<b>%{hovertext}</b><br><br>State=CT<br>Tuition and fees=%{x}<br>Undergrad Enrollment=%{y}<extra></extra>",
         "hovertext": [
          "Yale University",
          "University of Connecticut",
          "University of Hartford"
         ],
         "legendgroup": "CT",
         "marker": {
          "color": "#ab63fa",
          "symbol": "circle"
         },
         "mode": "markers",
         "name": "CT",
         "orientation": "v",
         "showlegend": true,
         "type": "scatter",
         "x": [
          49480,
          35858,
          37790
         ],
         "xaxis": "x",
         "y": [
          532,
          8826,
          246
         ],
         "yaxis": "y"
        },
        {
         "hovertemplate": "<b>%{hovertext}</b><br><br>State=NY<br>Tuition and fees=%{x}<br>Undergrad Enrollment=%{y}<extra></extra>",
         "hovertext": [
          "Columbia University",
          "Cornell University",
          "University of Rochester",
          "New York University",
          "Rensselaer Polytechnic Institute",
          "Fordham University",
          "Syracuse University",
          "Yeshiva University",
          "Binghamton University--SUNY",
          "Stony Brook University--SUNY",
          "SUNY College of Environmental Science and Forestry",
          "University at Buffalo--SUNY",
          "Rochester Institute of Technology",
          "Clarkson University",
          "New School",
          "Hofstra University",
          "Adelphi University",
          "St. John Fisher College",
          "University at Albany--SUNY",
          "St. John's University",
          "Pace University"
         ],
         "legendgroup": "NY",
         "marker": {
          "color": "#FFA15A",
          "symbol": "circle"
         },
         "mode": "markers",
         "name": "NY",
         "orientation": "v",
         "showlegend": true,
         "type": "scatter",
         "x": [
          55056,
          50953,
          50142,
          49062,
          50797,
          47317,
          45022,
          40670,
          22164,
          26266,
          17620,
          26270,
          38568,
          46132,
          45535,
          42160,
          34034,
          31880,
          22244,
          39460,
          42772
         ],
         "xaxis": "x",
         "y": [
          102,
          4315,
          304,
          5722,
          864,
          855,
          5196,
          744,
          3491,
          6831,
          839,
          9951,
          2607,
          257,
          792,
          824,
          852,
          805,
          2908,
          6210,
          747
         ],
         "yaxis": "y"
        },
        {
         "hovertemplate": "<b>%{hovertext}</b><br><br>State=CA<br>Tuition and fees=%{x}<br>Undergrad Enrollment=%{y}<extra></extra>",
         "hovertext": [
          "Stanford University",
          "California Institute of Technology",
          "University of California--Berkeley",
          "University of Southern California",
          "University of California--Los Angeles",
          "University of California--Santa Barbara",
          "University of California--Irvine",
          "University of California--Davis",
          "University of California--San Diego",
          "Pepperdine University",
          "University of California--Santa Cruz",
          "University of San Diego",
          "University of San Francisco",
          "University of the Pacific",
          "University of California--Riverside",
          "San Diego State University",
          "University of California--Merced",
          "University of La Verne",
          "Biola University",
          "Azusa Pacific University",
          "California State University--Fullerton",
          "California State University--Fresno"
         ],
         "legendgroup": "CA",
         "marker": {
          "color": "#19d3f3",
          "symbol": "circle"
         },
         "mode": "markers",
         "name": "CA",
         "orientation": "v",
         "showlegend": true,
         "type": "scatter",
         "x": [
          47940,
          47577,
          40191,
          52217,
          39518,
          40704,
          39458,
          40728,
          41387,
          50022,
          40241,
          46140,
          44494,
          44588,
          40263,
          18244,
          39944,
          39900,
          36696,
          36120,
          17596,
          17209
         ],
         "xaxis": "x",
         "y": [
          999,
          1,
          7496,
          8810,
          9585,
          607,
          5256,
          8384,
          6590,
          533,
          6231,
          647,
          782,
          735,
          8608,
          9234,
          237,
          864,
          225,
          883,
          3144,
          1482
         ],
         "yaxis": "y"
        },
        {
         "hovertemplate": "<b>%{hovertext}</b><br><br>State=NC<br>Tuition and fees=%{x}<br>Undergrad Enrollment=%{y}<extra></extra>",
         "hovertext": [
          "Duke University",
          "Wake Forest University",
          "University of North Carolina--Chapel Hill",
          "North Carolina State University--Raleigh",
          "University of North Carolina--Charlotte",
          "East Carolina University",
          "Gardner-Webb University",
          "University of North Carolina--Greensboro"
         ],
         "legendgroup": "NC",
         "marker": {
          "color": "#FF6692",
          "symbol": "circle"
         },
         "mode": "markers",
         "name": "NC",
         "orientation": "v",
         "showlegend": true,
         "type": "scatter",
         "x": [
          51265,
          49308,
          33916,
          26399,
          20193,
          22904,
          29850,
          21595
         ],
         "xaxis": "x",
         "y": [
          639,
          871,
          8415,
          4111,
          2732,
          3039,
          615,
          5951
         ],
         "yaxis": "y"
        },
        {
         "hovertemplate": "<b>%{hovertext}</b><br><br>State=PA<br>Tuition and fees=%{x}<br>Undergrad Enrollment=%{y}<extra></extra>",
         "hovertext": [
          "University of Pennsylvania",
          "Carnegie Mellon University",
          "Lehigh University",
          "Villanova University",
          "Pennsylvania State University--University Park",
          "University of Pittsburgh",
          "Drexel University",
          "Temple University",
          "Duquesne University",
          "Immaculata University",
          "Widener University",
          "Robert Morris University"
         ],
         "legendgroup": "PA",
         "marker": {
          "color": "#B6E880",
          "symbol": "circle"
         },
         "mode": "markers",
         "name": "PA",
         "orientation": "v",
         "showlegend": true,
         "type": "scatter",
         "x": [
          51464,
          52040,
          48320,
          49280,
          32382,
          29758,
          51030,
          25994,
          35062,
          35210,
          42870,
          28250
         ],
         "xaxis": "x",
         "y": [
          726,
          454,
          75,
          994,
          742,
          8908,
          4138,
          8609,
          961,
          790,
          554,
          497
         ],
         "yaxis": "y"
        },
        {
         "hovertemplate": "<b>%{hovertext}</b><br><br>State=MD<br>Tuition and fees=%{x}<br>Undergrad Enrollment=%{y}<extra></extra>",
         "hovertext": [
          "Johns Hopkins University",
          "University of Maryland--College Park",
          "University of Maryland--Baltimore County"
         ],
         "legendgroup": "MD",
         "marker": {
          "color": "#FF97FF",
          "symbol": "circle"
         },
         "mode": "markers",
         "name": "MD",
         "orientation": "v",
         "showlegend": true,
         "type": "scatter",
         "x": [
          50410,
          32045,
          24492
         ],
         "xaxis": "x",
         "y": [
          524,
          7443,
          1243
         ],
         "yaxis": "y"
        },
        {
         "hovertemplate": "<b>%{hovertext}</b><br><br>State=NH<br>Tuition and fees=%{x}<br>Undergrad Enrollment=%{y}<extra></extra>",
         "hovertext": [
          "Dartmouth College",
          "University of New Hampshire"
         ],
         "legendgroup": "NH",
         "marker": {
          "color": "#FECB52",
          "symbol": "circle"
         },
         "mode": "markers",
         "name": "NH",
         "orientation": "v",
         "showlegend": true,
         "type": "scatter",
         "x": [
          51438,
          31424
         ],
         "xaxis": "x",
         "y": [
          307,
          3034
         ],
         "yaxis": "y"
        },
        {
         "hovertemplate": "<b>%{hovertext}</b><br><br>State=RI<br>Tuition and fees=%{x}<br>Undergrad Enrollment=%{y}<extra></extra>",
         "hovertext": [
          "Brown University",
          "University of Rhode Island"
         ],
         "legendgroup": "RI",
         "marker": {
          "color": "#636efa",
          "symbol": "circle"
         },
         "mode": "markers",
         "name": "RI",
         "orientation": "v",
         "showlegend": true,
         "type": "scatter",
         "x": [
          51367,
          28852
         ],
         "xaxis": "x",
         "y": [
          652,
          3641
         ],
         "yaxis": "y"
        },
        {
         "hovertemplate": "<b>%{hovertext}</b><br><br>State=TX<br>Tuition and fees=%{x}<br>Undergrad Enrollment=%{y}<extra></extra>",
         "hovertext": [
          "Rice University",
          "Southern Methodist University",
          "University of Texas--Austin",
          "Baylor University",
          "Texas A&M University--College Station",
          "Texas Christian University",
          "University of Texas--Dallas",
          "Texas Tech University",
          "University of Houston",
          "Dallas Baptist University"
         ],
         "legendgroup": "TX",
         "marker": {
          "color": "#EF553B",
          "symbol": "circle"
         },
         "mode": "markers",
         "name": "TX",
         "orientation": "v",
         "showlegend": true,
         "type": "scatter",
         "x": [
          43918,
          50358,
          34676,
          42006,
          28768,
          42670,
          33654,
          22861,
          25410,
          26180
         ],
         "xaxis": "x",
         "y": [
          910,
          411,
          9619,
          4189,
          8960,
          894,
          5575,
          9237,
          4716,
          315
         ],
         "yaxis": "y"
        },
        {
         "hovertemplate": "<b>%{hovertext}</b><br><br>State=IN<br>Tuition and fees=%{x}<br>Undergrad Enrollment=%{y}<extra></extra>",
         "hovertext": [
          "University of Notre Dame",
          "Purdue University--West Lafayette",
          "Indiana University--Bloomington",
          "Ball State University",
          "Indiana University-Purdue University--Indianapolis"
         ],
         "legendgroup": "IN",
         "marker": {
          "color": "#00cc96",
          "symbol": "circle"
         },
         "mode": "markers",
         "name": "IN",
         "orientation": "v",
         "showlegend": true,
         "type": "scatter",
         "x": [
          49685,
          28804,
          34246,
          25428,
          29791
         ],
         "xaxis": "x",
         "y": [
          462,
          9497,
          8364,
          6602,
          1985
         ],
         "yaxis": "y"
        },
        {
         "hovertemplate": "<b>%{hovertext}</b><br><br>State=TN<br>Tuition and fees=%{x}<br>Undergrad Enrollment=%{y}<extra></extra>",
         "hovertext": [
          "Vanderbilt University",
          "University of Tennessee",
          "Union University",
          "Lipscomb University",
          "Tennessee Technological University"
         ],
         "legendgroup": "TN",
         "marker": {
          "color": "#ab63fa",
          "symbol": "circle"
         },
         "mode": "markers",
         "name": "TN",
         "orientation": "v",
         "showlegend": true,
         "type": "scatter",
         "x": [
          45610,
          30858,
          30420,
          29756,
          24800
         ],
         "xaxis": "x",
         "y": [
          883,
          1863,
          829,
          30,
          801
         ],
         "yaxis": "y"
        },
        {
         "hovertemplate": "<b>%{hovertext}</b><br><br>State=MO<br>Tuition and fees=%{x}<br>Undergrad Enrollment=%{y}<extra></extra>",
         "hovertext": [
          "Washington University in St. Louis",
          "Saint Louis University",
          "University of Missouri",
          "Maryville University of St. Louis",
          "Missouri University of Science & Technology",
          "University of Missouri--Kansas City",
          "University of Missouri--St. Louis"
         ],
         "legendgroup": "MO",
         "marker": {
          "color": "#FFA15A",
          "symbol": "circle"
         },
         "mode": "markers",
         "name": "MO",
         "orientation": "v",
         "showlegend": true,
         "type": "scatter",
         "x": [
          49770,
          40726,
          25892,
          27958,
          26152,
          22714,
          26277
         ],
         "xaxis": "x",
         "y": [
          504,
          248,
          7812,
          795,
          841,
          1253,
          3569
         ],
         "yaxis": "y"
        },
        {
         "hovertemplate": "<b>%{hovertext}</b><br><br>State=GA<br>Tuition and fees=%{x}<br>Undergrad Enrollment=%{y}<extra></extra>",
         "hovertext": [
          "Emory University",
          "Georgia Institute of Technology",
          "University of Georgia",
          "Mercer University"
         ],
         "legendgroup": "GA",
         "marker": {
          "color": "#19d3f3",
          "symbol": "circle"
         },
         "mode": "markers",
         "name": "GA",
         "orientation": "v",
         "showlegend": true,
         "type": "scatter",
         "x": [
          47954,
          32404,
          29844,
          35130
         ],
         "xaxis": "x",
         "y": [
          867,
          5142,
          7547,
          667
         ],
         "yaxis": "y"
        },
        {
         "hovertemplate": "<b>%{hovertext}</b><br><br>State=DC<br>Tuition and fees=%{x}<br>Undergrad Enrollment=%{y}<extra></extra>",
         "hovertext": [
          "Georgetown University",
          "George Washington University",
          "American University",
          "The Catholic University of America",
          "Howard University"
         ],
         "legendgroup": "DC",
         "marker": {
          "color": "#FF6692",
          "symbol": "circle"
         },
         "mode": "markers",
         "name": "DC",
         "orientation": "v",
         "showlegend": true,
         "type": "scatter",
         "x": [
          50547,
          51950,
          44853,
          42536,
          24908
         ],
         "xaxis": "x",
         "y": [
          562,
          1157,
          909,
          480,
          883
         ],
         "yaxis": "y"
        },
        {
         "hovertemplate": "<b>%{hovertext}</b><br><br>State=VA<br>Tuition and fees=%{x}<br>Undergrad Enrollment=%{y}<extra></extra>",
         "hovertext": [
          "University of Virginia",
          "College of William & Mary",
          "Virginia Tech",
          "George Mason University",
          "Virginia Commonwealth University",
          "Old Dominion University",
          "Shenandoah University"
         ],
         "legendgroup": "VA",
         "marker": {
          "color": "#B6E880",
          "symbol": "circle"
         },
         "mode": "markers",
         "name": "VA",
         "orientation": "v",
         "showlegend": true,
         "type": "scatter",
         "x": [
          45066,
          41718,
          29371,
          32582,
          31608,
          27028,
          31322
         ],
         "xaxis": "x",
         "y": [
          6736,
          301,
          5384,
          3062,
          4051,
          101,
          10
         ],
         "yaxis": "y"
        },
        {
         "hovertemplate": "<b>%{hovertext}</b><br><br>State=MI<br>Tuition and fees=%{x}<br>Undergrad Enrollment=%{y}<extra></extra>",
         "hovertext": [
          "University of Michigan--Ann Arbor",
          "Michigan State University",
          "Michigan Technological University",
          "Andrews University",
          "Western Michigan University",
          "Central Michigan University"
         ],
         "legendgroup": "MI",
         "marker": {
          "color": "#FF97FF",
          "symbol": "circle"
         },
         "mode": "markers",
         "name": "MI",
         "orientation": "v",
         "showlegend": true,
         "type": "scatter",
         "x": [
          43476,
          39090,
          30968,
          27684,
          25713,
          23670
         ],
         "xaxis": "x",
         "y": [
          8312,
          9143,
          721,
          733,
          8567,
          498
         ],
         "yaxis": "y"
        },
        {
         "hovertemplate": "<b>%{hovertext}</b><br><br>State=OH<br>Tuition and fees=%{x}<br>Undergrad Enrollment=%{y}<extra></extra>",
         "hovertext": [
          "Case Western Reserve University",
          "Ohio State University--Columbus",
          "Miami University--Oxford",
          "University of Dayton",
          "University of Cincinnati",
          "Ohio University",
          "Kent State University",
          "Bowling Green State University",
          "Ashland University"
         ],
         "legendgroup": "OH",
         "marker": {
          "color": "#FECB52",
          "symbol": "circle"
         },
         "mode": "markers",
         "name": "OH",
         "orientation": "v",
         "showlegend": true,
         "type": "scatter",
         "x": [
          46006,
          29229,
          31592,
          40940,
          26334,
          21208,
          18376,
          18332,
          20392
         ],
         "xaxis": "x",
         "y": [
          121,
          5289,
          6387,
          665,
          5054,
          3513,
          3607,
          4334,
          716
         ],
         "yaxis": "y"
        },
        {
         "hovertemplate": "<b>%{hovertext}</b><br><br>State=LA<br>Tuition and fees=%{x}<br>Undergrad Enrollment=%{y}<extra></extra>",
         "hovertext": [
          "Tulane University",
          "Louisiana State University--Baton Rouge",
          "Louisiana Tech University"
         ],
         "legendgroup": "LA",
         "marker": {
          "color": "#636efa",
          "symbol": "circle"
         },
         "mode": "markers",
         "name": "LA",
         "orientation": "v",
         "showlegend": true,
         "type": "scatter",
         "x": [
          51010,
          27005,
          25851
         ],
         "xaxis": "x",
         "y": [
          662,
          6156,
          682
         ],
         "yaxis": "y"
        },
        {
         "hovertemplate": "<b>%{hovertext}</b><br><br>State=FL<br>Tuition and fees=%{x}<br>Undergrad Enrollment=%{y}<extra></extra>",
         "hovertext": [
          "University of Miami",
          "University of Florida",
          "Florida State University",
          "University of South Florida",
          "Florida Institute of Technology",
          "University of Central Florida",
          "Nova Southeastern University"
         ],
         "legendgroup": "FL",
         "marker": {
          "color": "#EF553B",
          "symbol": "circle"
         },
         "mode": "markers",
         "name": "FL",
         "orientation": "v",
         "showlegend": true,
         "type": "scatter",
         "x": [
          47004,
          28666,
          24673,
          17325,
          40446,
          22467,
          27660
         ],
         "xaxis": "x",
         "y": [
          1122,
          5043,
          2706,
          1111,
          586,
          4513,
          641
         ],
         "yaxis": "y"
        },
        {
         "hovertemplate": "<b>%{hovertext}</b><br><br>State=WI<br>Tuition and fees=%{x}<br>Undergrad Enrollment=%{y}<extra></extra>",
         "hovertext": [
          "University of Wisconsin--Madison",
          "Marquette University",
          "Edgewood College"
         ],
         "legendgroup": "WI",
         "marker": {
          "color": "#00cc96",
          "symbol": "circle"
         },
         "mode": "markers",
         "name": "WI",
         "orientation": "v",
         "showlegend": true,
         "type": "scatter",
         "x": [
          32738,
          38470,
          27530
         ],
         "xaxis": "x",
         "y": [
          1662,
          334,
          813
         ],
         "yaxis": "y"
        },
        {
         "hovertemplate": "<b>%{hovertext}</b><br><br>State=WA<br>Tuition and fees=%{x}<br>Undergrad Enrollment=%{y}<extra></extra>",
         "hovertext": [
          "University of Washington",
          "Washington State University",
          "Seattle Pacific University"
         ],
         "legendgroup": "WA",
         "marker": {
          "color": "#ab63fa",
          "symbol": "circle"
         },
         "mode": "markers",
         "name": "WA",
         "orientation": "v",
         "showlegend": true,
         "type": "scatter",
         "x": [
          34791,
          25673,
          38940
         ],
         "xaxis": "x",
         "y": [
          1063,
          4470,
          202
         ],
         "yaxis": "y"
        },
        {
         "hovertemplate": "<b>%{hovertext}</b><br><br>State=SC<br>Tuition and fees=%{x}<br>Undergrad Enrollment=%{y}<extra></extra>",
         "hovertext": [
          "Clemson University",
          "University of South Carolina"
         ],
         "legendgroup": "SC",
         "marker": {
          "color": "#FFA15A",
          "symbol": "circle"
         },
         "mode": "markers",
         "name": "SC",
         "orientation": "v",
         "showlegend": true,
         "type": "scatter",
         "x": [
          32796,
          31282
         ],
         "xaxis": "x",
         "y": [
          8016,
          5237
         ],
         "yaxis": "y"
        },
        {
         "hovertemplate": "<b>%{hovertext}</b><br><br>State=UT<br>Tuition and fees=%{x}<br>Undergrad Enrollment=%{y}<extra></extra>",
         "hovertext": [
          "Brigham Young University--Provo",
          "University of Utah",
          "Utah State University"
         ],
         "legendgroup": "UT",
         "marker": {
          "color": "#19d3f3",
          "symbol": "circle"
         },
         "mode": "markers",
         "name": "UT",
         "orientation": "v",
         "showlegend": true,
         "type": "scatter",
         "x": [
          5300,
          27039,
          19772
         ],
         "xaxis": "x",
         "y": [
          221,
          3794,
          5259
         ],
         "yaxis": "y"
        },
        {
         "hovertemplate": "<b>%{hovertext}</b><br><br>State=MN<br>Tuition and fees=%{x}<br>Undergrad Enrollment=%{y}<extra></extra>",
         "hovertext": [
          "University of Minnesota--Twin Cities",
          "University of St. Thomas"
         ],
         "legendgroup": "MN",
         "marker": {
          "color": "#FF6692",
          "symbol": "circle"
         },
         "mode": "markers",
         "name": "MN",
         "orientation": "v",
         "showlegend": true,
         "type": "scatter",
         "x": [
          22210,
          39594
         ],
         "xaxis": "x",
         "y": [
          4071,
          240
         ],
         "yaxis": "y"
        },
        {
         "hovertemplate": "<b>%{hovertext}</b><br><br>State=DE<br>Tuition and fees=%{x}<br>Undergrad Enrollment=%{y}<extra></extra>",
         "hovertext": [
          "University of Delaware"
         ],
         "legendgroup": "DE",
         "marker": {
          "color": "#B6E880",
          "symbol": "circle"
         },
         "mode": "markers",
         "name": "DE",
         "orientation": "v",
         "showlegend": true,
         "type": "scatter",
         "x": [
          31420
         ],
         "xaxis": "x",
         "y": [
          8322
         ],
         "yaxis": "y"
        },
        {
         "hovertemplate": "<b>%{hovertext}</b><br><br>State=CO<br>Tuition and fees=%{x}<br>Undergrad Enrollment=%{y}<extra></extra>",
         "hovertext": [
          "Colorado School of Mines",
          "University of Denver",
          "University of Colorado--Boulder",
          "Colorado State University",
          "University of Colorado--Denver"
         ],
         "legendgroup": "CO",
         "marker": {
          "color": "#FF97FF",
          "symbol": "circle"
         },
         "mode": "markers",
         "name": "CO",
         "orientation": "v",
         "showlegend": true,
         "type": "scatter",
         "x": [
          34828,
          46362,
          35079,
          28374,
          29334
         ],
         "xaxis": "x",
         "y": [
          608,
          758,
          7010,
          4433,
          4036
         ],
         "yaxis": "y"
        },
        {
         "hovertemplate": "<b>%{hovertext}</b><br><br>State=IA<br>Tuition and fees=%{x}<br>Undergrad Enrollment=%{y}<extra></extra>",
         "hovertext": [
          "University of Iowa",
          "Iowa State University"
         ],
         "legendgroup": "IA",
         "marker": {
          "color": "#FECB52",
          "symbol": "circle"
         },
         "mode": "markers",
         "name": "IA",
         "orientation": "v",
         "showlegend": true,
         "type": "scatter",
         "x": [
          28413,
          21483
         ],
         "xaxis": "x",
         "y": [
          3357,
          34
         ],
         "yaxis": "y"
        },
        {
         "hovertemplate": "<b>%{hovertext}</b><br><br>State=OK<br>Tuition and fees=%{x}<br>Undergrad Enrollment=%{y}<extra></extra>",
         "hovertext": [
          "University of Tulsa",
          "University of Oklahoma",
          "Oklahoma State University"
         ],
         "legendgroup": "OK",
         "marker": {
          "color": "#636efa",
          "symbol": "circle"
         },
         "mode": "markers",
         "name": "OK",
         "orientation": "v",
         "showlegend": true,
         "type": "scatter",
         "x": [
          38796,
          21451,
          20978
         ],
         "xaxis": "x",
         "y": [
          478,
          2132,
          1046
         ],
         "yaxis": "y"
        },
        {
         "hovertemplate": "<b>%{hovertext}</b><br><br>State=VT<br>Tuition and fees=%{x}<br>Undergrad Enrollment=%{y}<extra></extra>",
         "hovertext": [
          "University of Vermont"
         ],
         "legendgroup": "VT",
         "marker": {
          "color": "#EF553B",
          "symbol": "circle"
         },
         "mode": "markers",
         "name": "VT",
         "orientation": "v",
         "showlegend": true,
         "type": "scatter",
         "x": [
          40364
         ],
         "xaxis": "x",
         "y": [
          973
         ],
         "yaxis": "y"
        },
        {
         "hovertemplate": "<b>%{hovertext}</b><br><br>State=AL<br>Tuition and fees=%{x}<br>Undergrad Enrollment=%{y}<extra></extra>",
         "hovertext": [
          "Auburn University",
          "University of Alabama",
          "University of Alabama--Birmingham",
          "University of Alabama--Huntsville"
         ],
         "legendgroup": "AL",
         "marker": {
          "color": "#00cc96",
          "symbol": "circle"
         },
         "mode": "markers",
         "name": "AL",
         "orientation": "v",
         "showlegend": true,
         "type": "scatter",
         "x": [
          28840,
          26950,
          17654,
          20622
         ],
         "xaxis": "x",
         "y": [
          1786,
          1958,
          1511,
          13
         ],
         "yaxis": "y"
        },
        {
         "hovertemplate": "<b>%{hovertext}</b><br><br>State=OR<br>Tuition and fees=%{x}<br>Undergrad Enrollment=%{y}<extra></extra>",
         "hovertext": [
          "University of Oregon",
          "Oregon State University"
         ],
         "legendgroup": "OR",
         "marker": {
          "color": "#ab63fa",
          "symbol": "circle"
         },
         "mode": "markers",
         "name": "OR",
         "orientation": "v",
         "showlegend": true,
         "type": "scatter",
         "x": [
          33442,
          28846
         ],
         "xaxis": "x",
         "y": [
          538,
          4612
         ],
         "yaxis": "y"
        },
        {
         "hovertemplate": "<b>%{hovertext}</b><br><br>State=NE<br>Tuition and fees=%{x}<br>Undergrad Enrollment=%{y}<extra></extra>",
         "hovertext": [
          "University of Nebraska--Lincoln"
         ],
         "legendgroup": "NE",
         "marker": {
          "color": "#FFA15A",
          "symbol": "circle"
         },
         "mode": "markers",
         "name": "NE",
         "orientation": "v",
         "showlegend": true,
         "type": "scatter",
         "x": [
          23148
         ],
         "xaxis": "x",
         "y": [
          182
         ],
         "yaxis": "y"
        },
        {
         "hovertemplate": "<b>%{hovertext}</b><br><br>State=KS<br>Tuition and fees=%{x}<br>Undergrad Enrollment=%{y}<extra></extra>",
         "hovertext": [
          "University of Kansas",
          "Kansas State University"
         ],
         "legendgroup": "KS",
         "marker": {
          "color": "#19d3f3",
          "symbol": "circle"
         },
         "mode": "markers",
         "name": "KS",
         "orientation": "v",
         "showlegend": true,
         "type": "scatter",
         "x": [
          25932,
          23429
         ],
         "xaxis": "x",
         "y": [
          9245,
          9859
         ],
         "yaxis": "y"
        },
        {
         "hovertemplate": "<b>%{hovertext}</b><br><br>State=AZ<br>Tuition and fees=%{x}<br>Undergrad Enrollment=%{y}<extra></extra>",
         "hovertext": [
          "University of Arizona",
          "Arizona State University--Tempe"
         ],
         "legendgroup": "AZ",
         "marker": {
          "color": "#FF6692",
          "symbol": "circle"
         },
         "mode": "markers",
         "name": "AZ",
         "orientation": "v",
         "showlegend": true,
         "type": "scatter",
         "x": [
          30025,
          25458
         ],
         "xaxis": "x",
         "y": [
          3732,
          1828
         ],
         "yaxis": "y"
        },
        {
         "hovertemplate": "<b>%{hovertext}</b><br><br>State=KY<br>Tuition and fees=%{x}<br>Undergrad Enrollment=%{y}<extra></extra>",
         "hovertext": [
          "University of Kentucky",
          "University of Louisville"
         ],
         "legendgroup": "KY",
         "marker": {
          "color": "#B6E880",
          "symbol": "circle"
         },
         "mode": "markers",
         "name": "KY",
         "orientation": "v",
         "showlegend": true,
         "type": "scatter",
         "x": [
          26334,
          24626
         ],
         "xaxis": "x",
         "y": [
          2705,
          5769
         ],
         "yaxis": "y"
        },
        {
         "hovertemplate": "<b>%{hovertext}</b><br><br>State=AR<br>Tuition and fees=%{x}<br>Undergrad Enrollment=%{y}<extra></extra>",
         "hovertext": [
          "University of Arkansas"
         ],
         "legendgroup": "AR",
         "marker": {
          "color": "#FF97FF",
          "symbol": "circle"
         },
         "mode": "markers",
         "name": "AR",
         "orientation": "v",
         "showlegend": true,
         "type": "scatter",
         "x": [
          23168
         ],
         "xaxis": "x",
         "y": [
          2159
         ],
         "yaxis": "y"
        },
        {
         "hovertemplate": "<b>%{hovertext}</b><br><br>State=MS<br>Tuition and fees=%{x}<br>Undergrad Enrollment=%{y}<extra></extra>",
         "hovertext": [
          "University of Mississippi",
          "Mississippi State University",
          "University of Southern Mississippi"
         ],
         "legendgroup": "MS",
         "marker": {
          "color": "#FECB52",
          "symbol": "circle"
         },
         "mode": "markers",
         "name": "MS",
         "orientation": "v",
         "showlegend": true,
         "type": "scatter",
         "x": [
          22012,
          20142,
          16094
         ],
         "xaxis": "x",
         "y": [
          8785,
          7421,
          1840
         ],
         "yaxis": "y"
        },
        {
         "hovertemplate": "<b>%{hovertext}</b><br><br>State=HI<br>Tuition and fees=%{x}<br>Undergrad Enrollment=%{y}<extra></extra>",
         "hovertext": [
          "University of Hawaii--Manoa"
         ],
         "legendgroup": "HI",
         "marker": {
          "color": "#636efa",
          "symbol": "circle"
         },
         "mode": "markers",
         "name": "HI",
         "orientation": "v",
         "showlegend": true,
         "type": "scatter",
         "x": [
          33764
         ],
         "xaxis": "x",
         "y": [
          3689
         ],
         "yaxis": "y"
        },
        {
         "hovertemplate": "<b>%{hovertext}</b><br><br>State=ID<br>Tuition and fees=%{x}<br>Undergrad Enrollment=%{y}<extra></extra>",
         "hovertext": [
          "University of Idaho"
         ],
         "legendgroup": "ID",
         "marker": {
          "color": "#EF553B",
          "symbol": "circle"
         },
         "mode": "markers",
         "name": "ID",
         "orientation": "v",
         "showlegend": true,
         "type": "scatter",
         "x": [
          22040
         ],
         "xaxis": "x",
         "y": [
          116
         ],
         "yaxis": "y"
        },
        {
         "hovertemplate": "<b>%{hovertext}</b><br><br>State=WY<br>Tuition and fees=%{x}<br>Undergrad Enrollment=%{y}<extra></extra>",
         "hovertext": [
          "University of Wyoming"
         ],
         "legendgroup": "WY",
         "marker": {
          "color": "#00cc96",
          "symbol": "circle"
         },
         "mode": "markers",
         "name": "WY",
         "orientation": "v",
         "showlegend": true,
         "type": "scatter",
         "x": [
          16215
         ],
         "xaxis": "x",
         "y": [
          45
         ],
         "yaxis": "y"
        },
        {
         "hovertemplate": "<b>%{hovertext}</b><br><br>State=NM<br>Tuition and fees=%{x}<br>Undergrad Enrollment=%{y}<extra></extra>",
         "hovertext": [
          "University of New Mexico",
          "New Mexico State University"
         ],
         "legendgroup": "NM",
         "marker": {
          "color": "#ab63fa",
          "symbol": "circle"
         },
         "mode": "markers",
         "name": "NM",
         "orientation": "v",
         "showlegend": true,
         "type": "scatter",
         "x": [
          21302,
          21234
         ],
         "xaxis": "x",
         "y": [
          522,
          2526
         ],
         "yaxis": "y"
        },
        {
         "hovertemplate": "<b>%{hovertext}</b><br><br>State=ME<br>Tuition and fees=%{x}<br>Undergrad Enrollment=%{y}<extra></extra>",
         "hovertext": [
          "University of Maine"
         ],
         "legendgroup": "ME",
         "marker": {
          "color": "#FFA15A",
          "symbol": "circle"
         },
         "mode": "markers",
         "name": "ME",
         "orientation": "v",
         "showlegend": true,
         "type": "scatter",
         "x": [
          29498
         ],
         "xaxis": "x",
         "y": [
          297
         ],
         "yaxis": "y"
        },
        {
         "hovertemplate": "<b>%{hovertext}</b><br><br>State=WV<br>Tuition and fees=%{x}<br>Undergrad Enrollment=%{y}<extra></extra>",
         "hovertext": [
          "West Virginia University"
         ],
         "legendgroup": "WV",
         "marker": {
          "color": "#19d3f3",
          "symbol": "circle"
         },
         "mode": "markers",
         "name": "WV",
         "orientation": "v",
         "showlegend": true,
         "type": "scatter",
         "x": [
          21432
         ],
         "xaxis": "x",
         "y": [
          2498
         ],
         "yaxis": "y"
        },
        {
         "hovertemplate": "<b>%{hovertext}</b><br><br>State=ND<br>Tuition and fees=%{x}<br>Undergrad Enrollment=%{y}<extra></extra>",
         "hovertext": [
          "North Dakota State University",
          "University of North Dakota"
         ],
         "legendgroup": "ND",
         "marker": {
          "color": "#FF6692",
          "symbol": "circle"
         },
         "mode": "markers",
         "name": "ND",
         "orientation": "v",
         "showlegend": true,
         "type": "scatter",
         "x": [
          19790,
          18899
         ],
         "xaxis": "x",
         "y": [
          2037,
          1577
         ],
         "yaxis": "y"
        },
        {
         "hovertemplate": "<b>%{hovertext}</b><br><br>State=NV<br>Tuition and fees=%{x}<br>Undergrad Enrollment=%{y}<extra></extra>",
         "hovertext": [
          "University of Nevada--Reno"
         ],
         "legendgroup": "NV",
         "marker": {
          "color": "#B6E880",
          "symbol": "circle"
         },
         "mode": "markers",
         "name": "NV",
         "orientation": "v",
         "showlegend": true,
         "type": "scatter",
         "x": [
          21052
         ],
         "xaxis": "x",
         "y": [
          7770
         ],
         "yaxis": "y"
        },
        {
         "hovertemplate": "<b>%{hovertext}</b><br><br>State=SD<br>Tuition and fees=%{x}<br>Undergrad Enrollment=%{y}<extra></extra>",
         "hovertext": [
          "South Dakota State University",
          "University of South Dakota"
         ],
         "legendgroup": "SD",
         "marker": {
          "color": "#FF97FF",
          "symbol": "circle"
         },
         "mode": "markers",
         "name": "SD",
         "orientation": "v",
         "showlegend": true,
         "type": "scatter",
         "x": [
          11403,
          11688
         ],
         "xaxis": "x",
         "y": [
          1007,
          435
         ],
         "yaxis": "y"
        },
        {
         "hovertemplate": "<b>%{hovertext}</b><br><br>State=AK<br>Tuition and fees=%{x}<br>Undergrad Enrollment=%{y}<extra></extra>",
         "hovertext": [
          "University of Alaska--Fairbanks"
         ],
         "legendgroup": "AK",
         "marker": {
          "color": "#FECB52",
          "symbol": "circle"
         },
         "mode": "markers",
         "name": "AK",
         "orientation": "v",
         "showlegend": true,
         "type": "scatter",
         "x": [
          22469
         ],
         "xaxis": "x",
         "y": [
          610
         ],
         "yaxis": "y"
        },
        {
         "hovertemplate": "<b>%{hovertext}</b><br><br>State=MT<br>Tuition and fees=%{x}<br>Undergrad Enrollment=%{y}<extra></extra>",
         "hovertext": [
          "Montana State University",
          "University of Montana"
         ],
         "legendgroup": "MT",
         "marker": {
          "color": "#636efa",
          "symbol": "circle"
         },
         "mode": "markers",
         "name": "MT",
         "orientation": "v",
         "showlegend": true,
         "type": "scatter",
         "x": [
          23042,
          24562
         ],
         "xaxis": "x",
         "y": [
          3707,
          732
         ],
         "yaxis": "y"
        },
        {
         "hovertemplate": "<b>OLS trendline</b><br>Undergrad Enrollment = -0.0595185 * Tuition and fees + 4878.59<br>R<sup>2</sup>=0.047527<br><br>Tuition and fees=%{x}<br>Undergrad Enrollment=%{y} <b>(trend)</b><extra></extra>",
         "legendgroup": "Overall Trendline",
         "line": {
          "color": "#EF553B"
         },
         "mode": "lines",
         "name": "Overall Trendline",
         "showlegend": true,
         "type": "scatter",
         "x": [
          5300,
          11403,
          11688,
          16094,
          16215,
          17209,
          17325,
          17596,
          17620,
          17654,
          18244,
          18332,
          18376,
          18899,
          19270,
          19772,
          19790,
          20142,
          20193,
          20318,
          20392,
          20622,
          20886,
          20978,
          21052,
          21208,
          21234,
          21302,
          21432,
          21451,
          21483,
          21595,
          22012,
          22040,
          22164,
          22210,
          22244,
          22467,
          22469,
          22714,
          22861,
          22904,
          23042,
          23148,
          23168,
          23429,
          23670,
          23799,
          24492,
          24562,
          24626,
          24673,
          24800,
          24908,
          25410,
          25428,
          25458,
          25673,
          25713,
          25750,
          25851,
          25892,
          25932,
          25994,
          26152,
          26180,
          26266,
          26270,
          26277,
          26334,
          26334,
          26399,
          26526,
          26950,
          27005,
          27028,
          27039,
          27130,
          27530,
          27660,
          27684,
          27958,
          28250,
          28374,
          28413,
          28666,
          28768,
          28804,
          28840,
          28846,
          28852,
          29125,
          29229,
          29334,
          29371,
          29480,
          29498,
          29756,
          29758,
          29791,
          29844,
          29850,
          30023,
          30025,
          30123,
          30326,
          30420,
          30858,
          30968,
          31282,
          31320,
          31322,
          31420,
          31424,
          31592,
          31608,
          31880,
          32023,
          32045,
          32170,
          32382,
          32404,
          32582,
          32738,
          32796,
          33442,
          33654,
          33764,
          33916,
          34034,
          34246,
          34676,
          34791,
          34828,
          35062,
          35079,
          35130,
          35210,
          35578,
          35858,
          36120,
          36696,
          37626,
          37790,
          38470,
          38568,
          38796,
          38940,
          39090,
          39258,
          39458,
          39460,
          39518,
          39594,
          39900,
          39944,
          40191,
          40241,
          40263,
          40364,
          40446,
          40670,
          40704,
          40726,
          40728,
          40940,
          41384,
          41387,
          41718,
          42006,
          42160,
          42536,
          42670,
          42772,
          42870,
          43150,
          43476,
          43918,
          44494,
          44588,
          44853,
          45022,
          45066,
          45214,
          45320,
          45535,
          45610,
          46006,
          46132,
          46140,
          46362,
          46994,
          47004,
          47074,
          47317,
          47577,
          47655,
          47940,
          47954,
          48320,
          48452,
          48838,
          49062,
          49280,
          49308,
          49480,
          49685,
          49770,
          50022,
          50142,
          50240,
          50358,
          50410,
          50547,
          50797,
          50855,
          50953,
          51010,
          51030,
          51265,
          51296,
          51367,
          51438,
          51464,
          51570,
          51950,
          52040,
          52217,
          52430,
          52491,
          55056
         ],
         "xaxis": "x",
         "y": [
          4563.142416786308,
          4199.901314792386,
          4182.938556465618,
          3920.7002645788043,
          3913.4985320962114,
          3854.3371925284646,
          3847.4330522972186,
          3831.303552274221,
          3829.8751094677564,
          3827.8514821585986,
          3792.735596499674,
          3787.49797287597,
          3784.8791610641183,
          3753.7510115732416,
          3731.6696665233076,
          3701.7914044880877,
          3700.7200723832393,
          3679.7695778884236,
          3676.734136924686,
          3669.294330641015,
          3664.889965321083,
          3651.200721759129,
          3635.4878508880174,
          3630.0121534632362,
          3625.607788143303,
          3616.3229099012824,
          3614.775430194279,
          3610.7281755759623,
          3602.9907770409454,
          3601.8599264858276,
          3599.955336077208,
          3593.289269647039,
          3568.470075884715,
          3566.8035592771726,
          3559.4232714437717,
          3556.6854227313806,
          3554.661795422223,
          3541.389181012155,
          3541.270144111616,
          3526.6881237956222,
          3517.9389116060256,
          3515.379618244443,
          3507.1660721072712,
          3500.8571163787183,
          3499.6667473733314,
          3484.132431853028,
          3469.788485338111,
          3462.1106052533632,
          3420.8643192166946,
          3416.6980276978393,
          3412.8888468806,
          3410.0914797179403,
          3402.532636533731,
          3396.1046439046395,
          3366.2263818694196,
          3365.1550497645712,
          3363.3694962564905,
          3350.5730294485775,
          3348.192291437803,
          3345.990108777836,
          3339.9787453006306,
          3337.5384888395865,
          3335.157750828812,
          3331.4676069121115,
          3322.0636917695524,
          3320.39717516201,
          3315.278588438845,
          3315.0405146377675,
          3314.623885485882,
          3311.2313338205286,
          3311.2313338205286,
          3307.3626345530197,
          3299.8037913688104,
          3274.5679684546008,
          3271.2944536897858,
          3269.9255293335905,
          3269.270826380627,
          3263.8546474061154,
          3240.0472672983706,
          3232.309868763353,
          3230.881425956888,
          3214.573370583083,
          3197.193983104429,
          3189.813695271028,
          3187.4924757105227,
          3172.434307792374,
          3166.363425864899,
          3164.220761655202,
          3162.0780974455047,
          3161.7209867438887,
          3161.3638760422728,
          3145.1153391187363,
          3138.9254202907227,
          3132.6759830124392,
          3130.473800352473,
          3123.9862892731126,
          3122.9149571682638,
          3107.559196998768,
          3107.4401600982296,
          3105.4760512393404,
          3102.3215733750644,
          3101.964462673448,
          3091.6677707768486,
          3091.5487338763096,
          3085.7159257499125,
          3073.6336803452314,
          3068.0389460199112,
          3041.9698648019303,
          3035.4228352723003,
          3016.7340418877207,
          3014.4723407774845,
          3014.353303876946,
          3008.5204957505484,
          3008.282421949471,
          2998.283322304218,
          2997.331027099908,
          2981.1420086266417,
          2972.630870238123,
          2971.3214643321967,
          2963.8816580485263,
          2951.2637465914213,
          2949.9543406854955,
          2939.360056537549,
          2930.0751782955285,
          2926.623108179905,
          2888.174189305897,
          2875.556277848792,
          2869.009248319162,
          2859.9624438782184,
          2852.939266746434,
          2840.321355289329,
          2814.728421673503,
          2807.883799892526,
          2805.68161723256,
          2791.754299869529,
          2790.7424862149496,
          2787.707045251212,
          2782.9455692296633,
          2761.0427795305377,
          2744.377613455116,
          2728.7837794845427,
          2694.50115212939,
          2639.1489933788826,
          2629.3879675347066,
          2588.91542135154,
          2583.0826132251423,
          2569.512406563728,
          2560.9417497249397,
          2552.013982184535,
          2542.014882539282,
          2530.1111924854094,
          2529.992155584871,
          2526.5400854692475,
          2522.016683248776,
          2503.804037466351,
          2501.185225654499,
          2486.4841684379667,
          2483.508245924498,
          2482.1988400185724,
          2476.187476541367,
          2471.306963619279,
          2457.9748307589416,
          2455.9512034497834,
          2454.641797543857,
          2454.5227606433186,
          2441.9048491862136,
          2415.4786572666167,
          2415.300101915808,
          2395.5994948766493,
          2378.458181199073,
          2369.292339857591,
          2346.9134025563103,
          2338.937930220216,
          2332.867048292741,
          2327.0342401663434,
          2310.3690740909215,
          2290.9660593031094,
          2264.658904284051,
          2230.376276928898,
          2224.7815426035777,
          2209.0091532821966,
          2198.950535186674,
          2196.331723374822,
          2187.5229927349565,
          2181.214037006404,
          2168.417570198491,
          2163.953686428289,
          2140.3843801216212,
          2132.8850553876814,
          2132.4089077855265,
          2119.195811825728,
          2081.580151255491,
          2080.984966752797,
          2076.8186752339416,
          2062.3556918184863,
          2046.8808947484522,
          2042.238455627442,
          2025.2756973006735,
          2024.4424389969022,
          2002.6586861983155,
          1994.8022507627593,
          1971.8281289587853,
          1958.495996098448,
          1945.520973939727,
          1943.8544573321847,
          1933.6172838858542,
          1921.416001580635,
          1916.3569333077394,
          1901.3582838398597,
          1894.2160698075363,
          1888.3832616811387,
          1881.3600845493538,
          1878.2651251353468,
          1870.111097448444,
          1855.2314848811034,
          1851.7794147654804,
          1845.9466066390828,
          1842.5540549737293,
          1841.363685968342,
          1827.3768501550417,
          1825.5317781966914,
          1821.3059682275666,
          1817.0801582584418,
          1815.5326785514385,
          1809.223722822886,
          1786.606711720528,
          1781.2500511962853,
          1770.715285498608,
          1758.037855591234,
          1754.407230124803,
          1601.742405183887
         ],
         "yaxis": "y"
        }
       ],
       "layout": {
        "legend": {
         "title": {
          "text": "State"
         },
         "tracegroupgap": 0
        },
        "margin": {
         "t": 60
        },
        "template": {
         "data": {
          "bar": [
           {
            "error_x": {
             "color": "#2a3f5f"
            },
            "error_y": {
             "color": "#2a3f5f"
            },
            "marker": {
             "line": {
              "color": "#E5ECF6",
              "width": 0.5
             },
             "pattern": {
              "fillmode": "overlay",
              "size": 10,
              "solidity": 0.2
             }
            },
            "type": "bar"
           }
          ],
          "barpolar": [
           {
            "marker": {
             "line": {
              "color": "#E5ECF6",
              "width": 0.5
             },
             "pattern": {
              "fillmode": "overlay",
              "size": 10,
              "solidity": 0.2
             }
            },
            "type": "barpolar"
           }
          ],
          "carpet": [
           {
            "aaxis": {
             "endlinecolor": "#2a3f5f",
             "gridcolor": "white",
             "linecolor": "white",
             "minorgridcolor": "white",
             "startlinecolor": "#2a3f5f"
            },
            "baxis": {
             "endlinecolor": "#2a3f5f",
             "gridcolor": "white",
             "linecolor": "white",
             "minorgridcolor": "white",
             "startlinecolor": "#2a3f5f"
            },
            "type": "carpet"
           }
          ],
          "choropleth": [
           {
            "colorbar": {
             "outlinewidth": 0,
             "ticks": ""
            },
            "type": "choropleth"
           }
          ],
          "contour": [
           {
            "colorbar": {
             "outlinewidth": 0,
             "ticks": ""
            },
            "colorscale": [
             [
              0,
              "#0d0887"
             ],
             [
              0.1111111111111111,
              "#46039f"
             ],
             [
              0.2222222222222222,
              "#7201a8"
             ],
             [
              0.3333333333333333,
              "#9c179e"
             ],
             [
              0.4444444444444444,
              "#bd3786"
             ],
             [
              0.5555555555555556,
              "#d8576b"
             ],
             [
              0.6666666666666666,
              "#ed7953"
             ],
             [
              0.7777777777777778,
              "#fb9f3a"
             ],
             [
              0.8888888888888888,
              "#fdca26"
             ],
             [
              1,
              "#f0f921"
             ]
            ],
            "type": "contour"
           }
          ],
          "contourcarpet": [
           {
            "colorbar": {
             "outlinewidth": 0,
             "ticks": ""
            },
            "type": "contourcarpet"
           }
          ],
          "heatmap": [
           {
            "colorbar": {
             "outlinewidth": 0,
             "ticks": ""
            },
            "colorscale": [
             [
              0,
              "#0d0887"
             ],
             [
              0.1111111111111111,
              "#46039f"
             ],
             [
              0.2222222222222222,
              "#7201a8"
             ],
             [
              0.3333333333333333,
              "#9c179e"
             ],
             [
              0.4444444444444444,
              "#bd3786"
             ],
             [
              0.5555555555555556,
              "#d8576b"
             ],
             [
              0.6666666666666666,
              "#ed7953"
             ],
             [
              0.7777777777777778,
              "#fb9f3a"
             ],
             [
              0.8888888888888888,
              "#fdca26"
             ],
             [
              1,
              "#f0f921"
             ]
            ],
            "type": "heatmap"
           }
          ],
          "heatmapgl": [
           {
            "colorbar": {
             "outlinewidth": 0,
             "ticks": ""
            },
            "colorscale": [
             [
              0,
              "#0d0887"
             ],
             [
              0.1111111111111111,
              "#46039f"
             ],
             [
              0.2222222222222222,
              "#7201a8"
             ],
             [
              0.3333333333333333,
              "#9c179e"
             ],
             [
              0.4444444444444444,
              "#bd3786"
             ],
             [
              0.5555555555555556,
              "#d8576b"
             ],
             [
              0.6666666666666666,
              "#ed7953"
             ],
             [
              0.7777777777777778,
              "#fb9f3a"
             ],
             [
              0.8888888888888888,
              "#fdca26"
             ],
             [
              1,
              "#f0f921"
             ]
            ],
            "type": "heatmapgl"
           }
          ],
          "histogram": [
           {
            "marker": {
             "pattern": {
              "fillmode": "overlay",
              "size": 10,
              "solidity": 0.2
             }
            },
            "type": "histogram"
           }
          ],
          "histogram2d": [
           {
            "colorbar": {
             "outlinewidth": 0,
             "ticks": ""
            },
            "colorscale": [
             [
              0,
              "#0d0887"
             ],
             [
              0.1111111111111111,
              "#46039f"
             ],
             [
              0.2222222222222222,
              "#7201a8"
             ],
             [
              0.3333333333333333,
              "#9c179e"
             ],
             [
              0.4444444444444444,
              "#bd3786"
             ],
             [
              0.5555555555555556,
              "#d8576b"
             ],
             [
              0.6666666666666666,
              "#ed7953"
             ],
             [
              0.7777777777777778,
              "#fb9f3a"
             ],
             [
              0.8888888888888888,
              "#fdca26"
             ],
             [
              1,
              "#f0f921"
             ]
            ],
            "type": "histogram2d"
           }
          ],
          "histogram2dcontour": [
           {
            "colorbar": {
             "outlinewidth": 0,
             "ticks": ""
            },
            "colorscale": [
             [
              0,
              "#0d0887"
             ],
             [
              0.1111111111111111,
              "#46039f"
             ],
             [
              0.2222222222222222,
              "#7201a8"
             ],
             [
              0.3333333333333333,
              "#9c179e"
             ],
             [
              0.4444444444444444,
              "#bd3786"
             ],
             [
              0.5555555555555556,
              "#d8576b"
             ],
             [
              0.6666666666666666,
              "#ed7953"
             ],
             [
              0.7777777777777778,
              "#fb9f3a"
             ],
             [
              0.8888888888888888,
              "#fdca26"
             ],
             [
              1,
              "#f0f921"
             ]
            ],
            "type": "histogram2dcontour"
           }
          ],
          "mesh3d": [
           {
            "colorbar": {
             "outlinewidth": 0,
             "ticks": ""
            },
            "type": "mesh3d"
           }
          ],
          "parcoords": [
           {
            "line": {
             "colorbar": {
              "outlinewidth": 0,
              "ticks": ""
             }
            },
            "type": "parcoords"
           }
          ],
          "pie": [
           {
            "automargin": true,
            "type": "pie"
           }
          ],
          "scatter": [
           {
            "fillpattern": {
             "fillmode": "overlay",
             "size": 10,
             "solidity": 0.2
            },
            "type": "scatter"
           }
          ],
          "scatter3d": [
           {
            "line": {
             "colorbar": {
              "outlinewidth": 0,
              "ticks": ""
             }
            },
            "marker": {
             "colorbar": {
              "outlinewidth": 0,
              "ticks": ""
             }
            },
            "type": "scatter3d"
           }
          ],
          "scattercarpet": [
           {
            "marker": {
             "colorbar": {
              "outlinewidth": 0,
              "ticks": ""
             }
            },
            "type": "scattercarpet"
           }
          ],
          "scattergeo": [
           {
            "marker": {
             "colorbar": {
              "outlinewidth": 0,
              "ticks": ""
             }
            },
            "type": "scattergeo"
           }
          ],
          "scattergl": [
           {
            "marker": {
             "colorbar": {
              "outlinewidth": 0,
              "ticks": ""
             }
            },
            "type": "scattergl"
           }
          ],
          "scattermapbox": [
           {
            "marker": {
             "colorbar": {
              "outlinewidth": 0,
              "ticks": ""
             }
            },
            "type": "scattermapbox"
           }
          ],
          "scatterpolar": [
           {
            "marker": {
             "colorbar": {
              "outlinewidth": 0,
              "ticks": ""
             }
            },
            "type": "scatterpolar"
           }
          ],
          "scatterpolargl": [
           {
            "marker": {
             "colorbar": {
              "outlinewidth": 0,
              "ticks": ""
             }
            },
            "type": "scatterpolargl"
           }
          ],
          "scatterternary": [
           {
            "marker": {
             "colorbar": {
              "outlinewidth": 0,
              "ticks": ""
             }
            },
            "type": "scatterternary"
           }
          ],
          "surface": [
           {
            "colorbar": {
             "outlinewidth": 0,
             "ticks": ""
            },
            "colorscale": [
             [
              0,
              "#0d0887"
             ],
             [
              0.1111111111111111,
              "#46039f"
             ],
             [
              0.2222222222222222,
              "#7201a8"
             ],
             [
              0.3333333333333333,
              "#9c179e"
             ],
             [
              0.4444444444444444,
              "#bd3786"
             ],
             [
              0.5555555555555556,
              "#d8576b"
             ],
             [
              0.6666666666666666,
              "#ed7953"
             ],
             [
              0.7777777777777778,
              "#fb9f3a"
             ],
             [
              0.8888888888888888,
              "#fdca26"
             ],
             [
              1,
              "#f0f921"
             ]
            ],
            "type": "surface"
           }
          ],
          "table": [
           {
            "cells": {
             "fill": {
              "color": "#EBF0F8"
             },
             "line": {
              "color": "white"
             }
            },
            "header": {
             "fill": {
              "color": "#C8D4E3"
             },
             "line": {
              "color": "white"
             }
            },
            "type": "table"
           }
          ]
         },
         "layout": {
          "annotationdefaults": {
           "arrowcolor": "#2a3f5f",
           "arrowhead": 0,
           "arrowwidth": 1
          },
          "autotypenumbers": "strict",
          "coloraxis": {
           "colorbar": {
            "outlinewidth": 0,
            "ticks": ""
           }
          },
          "colorscale": {
           "diverging": [
            [
             0,
             "#8e0152"
            ],
            [
             0.1,
             "#c51b7d"
            ],
            [
             0.2,
             "#de77ae"
            ],
            [
             0.3,
             "#f1b6da"
            ],
            [
             0.4,
             "#fde0ef"
            ],
            [
             0.5,
             "#f7f7f7"
            ],
            [
             0.6,
             "#e6f5d0"
            ],
            [
             0.7,
             "#b8e186"
            ],
            [
             0.8,
             "#7fbc41"
            ],
            [
             0.9,
             "#4d9221"
            ],
            [
             1,
             "#276419"
            ]
           ],
           "sequential": [
            [
             0,
             "#0d0887"
            ],
            [
             0.1111111111111111,
             "#46039f"
            ],
            [
             0.2222222222222222,
             "#7201a8"
            ],
            [
             0.3333333333333333,
             "#9c179e"
            ],
            [
             0.4444444444444444,
             "#bd3786"
            ],
            [
             0.5555555555555556,
             "#d8576b"
            ],
            [
             0.6666666666666666,
             "#ed7953"
            ],
            [
             0.7777777777777778,
             "#fb9f3a"
            ],
            [
             0.8888888888888888,
             "#fdca26"
            ],
            [
             1,
             "#f0f921"
            ]
           ],
           "sequentialminus": [
            [
             0,
             "#0d0887"
            ],
            [
             0.1111111111111111,
             "#46039f"
            ],
            [
             0.2222222222222222,
             "#7201a8"
            ],
            [
             0.3333333333333333,
             "#9c179e"
            ],
            [
             0.4444444444444444,
             "#bd3786"
            ],
            [
             0.5555555555555556,
             "#d8576b"
            ],
            [
             0.6666666666666666,
             "#ed7953"
            ],
            [
             0.7777777777777778,
             "#fb9f3a"
            ],
            [
             0.8888888888888888,
             "#fdca26"
            ],
            [
             1,
             "#f0f921"
            ]
           ]
          },
          "colorway": [
           "#636efa",
           "#EF553B",
           "#00cc96",
           "#ab63fa",
           "#FFA15A",
           "#19d3f3",
           "#FF6692",
           "#B6E880",
           "#FF97FF",
           "#FECB52"
          ],
          "font": {
           "color": "#2a3f5f"
          },
          "geo": {
           "bgcolor": "white",
           "lakecolor": "white",
           "landcolor": "#E5ECF6",
           "showlakes": true,
           "showland": true,
           "subunitcolor": "white"
          },
          "hoverlabel": {
           "align": "left"
          },
          "hovermode": "closest",
          "mapbox": {
           "style": "light"
          },
          "paper_bgcolor": "white",
          "plot_bgcolor": "#E5ECF6",
          "polar": {
           "angularaxis": {
            "gridcolor": "white",
            "linecolor": "white",
            "ticks": ""
           },
           "bgcolor": "#E5ECF6",
           "radialaxis": {
            "gridcolor": "white",
            "linecolor": "white",
            "ticks": ""
           }
          },
          "scene": {
           "xaxis": {
            "backgroundcolor": "#E5ECF6",
            "gridcolor": "white",
            "gridwidth": 2,
            "linecolor": "white",
            "showbackground": true,
            "ticks": "",
            "zerolinecolor": "white"
           },
           "yaxis": {
            "backgroundcolor": "#E5ECF6",
            "gridcolor": "white",
            "gridwidth": 2,
            "linecolor": "white",
            "showbackground": true,
            "ticks": "",
            "zerolinecolor": "white"
           },
           "zaxis": {
            "backgroundcolor": "#E5ECF6",
            "gridcolor": "white",
            "gridwidth": 2,
            "linecolor": "white",
            "showbackground": true,
            "ticks": "",
            "zerolinecolor": "white"
           }
          },
          "shapedefaults": {
           "line": {
            "color": "#2a3f5f"
           }
          },
          "ternary": {
           "aaxis": {
            "gridcolor": "white",
            "linecolor": "white",
            "ticks": ""
           },
           "baxis": {
            "gridcolor": "white",
            "linecolor": "white",
            "ticks": ""
           },
           "bgcolor": "#E5ECF6",
           "caxis": {
            "gridcolor": "white",
            "linecolor": "white",
            "ticks": ""
           }
          },
          "title": {
           "x": 0.05
          },
          "xaxis": {
           "automargin": true,
           "gridcolor": "white",
           "linecolor": "white",
           "ticks": "",
           "title": {
            "standoff": 15
           },
           "zerolinecolor": "white",
           "zerolinewidth": 2
          },
          "yaxis": {
           "automargin": true,
           "gridcolor": "white",
           "linecolor": "white",
           "ticks": "",
           "title": {
            "standoff": 15
           },
           "zerolinecolor": "white",
           "zerolinewidth": 2
          }
         }
        },
        "xaxis": {
         "anchor": "y",
         "domain": [
          0,
          1
         ],
         "title": {
          "text": "Tuition and fees"
         }
        },
        "yaxis": {
         "anchor": "x",
         "domain": [
          0,
          1
         ],
         "title": {
          "text": "Undergrad Enrollment"
         }
        }
       }
      }
     },
     "metadata": {},
     "output_type": "display_data"
    }
   ],
   "source": [
    "fig = px.scatter(df, x=\"Tuition and fees\", y=\"Undergrad Enrollment\", color=\"State\",\n",
    "hover_name=\"Name\", size_max=20, trendline=\"ols\", trendline_scope=\"overall\")\n",
    "figsize=\"Tuition and fees\"\n",
    "fig.show()"
   ]
  },
  {
   "attachments": {},
   "cell_type": "markdown",
   "metadata": {},
   "source": [
    "- The pattern the chart above shows is that universities that enroll more students tend to have lower tuition fees.\n",
    "## Observation\n",
    "*It is generally the case that larger universities have lower tuition fees because they have more students and therefore more revenue. This allows them to offer lower prices to their students. Additionally, larger universities often have more resources, such as state funding or private donations, which can also help to keep costs down.*\n",
    "\n",
    "---"
   ]
  },
  {
   "cell_type": "code",
   "execution_count": 22,
   "metadata": {},
   "outputs": [
    {
     "data": {
      "application/vnd.plotly.v1+json": {
       "config": {
        "plotlyServerURL": "https://plot.ly"
       },
       "data": [
        {
         "coloraxis": "coloraxis",
         "histfunc": "sum",
         "hovertemplate": "quantile-rank=%{x}<br>In-state-discount=%{y}<br>sum of count=%{z}<extra></extra>",
         "name": "",
         "type": "histogram2d",
         "x": [
          "great reputation",
          "great reputation",
          "good reputation",
          "good reputation",
          "average reputation",
          "average reputation",
          "low reputation",
          "low reputation"
         ],
         "xaxis": "x",
         "xbingroup": "x",
         "y": [
          false,
          true,
          false,
          true,
          true,
          false,
          true,
          false
         ],
         "yaxis": "y",
         "ybingroup": "y",
         "z": [
          40,
          19,
          22,
          36,
          37,
          21,
          41,
          15
         ]
        }
       ],
       "layout": {
        "coloraxis": {
         "colorbar": {
          "title": {
           "text": "sum of count"
          }
         },
         "colorscale": [
          [
           0,
           "#0d0887"
          ],
          [
           0.1111111111111111,
           "#46039f"
          ],
          [
           0.2222222222222222,
           "#7201a8"
          ],
          [
           0.3333333333333333,
           "#9c179e"
          ],
          [
           0.4444444444444444,
           "#bd3786"
          ],
          [
           0.5555555555555556,
           "#d8576b"
          ],
          [
           0.6666666666666666,
           "#ed7953"
          ],
          [
           0.7777777777777778,
           "#fb9f3a"
          ],
          [
           0.8888888888888888,
           "#fdca26"
          ],
          [
           1,
           "#f0f921"
          ]
         ]
        },
        "legend": {
         "tracegroupgap": 0
        },
        "margin": {
         "t": 60
        },
        "template": {
         "data": {
          "bar": [
           {
            "error_x": {
             "color": "#2a3f5f"
            },
            "error_y": {
             "color": "#2a3f5f"
            },
            "marker": {
             "line": {
              "color": "#E5ECF6",
              "width": 0.5
             },
             "pattern": {
              "fillmode": "overlay",
              "size": 10,
              "solidity": 0.2
             }
            },
            "type": "bar"
           }
          ],
          "barpolar": [
           {
            "marker": {
             "line": {
              "color": "#E5ECF6",
              "width": 0.5
             },
             "pattern": {
              "fillmode": "overlay",
              "size": 10,
              "solidity": 0.2
             }
            },
            "type": "barpolar"
           }
          ],
          "carpet": [
           {
            "aaxis": {
             "endlinecolor": "#2a3f5f",
             "gridcolor": "white",
             "linecolor": "white",
             "minorgridcolor": "white",
             "startlinecolor": "#2a3f5f"
            },
            "baxis": {
             "endlinecolor": "#2a3f5f",
             "gridcolor": "white",
             "linecolor": "white",
             "minorgridcolor": "white",
             "startlinecolor": "#2a3f5f"
            },
            "type": "carpet"
           }
          ],
          "choropleth": [
           {
            "colorbar": {
             "outlinewidth": 0,
             "ticks": ""
            },
            "type": "choropleth"
           }
          ],
          "contour": [
           {
            "colorbar": {
             "outlinewidth": 0,
             "ticks": ""
            },
            "colorscale": [
             [
              0,
              "#0d0887"
             ],
             [
              0.1111111111111111,
              "#46039f"
             ],
             [
              0.2222222222222222,
              "#7201a8"
             ],
             [
              0.3333333333333333,
              "#9c179e"
             ],
             [
              0.4444444444444444,
              "#bd3786"
             ],
             [
              0.5555555555555556,
              "#d8576b"
             ],
             [
              0.6666666666666666,
              "#ed7953"
             ],
             [
              0.7777777777777778,
              "#fb9f3a"
             ],
             [
              0.8888888888888888,
              "#fdca26"
             ],
             [
              1,
              "#f0f921"
             ]
            ],
            "type": "contour"
           }
          ],
          "contourcarpet": [
           {
            "colorbar": {
             "outlinewidth": 0,
             "ticks": ""
            },
            "type": "contourcarpet"
           }
          ],
          "heatmap": [
           {
            "colorbar": {
             "outlinewidth": 0,
             "ticks": ""
            },
            "colorscale": [
             [
              0,
              "#0d0887"
             ],
             [
              0.1111111111111111,
              "#46039f"
             ],
             [
              0.2222222222222222,
              "#7201a8"
             ],
             [
              0.3333333333333333,
              "#9c179e"
             ],
             [
              0.4444444444444444,
              "#bd3786"
             ],
             [
              0.5555555555555556,
              "#d8576b"
             ],
             [
              0.6666666666666666,
              "#ed7953"
             ],
             [
              0.7777777777777778,
              "#fb9f3a"
             ],
             [
              0.8888888888888888,
              "#fdca26"
             ],
             [
              1,
              "#f0f921"
             ]
            ],
            "type": "heatmap"
           }
          ],
          "heatmapgl": [
           {
            "colorbar": {
             "outlinewidth": 0,
             "ticks": ""
            },
            "colorscale": [
             [
              0,
              "#0d0887"
             ],
             [
              0.1111111111111111,
              "#46039f"
             ],
             [
              0.2222222222222222,
              "#7201a8"
             ],
             [
              0.3333333333333333,
              "#9c179e"
             ],
             [
              0.4444444444444444,
              "#bd3786"
             ],
             [
              0.5555555555555556,
              "#d8576b"
             ],
             [
              0.6666666666666666,
              "#ed7953"
             ],
             [
              0.7777777777777778,
              "#fb9f3a"
             ],
             [
              0.8888888888888888,
              "#fdca26"
             ],
             [
              1,
              "#f0f921"
             ]
            ],
            "type": "heatmapgl"
           }
          ],
          "histogram": [
           {
            "marker": {
             "pattern": {
              "fillmode": "overlay",
              "size": 10,
              "solidity": 0.2
             }
            },
            "type": "histogram"
           }
          ],
          "histogram2d": [
           {
            "colorbar": {
             "outlinewidth": 0,
             "ticks": ""
            },
            "colorscale": [
             [
              0,
              "#0d0887"
             ],
             [
              0.1111111111111111,
              "#46039f"
             ],
             [
              0.2222222222222222,
              "#7201a8"
             ],
             [
              0.3333333333333333,
              "#9c179e"
             ],
             [
              0.4444444444444444,
              "#bd3786"
             ],
             [
              0.5555555555555556,
              "#d8576b"
             ],
             [
              0.6666666666666666,
              "#ed7953"
             ],
             [
              0.7777777777777778,
              "#fb9f3a"
             ],
             [
              0.8888888888888888,
              "#fdca26"
             ],
             [
              1,
              "#f0f921"
             ]
            ],
            "type": "histogram2d"
           }
          ],
          "histogram2dcontour": [
           {
            "colorbar": {
             "outlinewidth": 0,
             "ticks": ""
            },
            "colorscale": [
             [
              0,
              "#0d0887"
             ],
             [
              0.1111111111111111,
              "#46039f"
             ],
             [
              0.2222222222222222,
              "#7201a8"
             ],
             [
              0.3333333333333333,
              "#9c179e"
             ],
             [
              0.4444444444444444,
              "#bd3786"
             ],
             [
              0.5555555555555556,
              "#d8576b"
             ],
             [
              0.6666666666666666,
              "#ed7953"
             ],
             [
              0.7777777777777778,
              "#fb9f3a"
             ],
             [
              0.8888888888888888,
              "#fdca26"
             ],
             [
              1,
              "#f0f921"
             ]
            ],
            "type": "histogram2dcontour"
           }
          ],
          "mesh3d": [
           {
            "colorbar": {
             "outlinewidth": 0,
             "ticks": ""
            },
            "type": "mesh3d"
           }
          ],
          "parcoords": [
           {
            "line": {
             "colorbar": {
              "outlinewidth": 0,
              "ticks": ""
             }
            },
            "type": "parcoords"
           }
          ],
          "pie": [
           {
            "automargin": true,
            "type": "pie"
           }
          ],
          "scatter": [
           {
            "fillpattern": {
             "fillmode": "overlay",
             "size": 10,
             "solidity": 0.2
            },
            "type": "scatter"
           }
          ],
          "scatter3d": [
           {
            "line": {
             "colorbar": {
              "outlinewidth": 0,
              "ticks": ""
             }
            },
            "marker": {
             "colorbar": {
              "outlinewidth": 0,
              "ticks": ""
             }
            },
            "type": "scatter3d"
           }
          ],
          "scattercarpet": [
           {
            "marker": {
             "colorbar": {
              "outlinewidth": 0,
              "ticks": ""
             }
            },
            "type": "scattercarpet"
           }
          ],
          "scattergeo": [
           {
            "marker": {
             "colorbar": {
              "outlinewidth": 0,
              "ticks": ""
             }
            },
            "type": "scattergeo"
           }
          ],
          "scattergl": [
           {
            "marker": {
             "colorbar": {
              "outlinewidth": 0,
              "ticks": ""
             }
            },
            "type": "scattergl"
           }
          ],
          "scattermapbox": [
           {
            "marker": {
             "colorbar": {
              "outlinewidth": 0,
              "ticks": ""
             }
            },
            "type": "scattermapbox"
           }
          ],
          "scatterpolar": [
           {
            "marker": {
             "colorbar": {
              "outlinewidth": 0,
              "ticks": ""
             }
            },
            "type": "scatterpolar"
           }
          ],
          "scatterpolargl": [
           {
            "marker": {
             "colorbar": {
              "outlinewidth": 0,
              "ticks": ""
             }
            },
            "type": "scatterpolargl"
           }
          ],
          "scatterternary": [
           {
            "marker": {
             "colorbar": {
              "outlinewidth": 0,
              "ticks": ""
             }
            },
            "type": "scatterternary"
           }
          ],
          "surface": [
           {
            "colorbar": {
             "outlinewidth": 0,
             "ticks": ""
            },
            "colorscale": [
             [
              0,
              "#0d0887"
             ],
             [
              0.1111111111111111,
              "#46039f"
             ],
             [
              0.2222222222222222,
              "#7201a8"
             ],
             [
              0.3333333333333333,
              "#9c179e"
             ],
             [
              0.4444444444444444,
              "#bd3786"
             ],
             [
              0.5555555555555556,
              "#d8576b"
             ],
             [
              0.6666666666666666,
              "#ed7953"
             ],
             [
              0.7777777777777778,
              "#fb9f3a"
             ],
             [
              0.8888888888888888,
              "#fdca26"
             ],
             [
              1,
              "#f0f921"
             ]
            ],
            "type": "surface"
           }
          ],
          "table": [
           {
            "cells": {
             "fill": {
              "color": "#EBF0F8"
             },
             "line": {
              "color": "white"
             }
            },
            "header": {
             "fill": {
              "color": "#C8D4E3"
             },
             "line": {
              "color": "white"
             }
            },
            "type": "table"
           }
          ]
         },
         "layout": {
          "annotationdefaults": {
           "arrowcolor": "#2a3f5f",
           "arrowhead": 0,
           "arrowwidth": 1
          },
          "autotypenumbers": "strict",
          "coloraxis": {
           "colorbar": {
            "outlinewidth": 0,
            "ticks": ""
           }
          },
          "colorscale": {
           "diverging": [
            [
             0,
             "#8e0152"
            ],
            [
             0.1,
             "#c51b7d"
            ],
            [
             0.2,
             "#de77ae"
            ],
            [
             0.3,
             "#f1b6da"
            ],
            [
             0.4,
             "#fde0ef"
            ],
            [
             0.5,
             "#f7f7f7"
            ],
            [
             0.6,
             "#e6f5d0"
            ],
            [
             0.7,
             "#b8e186"
            ],
            [
             0.8,
             "#7fbc41"
            ],
            [
             0.9,
             "#4d9221"
            ],
            [
             1,
             "#276419"
            ]
           ],
           "sequential": [
            [
             0,
             "#0d0887"
            ],
            [
             0.1111111111111111,
             "#46039f"
            ],
            [
             0.2222222222222222,
             "#7201a8"
            ],
            [
             0.3333333333333333,
             "#9c179e"
            ],
            [
             0.4444444444444444,
             "#bd3786"
            ],
            [
             0.5555555555555556,
             "#d8576b"
            ],
            [
             0.6666666666666666,
             "#ed7953"
            ],
            [
             0.7777777777777778,
             "#fb9f3a"
            ],
            [
             0.8888888888888888,
             "#fdca26"
            ],
            [
             1,
             "#f0f921"
            ]
           ],
           "sequentialminus": [
            [
             0,
             "#0d0887"
            ],
            [
             0.1111111111111111,
             "#46039f"
            ],
            [
             0.2222222222222222,
             "#7201a8"
            ],
            [
             0.3333333333333333,
             "#9c179e"
            ],
            [
             0.4444444444444444,
             "#bd3786"
            ],
            [
             0.5555555555555556,
             "#d8576b"
            ],
            [
             0.6666666666666666,
             "#ed7953"
            ],
            [
             0.7777777777777778,
             "#fb9f3a"
            ],
            [
             0.8888888888888888,
             "#fdca26"
            ],
            [
             1,
             "#f0f921"
            ]
           ]
          },
          "colorway": [
           "#636efa",
           "#EF553B",
           "#00cc96",
           "#ab63fa",
           "#FFA15A",
           "#19d3f3",
           "#FF6692",
           "#B6E880",
           "#FF97FF",
           "#FECB52"
          ],
          "font": {
           "color": "#2a3f5f"
          },
          "geo": {
           "bgcolor": "white",
           "lakecolor": "white",
           "landcolor": "#E5ECF6",
           "showlakes": true,
           "showland": true,
           "subunitcolor": "white"
          },
          "hoverlabel": {
           "align": "left"
          },
          "hovermode": "closest",
          "mapbox": {
           "style": "light"
          },
          "paper_bgcolor": "white",
          "plot_bgcolor": "#E5ECF6",
          "polar": {
           "angularaxis": {
            "gridcolor": "white",
            "linecolor": "white",
            "ticks": ""
           },
           "bgcolor": "#E5ECF6",
           "radialaxis": {
            "gridcolor": "white",
            "linecolor": "white",
            "ticks": ""
           }
          },
          "scene": {
           "xaxis": {
            "backgroundcolor": "#E5ECF6",
            "gridcolor": "white",
            "gridwidth": 2,
            "linecolor": "white",
            "showbackground": true,
            "ticks": "",
            "zerolinecolor": "white"
           },
           "yaxis": {
            "backgroundcolor": "#E5ECF6",
            "gridcolor": "white",
            "gridwidth": 2,
            "linecolor": "white",
            "showbackground": true,
            "ticks": "",
            "zerolinecolor": "white"
           },
           "zaxis": {
            "backgroundcolor": "#E5ECF6",
            "gridcolor": "white",
            "gridwidth": 2,
            "linecolor": "white",
            "showbackground": true,
            "ticks": "",
            "zerolinecolor": "white"
           }
          },
          "shapedefaults": {
           "line": {
            "color": "#2a3f5f"
           }
          },
          "ternary": {
           "aaxis": {
            "gridcolor": "white",
            "linecolor": "white",
            "ticks": ""
           },
           "baxis": {
            "gridcolor": "white",
            "linecolor": "white",
            "ticks": ""
           },
           "bgcolor": "#E5ECF6",
           "caxis": {
            "gridcolor": "white",
            "linecolor": "white",
            "ticks": ""
           }
          },
          "title": {
           "x": 0.05
          },
          "xaxis": {
           "automargin": true,
           "gridcolor": "white",
           "linecolor": "white",
           "ticks": "",
           "title": {
            "standoff": 15
           },
           "zerolinecolor": "white",
           "zerolinewidth": 2
          },
          "yaxis": {
           "automargin": true,
           "gridcolor": "white",
           "linecolor": "white",
           "ticks": "",
           "title": {
            "standoff": 15
           },
           "zerolinecolor": "white",
           "zerolinewidth": 2
          }
         }
        },
        "xaxis": {
         "anchor": "y",
         "domain": [
          0,
          1
         ],
         "title": {
          "text": "quantile-rank"
         }
        },
        "yaxis": {
         "anchor": "x",
         "domain": [
          0,
          1
         ],
         "title": {
          "text": "In-state-discount"
         }
        }
       }
      }
     },
     "metadata": {},
     "output_type": "display_data"
    }
   ],
   "source": [
    "# create heatmap\n",
    "heatmap_df = df[['quantile-rank', 'In-state-discount']]\n",
    "heatmap_df[\"count\"] = heatmap_df.groupby(['quantile-rank', 'In-state-discount'])['quantile-rank'].transform('count')\n",
    "heatmap_df = heatmap_df.drop_duplicates()\n",
    "fig = px.density_heatmap(heatmap_df,\n",
    "                x='quantile-rank',\n",
    "                y='In-state-discount',\n",
    "                z='count'\n",
    "               )\n",
    "fig.show()"
   ]
  },
  {
   "attachments": {},
   "cell_type": "markdown",
   "metadata": {},
   "source": [
    "- The heatmap displayed above shows how there is a negative correlation between the reputation of a university and the likeliness that it provides a discount for in-state students.\n",
    "- ## Observation\n",
    "- *There are a few reasons why some reputable universities in the United States may not give in-state students a discount on their tuition fees. One reason is that these universities may have a high demand for their programs and can therefore afford to charge the same tuition fee to all students, regardless of their state of residence. Additionally, some of these universities may receive a significant amount of funding from donors and endowments, which allows them to offer a high-quality education without needing to offer discounts to in-state students*\n",
    "---"
   ]
  },
  {
   "cell_type": "code",
   "execution_count": 23,
   "metadata": {},
   "outputs": [
    {
     "data": {
      "application/vnd.plotly.v1+json": {
       "config": {
        "plotlyServerURL": "https://plot.ly"
       },
       "data": [
        {
         "hovertemplate": "<b>%{hovertext}</b><br><br>State=NJ<br>Rank=%{x}<br>Tuition and fees=%{y}<br>Undergrad Enrollment=%{marker.size}<extra></extra>",
         "hovertext": [
          "Princeton University",
          "Rutgers University--New Brunswick",
          "Stevens Institute of Technology",
          "Seton Hall University",
          "New Jersey Institute of Technology",
          "Rutgers University--Newark",
          "Montclair State University"
         ],
         "legendgroup": "NJ",
         "marker": {
          "color": "#636efa",
          "size": [
           402,
           5484,
           873,
           90,
           8,
           713,
           6336
          ],
          "sizemode": "area",
          "sizeref": 24.8775,
          "symbol": "circle"
         },
         "mode": "markers",
         "name": "NJ",
         "orientation": "v",
         "showlegend": true,
         "type": "scatter",
         "x": [
          1,
          70,
          71,
          118,
          135,
          135,
          176
         ],
         "xaxis": "x",
         "y": [
          45320,
          30023,
          48838,
          39258,
          30326,
          29480,
          20318
         ],
         "yaxis": "y"
        },
        {
         "hovertemplate": "<b>%{hovertext}</b><br><br>State=MA<br>Rank=%{x}<br>Tuition and fees=%{y}<br>Undergrad Enrollment=%{marker.size}<extra></extra>",
         "hovertext": [
          "Harvard University",
          "Massachusetts Institute of Technology",
          "Tufts University",
          "Boston College",
          "Brandeis University",
          "Boston University",
          "Northeastern University",
          "Worcester Polytechnic Institute",
          "Clark University",
          "University of Massachusetts--Amherst",
          "University of Massachusetts--Lowell",
          "Suffolk University",
          "Lesley University",
          "University of Massachusetts--Boston",
          "University of Massachusetts--Dartmouth"
         ],
         "legendgroup": "MA",
         "marker": {
          "color": "#EF553B",
          "size": [
           699,
           527,
           290,
           192,
           621,
           7932,
           3697,
           299,
           397,
           2748,
           3266,
           565,
           520,
           2949,
           295
          ],
          "sizemode": "area",
          "sizeref": 24.8775,
          "symbol": "circle"
         },
         "mode": "markers",
         "name": "MA",
         "orientation": "v",
         "showlegend": true,
         "type": "scatter",
         "x": [
          2,
          7,
          27,
          31,
          34,
          39,
          39,
          60,
          74,
          74,
          152,
          188,
          197,
          220,
          220
         ],
         "xaxis": "x",
         "y": [
          47074,
          48452,
          52430,
          51296,
          51570,
          50240,
          47655,
          46994,
          43150,
          30123,
          29125,
          35578,
          25750,
          32023,
          19270
         ],
         "yaxis": "y"
        },
        {
         "hovertemplate": "<b>%{hovertext}</b><br><br>State=IL<br>Rank=%{x}<br>Tuition and fees=%{y}<br>Undergrad Enrollment=%{marker.size}<extra></extra>",
         "hovertext": [
          "University of Chicago",
          "Northwestern University",
          "University of Illinois--Urbana-Champaign",
          "Loyola University Chicago",
          "Illinois Institute of Technology",
          "DePaul University",
          "Illinois State University",
          "University of Illinois--Chicago",
          "Northern Illinois University",
          "Southern Illinois University--Carbondale",
          "Benedictine University"
         ],
         "legendgroup": "IL",
         "marker": {
          "color": "#00cc96",
          "size": [
           844,
           314,
           3368,
           1079,
           991,
           5961,
           8426,
           7575,
           5027,
           3031,
           347
          ],
          "sizemode": "area",
          "sizeref": 24.8775,
          "symbol": "circle"
         },
         "mode": "markers",
         "name": "IL",
         "orientation": "v",
         "showlegend": true,
         "type": "scatter",
         "x": [
          3,
          12,
          44,
          99,
          103,
          124,
          152,
          152,
          214,
          214,
          220
         ],
         "xaxis": "x",
         "y": [
          52491,
          50855,
          31320,
          41384,
          45214,
          37626,
          20886,
          26526,
          23799,
          27130,
          32170
         ],
         "yaxis": "y"
        },
        {
         "hovertemplate": "<b>%{hovertext}</b><br><br>State=CT<br>Rank=%{x}<br>Tuition and fees=%{y}<br>Undergrad Enrollment=%{marker.size}<extra></extra>",
         "hovertext": [
          "Yale University",
          "University of Connecticut",
          "University of Hartford"
         ],
         "legendgroup": "CT",
         "marker": {
          "color": "#ab63fa",
          "size": [
           532,
           8826,
           246
          ],
          "sizemode": "area",
          "sizeref": 24.8775,
          "symbol": "circle"
         },
         "mode": "markers",
         "name": "CT",
         "orientation": "v",
         "showlegend": true,
         "type": "scatter",
         "x": [
          3,
          60,
          188
         ],
         "xaxis": "x",
         "y": [
          49480,
          35858,
          37790
         ],
         "yaxis": "y"
        },
        {
         "hovertemplate": "<b>%{hovertext}</b><br><br>State=NY<br>Rank=%{x}<br>Tuition and fees=%{y}<br>Undergrad Enrollment=%{marker.size}<extra></extra>",
         "hovertext": [
          "Columbia University",
          "Cornell University",
          "University of Rochester",
          "New York University",
          "Rensselaer Polytechnic Institute",
          "Fordham University",
          "Syracuse University",
          "Yeshiva University",
          "Binghamton University--SUNY",
          "Stony Brook University--SUNY",
          "SUNY College of Environmental Science and Forestry",
          "University at Buffalo--SUNY",
          "Rochester Institute of Technology",
          "Clarkson University",
          "New School",
          "Hofstra University",
          "Adelphi University",
          "St. John Fisher College",
          "University at Albany--SUNY",
          "St. John's University",
          "Pace University"
         ],
         "legendgroup": "NY",
         "marker": {
          "color": "#FFA15A",
          "size": [
           102,
           4315,
           304,
           5722,
           864,
           855,
           5196,
           744,
           3491,
           6831,
           839,
           9951,
           2607,
           257,
           792,
           824,
           852,
           805,
           2908,
           6210,
           747
          ],
          "sizemode": "area",
          "sizeref": 24.8775,
          "symbol": "circle"
         },
         "mode": "markers",
         "name": "NY",
         "orientation": "v",
         "showlegend": true,
         "type": "scatter",
         "x": [
          5,
          15,
          32,
          36,
          39,
          60,
          60,
          66,
          86,
          96,
          99,
          99,
          107,
          129,
          129,
          133,
          146,
          146,
          146,
          164,
          188
         ],
         "xaxis": "x",
         "y": [
          55056,
          50953,
          50142,
          49062,
          50797,
          47317,
          45022,
          40670,
          22164,
          26266,
          17620,
          26270,
          38568,
          46132,
          45535,
          42160,
          34034,
          31880,
          22244,
          39460,
          42772
         ],
         "yaxis": "y"
        },
        {
         "hovertemplate": "<b>%{hovertext}</b><br><br>State=CA<br>Rank=%{x}<br>Tuition and fees=%{y}<br>Undergrad Enrollment=%{marker.size}<extra></extra>",
         "hovertext": [
          "Stanford University",
          "California Institute of Technology",
          "University of California--Berkeley",
          "University of Southern California",
          "University of California--Los Angeles",
          "University of California--Santa Barbara",
          "University of California--Irvine",
          "University of California--Davis",
          "University of California--San Diego",
          "Pepperdine University",
          "University of California--Santa Cruz",
          "University of San Diego",
          "University of San Francisco",
          "University of the Pacific",
          "University of California--Riverside",
          "San Diego State University",
          "University of California--Merced",
          "University of La Verne",
          "Biola University",
          "Azusa Pacific University",
          "California State University--Fullerton",
          "California State University--Fresno"
         ],
         "legendgroup": "CA",
         "marker": {
          "color": "#19d3f3",
          "size": [
           999,
           1,
           7496,
           8810,
           9585,
           607,
           5256,
           8384,
           6590,
           533,
           6231,
           647,
           782,
           735,
           8608,
           9234,
           237,
           864,
           225,
           883,
           3144,
           1482
          ],
          "sizemode": "area",
          "sizeref": 24.8775,
          "symbol": "circle"
         },
         "mode": "markers",
         "name": "CA",
         "orientation": "v",
         "showlegend": true,
         "type": "scatter",
         "x": [
          5,
          12,
          20,
          23,
          24,
          37,
          39,
          44,
          44,
          50,
          79,
          86,
          107,
          111,
          118,
          146,
          152,
          152,
          164,
          183,
          202,
          220
         ],
         "xaxis": "x",
         "y": [
          47940,
          47577,
          40191,
          52217,
          39518,
          40704,
          39458,
          40728,
          41387,
          50022,
          40241,
          46140,
          44494,
          44588,
          40263,
          18244,
          39944,
          39900,
          36696,
          36120,
          17596,
          17209
         ],
         "yaxis": "y"
        },
        {
         "hovertemplate": "<b>%{hovertext}</b><br><br>State=NC<br>Rank=%{x}<br>Tuition and fees=%{y}<br>Undergrad Enrollment=%{marker.size}<extra></extra>",
         "hovertext": [
          "Duke University",
          "Wake Forest University",
          "University of North Carolina--Chapel Hill",
          "North Carolina State University--Raleigh",
          "University of North Carolina--Charlotte",
          "East Carolina University",
          "Gardner-Webb University",
          "University of North Carolina--Greensboro"
         ],
         "legendgroup": "NC",
         "marker": {
          "color": "#FF6692",
          "size": [
           639,
           871,
           8415,
           4111,
           2732,
           3039,
           615,
           5951
          ],
          "sizemode": "area",
          "sizeref": 24.8775,
          "symbol": "circle"
         },
         "mode": "markers",
         "name": "NC",
         "orientation": "v",
         "showlegend": true,
         "type": "scatter",
         "x": [
          8,
          27,
          30,
          92,
          202,
          210,
          220,
          220
         ],
         "xaxis": "x",
         "y": [
          51265,
          49308,
          33916,
          26399,
          20193,
          22904,
          29850,
          21595
         ],
         "yaxis": "y"
        },
        {
         "hovertemplate": "<b>%{hovertext}</b><br><br>State=PA<br>Rank=%{x}<br>Tuition and fees=%{y}<br>Undergrad Enrollment=%{marker.size}<extra></extra>",
         "hovertext": [
          "University of Pennsylvania",
          "Carnegie Mellon University",
          "Lehigh University",
          "Villanova University",
          "Pennsylvania State University--University Park",
          "University of Pittsburgh",
          "Drexel University",
          "Temple University",
          "Duquesne University",
          "Immaculata University",
          "Widener University",
          "Robert Morris University"
         ],
         "legendgroup": "PA",
         "marker": {
          "color": "#B6E880",
          "size": [
           726,
           454,
           75,
           994,
           742,
           8908,
           4138,
           8609,
           961,
           790,
           554,
           497
          ],
          "sizemode": "area",
          "sizeref": 24.8775,
          "symbol": "circle"
         },
         "mode": "markers",
         "name": "PA",
         "orientation": "v",
         "showlegend": true,
         "type": "scatter",
         "x": [
          8,
          24,
          44,
          50,
          50,
          68,
          96,
          118,
          124,
          152,
          183,
          188
         ],
         "xaxis": "x",
         "y": [
          51464,
          52040,
          48320,
          49280,
          32382,
          29758,
          51030,
          25994,
          35062,
          35210,
          42870,
          28250
         ],
         "yaxis": "y"
        },
        {
         "hovertemplate": "<b>%{hovertext}</b><br><br>State=MD<br>Rank=%{x}<br>Tuition and fees=%{y}<br>Undergrad Enrollment=%{marker.size}<extra></extra>",
         "hovertext": [
          "Johns Hopkins University",
          "University of Maryland--College Park",
          "University of Maryland--Baltimore County"
         ],
         "legendgroup": "MD",
         "marker": {
          "color": "#FF97FF",
          "size": [
           524,
           7443,
           1243
          ],
          "sizemode": "area",
          "sizeref": 24.8775,
          "symbol": "circle"
         },
         "mode": "markers",
         "name": "MD",
         "orientation": "v",
         "showlegend": true,
         "type": "scatter",
         "x": [
          10,
          60,
          159
         ],
         "xaxis": "x",
         "y": [
          50410,
          32045,
          24492
         ],
         "yaxis": "y"
        },
        {
         "hovertemplate": "<b>%{hovertext}</b><br><br>State=NH<br>Rank=%{x}<br>Tuition and fees=%{y}<br>Undergrad Enrollment=%{marker.size}<extra></extra>",
         "hovertext": [
          "Dartmouth College",
          "University of New Hampshire"
         ],
         "legendgroup": "NH",
         "marker": {
          "color": "#FECB52",
          "size": [
           307,
           3034
          ],
          "sizemode": "area",
          "sizeref": 24.8775,
          "symbol": "circle"
         },
         "mode": "markers",
         "name": "NH",
         "orientation": "v",
         "showlegend": true,
         "type": "scatter",
         "x": [
          11,
          107
         ],
         "xaxis": "x",
         "y": [
          51438,
          31424
         ],
         "yaxis": "y"
        },
        {
         "hovertemplate": "<b>%{hovertext}</b><br><br>State=RI<br>Rank=%{x}<br>Tuition and fees=%{y}<br>Undergrad Enrollment=%{marker.size}<extra></extra>",
         "hovertext": [
          "Brown University",
          "University of Rhode Island"
         ],
         "legendgroup": "RI",
         "marker": {
          "color": "#636efa",
          "size": [
           652,
           3641
          ],
          "sizemode": "area",
          "sizeref": 24.8775,
          "symbol": "circle"
         },
         "mode": "markers",
         "name": "RI",
         "orientation": "v",
         "showlegend": true,
         "type": "scatter",
         "x": [
          14,
          159
         ],
         "xaxis": "x",
         "y": [
          51367,
          28852
         ],
         "yaxis": "y"
        },
        {
         "hovertemplate": "<b>%{hovertext}</b><br><br>State=TX<br>Rank=%{x}<br>Tuition and fees=%{y}<br>Undergrad Enrollment=%{marker.size}<extra></extra>",
         "hovertext": [
          "Rice University",
          "Southern Methodist University",
          "University of Texas--Austin",
          "Baylor University",
          "Texas A&M University--College Station",
          "Texas Christian University",
          "University of Texas--Dallas",
          "Texas Tech University",
          "University of Houston",
          "Dallas Baptist University"
         ],
         "legendgroup": "TX",
         "marker": {
          "color": "#EF553B",
          "size": [
           910,
           411,
           9619,
           4189,
           8960,
           894,
           5575,
           9237,
           4716,
           315
          ],
          "sizemode": "area",
          "sizeref": 24.8775,
          "symbol": "circle"
         },
         "mode": "markers",
         "name": "TX",
         "orientation": "v",
         "showlegend": true,
         "type": "scatter",
         "x": [
          15,
          56,
          56,
          71,
          74,
          82,
          146,
          176,
          194,
          214
         ],
         "xaxis": "x",
         "y": [
          43918,
          50358,
          34676,
          42006,
          28768,
          42670,
          33654,
          22861,
          25410,
          26180
         ],
         "yaxis": "y"
        },
        {
         "hovertemplate": "<b>%{hovertext}</b><br><br>State=IN<br>Rank=%{x}<br>Tuition and fees=%{y}<br>Undergrad Enrollment=%{marker.size}<extra></extra>",
         "hovertext": [
          "University of Notre Dame",
          "Purdue University--West Lafayette",
          "Indiana University--Bloomington",
          "Ball State University",
          "Indiana University-Purdue University--Indianapolis"
         ],
         "legendgroup": "IN",
         "marker": {
          "color": "#00cc96",
          "size": [
           462,
           9497,
           8364,
           6602,
           1985
          ],
          "sizemode": "area",
          "sizeref": 24.8775,
          "symbol": "circle"
         },
         "mode": "markers",
         "name": "IN",
         "orientation": "v",
         "showlegend": true,
         "type": "scatter",
         "x": [
          15,
          60,
          86,
          176,
          197
         ],
         "xaxis": "x",
         "y": [
          49685,
          28804,
          34246,
          25428,
          29791
         ],
         "yaxis": "y"
        },
        {
         "hovertemplate": "<b>%{hovertext}</b><br><br>State=TN<br>Rank=%{x}<br>Tuition and fees=%{y}<br>Undergrad Enrollment=%{marker.size}<extra></extra>",
         "hovertext": [
          "Vanderbilt University",
          "University of Tennessee",
          "Union University",
          "Lipscomb University",
          "Tennessee Technological University"
         ],
         "legendgroup": "TN",
         "marker": {
          "color": "#ab63fa",
          "size": [
           883,
           1863,
           829,
           30,
           801
          ],
          "sizemode": "area",
          "sizeref": 24.8775,
          "symbol": "circle"
         },
         "mode": "markers",
         "name": "TN",
         "orientation": "v",
         "showlegend": true,
         "type": "scatter",
         "x": [
          15,
          103,
          169,
          176,
          220
         ],
         "xaxis": "x",
         "y": [
          45610,
          30858,
          30420,
          29756,
          24800
         ],
         "yaxis": "y"
        },
        {
         "hovertemplate": "<b>%{hovertext}</b><br><br>State=MO<br>Rank=%{x}<br>Tuition and fees=%{y}<br>Undergrad Enrollment=%{marker.size}<extra></extra>",
         "hovertext": [
          "Washington University in St. Louis",
          "Saint Louis University",
          "University of Missouri",
          "Maryville University of St. Louis",
          "Missouri University of Science & Technology",
          "University of Missouri--Kansas City",
          "University of Missouri--St. Louis"
         ],
         "legendgroup": "MO",
         "marker": {
          "color": "#FFA15A",
          "size": [
           504,
           248,
           7812,
           795,
           841,
           1253,
           3569
          ],
          "sizemode": "area",
          "sizeref": 24.8775,
          "symbol": "circle"
         },
         "mode": "markers",
         "name": "MO",
         "orientation": "v",
         "showlegend": true,
         "type": "scatter",
         "x": [
          19,
          96,
          111,
          164,
          164,
          210,
          220
         ],
         "xaxis": "x",
         "y": [
          49770,
          40726,
          25892,
          27958,
          26152,
          22714,
          26277
         ],
         "yaxis": "y"
        },
        {
         "hovertemplate": "<b>%{hovertext}</b><br><br>State=GA<br>Rank=%{x}<br>Tuition and fees=%{y}<br>Undergrad Enrollment=%{marker.size}<extra></extra>",
         "hovertext": [
          "Emory University",
          "Georgia Institute of Technology",
          "University of Georgia",
          "Mercer University"
         ],
         "legendgroup": "GA",
         "marker": {
          "color": "#19d3f3",
          "size": [
           867,
           5142,
           7547,
           667
          ],
          "sizemode": "area",
          "sizeref": 24.8775,
          "symbol": "circle"
         },
         "mode": "markers",
         "name": "GA",
         "orientation": "v",
         "showlegend": true,
         "type": "scatter",
         "x": [
          20,
          34,
          56,
          135
         ],
         "xaxis": "x",
         "y": [
          47954,
          32404,
          29844,
          35130
         ],
         "yaxis": "y"
        },
        {
         "hovertemplate": "<b>%{hovertext}</b><br><br>State=DC<br>Rank=%{x}<br>Tuition and fees=%{y}<br>Undergrad Enrollment=%{marker.size}<extra></extra>",
         "hovertext": [
          "Georgetown University",
          "George Washington University",
          "American University",
          "The Catholic University of America",
          "Howard University"
         ],
         "legendgroup": "DC",
         "marker": {
          "color": "#FF6692",
          "size": [
           562,
           1157,
           909,
           480,
           883
          ],
          "sizemode": "area",
          "sizeref": 24.8775,
          "symbol": "circle"
         },
         "mode": "markers",
         "name": "DC",
         "orientation": "v",
         "showlegend": true,
         "type": "scatter",
         "x": [
          20,
          56,
          74,
          124,
          124
         ],
         "xaxis": "x",
         "y": [
          50547,
          51950,
          44853,
          42536,
          24908
         ],
         "yaxis": "y"
        },
        {
         "hovertemplate": "<b>%{hovertext}</b><br><br>State=VA<br>Rank=%{x}<br>Tuition and fees=%{y}<br>Undergrad Enrollment=%{marker.size}<extra></extra>",
         "hovertext": [
          "University of Virginia",
          "College of William & Mary",
          "Virginia Tech",
          "George Mason University",
          "Virginia Commonwealth University",
          "Old Dominion University",
          "Shenandoah University"
         ],
         "legendgroup": "VA",
         "marker": {
          "color": "#B6E880",
          "size": [
           6736,
           301,
           5384,
           3062,
           4051,
           101,
           10
          ],
          "sizemode": "area",
          "sizeref": 24.8775,
          "symbol": "circle"
         },
         "mode": "markers",
         "name": "VA",
         "orientation": "v",
         "showlegend": true,
         "type": "scatter",
         "x": [
          24,
          32,
          74,
          143,
          164,
          210,
          220
         ],
         "xaxis": "x",
         "y": [
          45066,
          41718,
          29371,
          32582,
          31608,
          27028,
          31322
         ],
         "yaxis": "y"
        },
        {
         "hovertemplate": "<b>%{hovertext}</b><br><br>State=MI<br>Rank=%{x}<br>Tuition and fees=%{y}<br>Undergrad Enrollment=%{marker.size}<extra></extra>",
         "hovertext": [
          "University of Michigan--Ann Arbor",
          "Michigan State University",
          "Michigan Technological University",
          "Andrews University",
          "Western Michigan University",
          "Central Michigan University"
         ],
         "legendgroup": "MI",
         "marker": {
          "color": "#FF97FF",
          "size": [
           8312,
           9143,
           721,
           733,
           8567,
           498
          ],
          "sizemode": "area",
          "sizeref": 24.8775,
          "symbol": "circle"
         },
         "mode": "markers",
         "name": "MI",
         "orientation": "v",
         "showlegend": true,
         "type": "scatter",
         "x": [
          27,
          82,
          118,
          183,
          194,
          202
         ],
         "xaxis": "x",
         "y": [
          43476,
          39090,
          30968,
          27684,
          25713,
          23670
         ],
         "yaxis": "y"
        },
        {
         "hovertemplate": "<b>%{hovertext}</b><br><br>State=OH<br>Rank=%{x}<br>Tuition and fees=%{y}<br>Undergrad Enrollment=%{marker.size}<extra></extra>",
         "hovertext": [
          "Case Western Reserve University",
          "Ohio State University--Columbus",
          "Miami University--Oxford",
          "University of Dayton",
          "University of Cincinnati",
          "Ohio University",
          "Kent State University",
          "Bowling Green State University",
          "Ashland University"
         ],
         "legendgroup": "OH",
         "marker": {
          "color": "#FECB52",
          "size": [
           121,
           5289,
           6387,
           665,
           5054,
           3513,
           3607,
           4334,
           716
          ],
          "sizemode": "area",
          "sizeref": 24.8775,
          "symbol": "circle"
         },
         "mode": "markers",
         "name": "OH",
         "orientation": "v",
         "showlegend": true,
         "type": "scatter",
         "x": [
          37,
          54,
          79,
          111,
          135,
          146,
          188,
          194,
          214
         ],
         "xaxis": "x",
         "y": [
          46006,
          29229,
          31592,
          40940,
          26334,
          21208,
          18376,
          18332,
          20392
         ],
         "yaxis": "y"
        },
        {
         "hovertemplate": "<b>%{hovertext}</b><br><br>State=LA<br>Rank=%{x}<br>Tuition and fees=%{y}<br>Undergrad Enrollment=%{marker.size}<extra></extra>",
         "hovertext": [
          "Tulane University",
          "Louisiana State University--Baton Rouge",
          "Louisiana Tech University"
         ],
         "legendgroup": "LA",
         "marker": {
          "color": "#636efa",
          "size": [
           662,
           6156,
           682
          ],
          "sizemode": "area",
          "sizeref": 24.8775,
          "symbol": "circle"
         },
         "mode": "markers",
         "name": "LA",
         "orientation": "v",
         "showlegend": true,
         "type": "scatter",
         "x": [
          39,
          135,
          202
         ],
         "xaxis": "x",
         "y": [
          51010,
          27005,
          25851
         ],
         "yaxis": "y"
        },
        {
         "hovertemplate": "<b>%{hovertext}</b><br><br>State=FL<br>Rank=%{x}<br>Tuition and fees=%{y}<br>Undergrad Enrollment=%{marker.size}<extra></extra>",
         "hovertext": [
          "University of Miami",
          "University of Florida",
          "Florida State University",
          "University of South Florida",
          "Florida Institute of Technology",
          "University of Central Florida",
          "Nova Southeastern University"
         ],
         "legendgroup": "FL",
         "marker": {
          "color": "#EF553B",
          "size": [
           1122,
           5043,
           2706,
           1111,
           586,
           4513,
           641
          ],
          "sizemode": "area",
          "sizeref": 24.8775,
          "symbol": "circle"
         },
         "mode": "markers",
         "name": "FL",
         "orientation": "v",
         "showlegend": true,
         "type": "scatter",
         "x": [
          44,
          50,
          92,
          159,
          171,
          176,
          214
         ],
         "xaxis": "x",
         "y": [
          47004,
          28666,
          24673,
          17325,
          40446,
          22467,
          27660
         ],
         "yaxis": "y"
        },
        {
         "hovertemplate": "<b>%{hovertext}</b><br><br>State=WI<br>Rank=%{x}<br>Tuition and fees=%{y}<br>Undergrad Enrollment=%{marker.size}<extra></extra>",
         "hovertext": [
          "University of Wisconsin--Madison",
          "Marquette University",
          "Edgewood College"
         ],
         "legendgroup": "WI",
         "marker": {
          "color": "#00cc96",
          "size": [
           1662,
           334,
           813
          ],
          "sizemode": "area",
          "sizeref": 24.8775,
          "symbol": "circle"
         },
         "mode": "markers",
         "name": "WI",
         "orientation": "v",
         "showlegend": true,
         "type": "scatter",
         "x": [
          44,
          86,
          171
         ],
         "xaxis": "x",
         "y": [
          32738,
          38470,
          27530
         ],
         "yaxis": "y"
        },
        {
         "hovertemplate": "<b>%{hovertext}</b><br><br>State=WA<br>Rank=%{x}<br>Tuition and fees=%{y}<br>Undergrad Enrollment=%{marker.size}<extra></extra>",
         "hovertext": [
          "University of Washington",
          "Washington State University",
          "Seattle Pacific University"
         ],
         "legendgroup": "WA",
         "marker": {
          "color": "#ab63fa",
          "size": [
           1063,
           4470,
           202
          ],
          "sizemode": "area",
          "sizeref": 24.8775,
          "symbol": "circle"
         },
         "mode": "markers",
         "name": "WA",
         "orientation": "v",
         "showlegend": true,
         "type": "scatter",
         "x": [
          54,
          143,
          159
         ],
         "xaxis": "x",
         "y": [
          34791,
          25673,
          38940
         ],
         "yaxis": "y"
        },
        {
         "hovertemplate": "<b>%{hovertext}</b><br><br>State=SC<br>Rank=%{x}<br>Tuition and fees=%{y}<br>Undergrad Enrollment=%{marker.size}<extra></extra>",
         "hovertext": [
          "Clemson University",
          "University of South Carolina"
         ],
         "legendgroup": "SC",
         "marker": {
          "color": "#FFA15A",
          "size": [
           8016,
           5237
          ],
          "sizemode": "area",
          "sizeref": 24.8775,
          "symbol": "circle"
         },
         "mode": "markers",
         "name": "SC",
         "orientation": "v",
         "showlegend": true,
         "type": "scatter",
         "x": [
          66,
          107
         ],
         "xaxis": "x",
         "y": [
          32796,
          31282
         ],
         "yaxis": "y"
        },
        {
         "hovertemplate": "<b>%{hovertext}</b><br><br>State=UT<br>Rank=%{x}<br>Tuition and fees=%{y}<br>Undergrad Enrollment=%{marker.size}<extra></extra>",
         "hovertext": [
          "Brigham Young University--Provo",
          "University of Utah",
          "Utah State University"
         ],
         "legendgroup": "UT",
         "marker": {
          "color": "#19d3f3",
          "size": [
           221,
           3794,
           5259
          ],
          "sizemode": "area",
          "sizeref": 24.8775,
          "symbol": "circle"
         },
         "mode": "markers",
         "name": "UT",
         "orientation": "v",
         "showlegend": true,
         "type": "scatter",
         "x": [
          68,
          111,
          220
         ],
         "xaxis": "x",
         "y": [
          5300,
          27039,
          19772
         ],
         "yaxis": "y"
        },
        {
         "hovertemplate": "<b>%{hovertext}</b><br><br>State=MN<br>Rank=%{x}<br>Tuition and fees=%{y}<br>Undergrad Enrollment=%{marker.size}<extra></extra>",
         "hovertext": [
          "University of Minnesota--Twin Cities",
          "University of St. Thomas"
         ],
         "legendgroup": "MN",
         "marker": {
          "color": "#FF6692",
          "size": [
           4071,
           240
          ],
          "sizemode": "area",
          "sizeref": 24.8775,
          "symbol": "circle"
         },
         "mode": "markers",
         "name": "MN",
         "orientation": "v",
         "showlegend": true,
         "type": "scatter",
         "x": [
          71,
          118
         ],
         "xaxis": "x",
         "y": [
          22210,
          39594
         ],
         "yaxis": "y"
        },
        {
         "hovertemplate": "<b>%{hovertext}</b><br><br>State=DE<br>Rank=%{x}<br>Tuition and fees=%{y}<br>Undergrad Enrollment=%{marker.size}<extra></extra>",
         "hovertext": [
          "University of Delaware"
         ],
         "legendgroup": "DE",
         "marker": {
          "color": "#B6E880",
          "size": [
           8322
          ],
          "sizemode": "area",
          "sizeref": 24.8775,
          "symbol": "circle"
         },
         "mode": "markers",
         "name": "DE",
         "orientation": "v",
         "showlegend": true,
         "type": "scatter",
         "x": [
          79
         ],
         "xaxis": "x",
         "y": [
          31420
         ],
         "yaxis": "y"
        },
        {
         "hovertemplate": "<b>%{hovertext}</b><br><br>State=CO<br>Rank=%{x}<br>Tuition and fees=%{y}<br>Undergrad Enrollment=%{marker.size}<extra></extra>",
         "hovertext": [
          "Colorado School of Mines",
          "University of Denver",
          "University of Colorado--Boulder",
          "Colorado State University",
          "University of Colorado--Denver"
         ],
         "legendgroup": "CO",
         "marker": {
          "color": "#FF97FF",
          "size": [
           608,
           758,
           7010,
           4433,
           4036
          ],
          "sizemode": "area",
          "sizeref": 24.8775,
          "symbol": "circle"
         },
         "mode": "markers",
         "name": "CO",
         "orientation": "v",
         "showlegend": true,
         "type": "scatter",
         "x": [
          82,
          86,
          92,
          129,
          197
         ],
         "xaxis": "x",
         "y": [
          34828,
          46362,
          35079,
          28374,
          29334
         ],
         "yaxis": "y"
        },
        {
         "hovertemplate": "<b>%{hovertext}</b><br><br>State=IA<br>Rank=%{x}<br>Tuition and fees=%{y}<br>Undergrad Enrollment=%{marker.size}<extra></extra>",
         "hovertext": [
          "University of Iowa",
          "Iowa State University"
         ],
         "legendgroup": "IA",
         "marker": {
          "color": "#FECB52",
          "size": [
           3357,
           34
          ],
          "sizemode": "area",
          "sizeref": 24.8775,
          "symbol": "circle"
         },
         "mode": "markers",
         "name": "IA",
         "orientation": "v",
         "showlegend": true,
         "type": "scatter",
         "x": [
          82,
          111
         ],
         "xaxis": "x",
         "y": [
          28413,
          21483
         ],
         "yaxis": "y"
        },
        {
         "hovertemplate": "<b>%{hovertext}</b><br><br>State=OK<br>Rank=%{x}<br>Tuition and fees=%{y}<br>Undergrad Enrollment=%{marker.size}<extra></extra>",
         "hovertext": [
          "University of Tulsa",
          "University of Oklahoma",
          "Oklahoma State University"
         ],
         "legendgroup": "OK",
         "marker": {
          "color": "#636efa",
          "size": [
           478,
           2132,
           1046
          ],
          "sizemode": "area",
          "sizeref": 24.8775,
          "symbol": "circle"
         },
         "mode": "markers",
         "name": "OK",
         "orientation": "v",
         "showlegend": true,
         "type": "scatter",
         "x": [
          86,
          111,
          152
         ],
         "xaxis": "x",
         "y": [
          38796,
          21451,
          20978
         ],
         "yaxis": "y"
        },
        {
         "hovertemplate": "<b>%{hovertext}</b><br><br>State=VT<br>Rank=%{x}<br>Tuition and fees=%{y}<br>Undergrad Enrollment=%{marker.size}<extra></extra>",
         "hovertext": [
          "University of Vermont"
         ],
         "legendgroup": "VT",
         "marker": {
          "color": "#EF553B",
          "size": [
           973
          ],
          "sizemode": "area",
          "sizeref": 24.8775,
          "symbol": "circle"
         },
         "mode": "markers",
         "name": "VT",
         "orientation": "v",
         "showlegend": true,
         "type": "scatter",
         "x": [
          92
         ],
         "xaxis": "x",
         "y": [
          40364
         ],
         "yaxis": "y"
        },
        {
         "hovertemplate": "<b>%{hovertext}</b><br><br>State=AL<br>Rank=%{x}<br>Tuition and fees=%{y}<br>Undergrad Enrollment=%{marker.size}<extra></extra>",
         "hovertext": [
          "Auburn University",
          "University of Alabama",
          "University of Alabama--Birmingham",
          "University of Alabama--Huntsville"
         ],
         "legendgroup": "AL",
         "marker": {
          "color": "#00cc96",
          "size": [
           1786,
           1958,
           1511,
           13
          ],
          "sizemode": "area",
          "sizeref": 24.8775,
          "symbol": "circle"
         },
         "mode": "markers",
         "name": "AL",
         "orientation": "v",
         "showlegend": true,
         "type": "scatter",
         "x": [
          99,
          103,
          159,
          197
         ],
         "xaxis": "x",
         "y": [
          28840,
          26950,
          17654,
          20622
         ],
         "yaxis": "y"
        },
        {
         "hovertemplate": "<b>%{hovertext}</b><br><br>State=OR<br>Rank=%{x}<br>Tuition and fees=%{y}<br>Undergrad Enrollment=%{marker.size}<extra></extra>",
         "hovertext": [
          "University of Oregon",
          "Oregon State University"
         ],
         "legendgroup": "OR",
         "marker": {
          "color": "#ab63fa",
          "size": [
           538,
           4612
          ],
          "sizemode": "area",
          "sizeref": 24.8775,
          "symbol": "circle"
         },
         "mode": "markers",
         "name": "OR",
         "orientation": "v",
         "showlegend": true,
         "type": "scatter",
         "x": [
          103,
          143
         ],
         "xaxis": "x",
         "y": [
          33442,
          28846
         ],
         "yaxis": "y"
        },
        {
         "hovertemplate": "<b>%{hovertext}</b><br><br>State=NE<br>Rank=%{x}<br>Tuition and fees=%{y}<br>Undergrad Enrollment=%{marker.size}<extra></extra>",
         "hovertext": [
          "University of Nebraska--Lincoln"
         ],
         "legendgroup": "NE",
         "marker": {
          "color": "#FFA15A",
          "size": [
           182
          ],
          "sizemode": "area",
          "sizeref": 24.8775,
          "symbol": "circle"
         },
         "mode": "markers",
         "name": "NE",
         "orientation": "v",
         "showlegend": true,
         "type": "scatter",
         "x": [
          111
         ],
         "xaxis": "x",
         "y": [
          23148
         ],
         "yaxis": "y"
        },
        {
         "hovertemplate": "<b>%{hovertext}</b><br><br>State=KS<br>Rank=%{x}<br>Tuition and fees=%{y}<br>Undergrad Enrollment=%{marker.size}<extra></extra>",
         "hovertext": [
          "University of Kansas",
          "Kansas State University"
         ],
         "legendgroup": "KS",
         "marker": {
          "color": "#19d3f3",
          "size": [
           9245,
           9859
          ],
          "sizemode": "area",
          "sizeref": 24.8775,
          "symbol": "circle"
         },
         "mode": "markers",
         "name": "KS",
         "orientation": "v",
         "showlegend": true,
         "type": "scatter",
         "x": [
          118,
          135
         ],
         "xaxis": "x",
         "y": [
          25932,
          23429
         ],
         "yaxis": "y"
        },
        {
         "hovertemplate": "<b>%{hovertext}</b><br><br>State=AZ<br>Rank=%{x}<br>Tuition and fees=%{y}<br>Undergrad Enrollment=%{marker.size}<extra></extra>",
         "hovertext": [
          "University of Arizona",
          "Arizona State University--Tempe"
         ],
         "legendgroup": "AZ",
         "marker": {
          "color": "#FF6692",
          "size": [
           3732,
           1828
          ],
          "sizemode": "area",
          "sizeref": 24.8775,
          "symbol": "circle"
         },
         "mode": "markers",
         "name": "AZ",
         "orientation": "v",
         "showlegend": true,
         "type": "scatter",
         "x": [
          124,
          129
         ],
         "xaxis": "x",
         "y": [
          30025,
          25458
         ],
         "yaxis": "y"
        },
        {
         "hovertemplate": "<b>%{hovertext}</b><br><br>State=KY<br>Rank=%{x}<br>Tuition and fees=%{y}<br>Undergrad Enrollment=%{marker.size}<extra></extra>",
         "hovertext": [
          "University of Kentucky",
          "University of Louisville"
         ],
         "legendgroup": "KY",
         "marker": {
          "color": "#B6E880",
          "size": [
           2705,
           5769
          ],
          "sizemode": "area",
          "sizeref": 24.8775,
          "symbol": "circle"
         },
         "mode": "markers",
         "name": "KY",
         "orientation": "v",
         "showlegend": true,
         "type": "scatter",
         "x": [
          133,
          171
         ],
         "xaxis": "x",
         "y": [
          26334,
          24626
         ],
         "yaxis": "y"
        },
        {
         "hovertemplate": "<b>%{hovertext}</b><br><br>State=AR<br>Rank=%{x}<br>Tuition and fees=%{y}<br>Undergrad Enrollment=%{marker.size}<extra></extra>",
         "hovertext": [
          "University of Arkansas"
         ],
         "legendgroup": "AR",
         "marker": {
          "color": "#FF97FF",
          "size": [
           2159
          ],
          "sizemode": "area",
          "sizeref": 24.8775,
          "symbol": "circle"
         },
         "mode": "markers",
         "name": "AR",
         "orientation": "v",
         "showlegend": true,
         "type": "scatter",
         "x": [
          135
         ],
         "xaxis": "x",
         "y": [
          23168
         ],
         "yaxis": "y"
        },
        {
         "hovertemplate": "<b>%{hovertext}</b><br><br>State=MS<br>Rank=%{x}<br>Tuition and fees=%{y}<br>Undergrad Enrollment=%{marker.size}<extra></extra>",
         "hovertext": [
          "University of Mississippi",
          "Mississippi State University",
          "University of Southern Mississippi"
         ],
         "legendgroup": "MS",
         "marker": {
          "color": "#FECB52",
          "size": [
           8785,
           7421,
           1840
          ],
          "sizemode": "area",
          "sizeref": 24.8775,
          "symbol": "circle"
         },
         "mode": "markers",
         "name": "MS",
         "orientation": "v",
         "showlegend": true,
         "type": "scatter",
         "x": [
          135,
          176,
          220
         ],
         "xaxis": "x",
         "y": [
          22012,
          20142,
          16094
         ],
         "yaxis": "y"
        },
        {
         "hovertemplate": "<b>%{hovertext}</b><br><br>State=HI<br>Rank=%{x}<br>Tuition and fees=%{y}<br>Undergrad Enrollment=%{marker.size}<extra></extra>",
         "hovertext": [
          "University of Hawaii--Manoa"
         ],
         "legendgroup": "HI",
         "marker": {
          "color": "#636efa",
          "size": [
           3689
          ],
          "sizemode": "area",
          "sizeref": 24.8775,
          "symbol": "circle"
         },
         "mode": "markers",
         "name": "HI",
         "orientation": "v",
         "showlegend": true,
         "type": "scatter",
         "x": [
          169
         ],
         "xaxis": "x",
         "y": [
          33764
         ],
         "yaxis": "y"
        },
        {
         "hovertemplate": "<b>%{hovertext}</b><br><br>State=ID<br>Rank=%{x}<br>Tuition and fees=%{y}<br>Undergrad Enrollment=%{marker.size}<extra></extra>",
         "hovertext": [
          "University of Idaho"
         ],
         "legendgroup": "ID",
         "marker": {
          "color": "#EF553B",
          "size": [
           116
          ],
          "sizemode": "area",
          "sizeref": 24.8775,
          "symbol": "circle"
         },
         "mode": "markers",
         "name": "ID",
         "orientation": "v",
         "showlegend": true,
         "type": "scatter",
         "x": [
          171
         ],
         "xaxis": "x",
         "y": [
          22040
         ],
         "yaxis": "y"
        },
        {
         "hovertemplate": "<b>%{hovertext}</b><br><br>State=WY<br>Rank=%{x}<br>Tuition and fees=%{y}<br>Undergrad Enrollment=%{marker.size}<extra></extra>",
         "hovertext": [
          "University of Wyoming"
         ],
         "legendgroup": "WY",
         "marker": {
          "color": "#00cc96",
          "size": [
           45
          ],
          "sizemode": "area",
          "sizeref": 24.8775,
          "symbol": "circle"
         },
         "mode": "markers",
         "name": "WY",
         "orientation": "v",
         "showlegend": true,
         "type": "scatter",
         "x": [
          171
         ],
         "xaxis": "x",
         "y": [
          16215
         ],
         "yaxis": "y"
        },
        {
         "hovertemplate": "<b>%{hovertext}</b><br><br>State=NM<br>Rank=%{x}<br>Tuition and fees=%{y}<br>Undergrad Enrollment=%{marker.size}<extra></extra>",
         "hovertext": [
          "University of New Mexico",
          "New Mexico State University"
         ],
         "legendgroup": "NM",
         "marker": {
          "color": "#ab63fa",
          "size": [
           522,
           2526
          ],
          "sizemode": "area",
          "sizeref": 24.8775,
          "symbol": "circle"
         },
         "mode": "markers",
         "name": "NM",
         "orientation": "v",
         "showlegend": true,
         "type": "scatter",
         "x": [
          176,
          220
         ],
         "xaxis": "x",
         "y": [
          21302,
          21234
         ],
         "yaxis": "y"
        },
        {
         "hovertemplate": "<b>%{hovertext}</b><br><br>State=ME<br>Rank=%{x}<br>Tuition and fees=%{y}<br>Undergrad Enrollment=%{marker.size}<extra></extra>",
         "hovertext": [
          "University of Maine"
         ],
         "legendgroup": "ME",
         "marker": {
          "color": "#FFA15A",
          "size": [
           297
          ],
          "sizemode": "area",
          "sizeref": 24.8775,
          "symbol": "circle"
         },
         "mode": "markers",
         "name": "ME",
         "orientation": "v",
         "showlegend": true,
         "type": "scatter",
         "x": [
          183
         ],
         "xaxis": "x",
         "y": [
          29498
         ],
         "yaxis": "y"
        },
        {
         "hovertemplate": "<b>%{hovertext}</b><br><br>State=WV<br>Rank=%{x}<br>Tuition and fees=%{y}<br>Undergrad Enrollment=%{marker.size}<extra></extra>",
         "hovertext": [
          "West Virginia University"
         ],
         "legendgroup": "WV",
         "marker": {
          "color": "#19d3f3",
          "size": [
           2498
          ],
          "sizemode": "area",
          "sizeref": 24.8775,
          "symbol": "circle"
         },
         "mode": "markers",
         "name": "WV",
         "orientation": "v",
         "showlegend": true,
         "type": "scatter",
         "x": [
          183
         ],
         "xaxis": "x",
         "y": [
          21432
         ],
         "yaxis": "y"
        },
        {
         "hovertemplate": "<b>%{hovertext}</b><br><br>State=ND<br>Rank=%{x}<br>Tuition and fees=%{y}<br>Undergrad Enrollment=%{marker.size}<extra></extra>",
         "hovertext": [
          "North Dakota State University",
          "University of North Dakota"
         ],
         "legendgroup": "ND",
         "marker": {
          "color": "#FF6692",
          "size": [
           2037,
           1577
          ],
          "sizemode": "area",
          "sizeref": 24.8775,
          "symbol": "circle"
         },
         "mode": "markers",
         "name": "ND",
         "orientation": "v",
         "showlegend": true,
         "type": "scatter",
         "x": [
          188,
          202
         ],
         "xaxis": "x",
         "y": [
          19790,
          18899
         ],
         "yaxis": "y"
        },
        {
         "hovertemplate": "<b>%{hovertext}</b><br><br>State=NV<br>Rank=%{x}<br>Tuition and fees=%{y}<br>Undergrad Enrollment=%{marker.size}<extra></extra>",
         "hovertext": [
          "University of Nevada--Reno"
         ],
         "legendgroup": "NV",
         "marker": {
          "color": "#B6E880",
          "size": [
           7770
          ],
          "sizemode": "area",
          "sizeref": 24.8775,
          "symbol": "circle"
         },
         "mode": "markers",
         "name": "NV",
         "orientation": "v",
         "showlegend": true,
         "type": "scatter",
         "x": [
          197
         ],
         "xaxis": "x",
         "y": [
          21052
         ],
         "yaxis": "y"
        },
        {
         "hovertemplate": "<b>%{hovertext}</b><br><br>State=SD<br>Rank=%{x}<br>Tuition and fees=%{y}<br>Undergrad Enrollment=%{marker.size}<extra></extra>",
         "hovertext": [
          "South Dakota State University",
          "University of South Dakota"
         ],
         "legendgroup": "SD",
         "marker": {
          "color": "#FF97FF",
          "size": [
           1007,
           435
          ],
          "sizemode": "area",
          "sizeref": 24.8775,
          "symbol": "circle"
         },
         "mode": "markers",
         "name": "SD",
         "orientation": "v",
         "showlegend": true,
         "type": "scatter",
         "x": [
          202,
          202
         ],
         "xaxis": "x",
         "y": [
          11403,
          11688
         ],
         "yaxis": "y"
        },
        {
         "hovertemplate": "<b>%{hovertext}</b><br><br>State=AK<br>Rank=%{x}<br>Tuition and fees=%{y}<br>Undergrad Enrollment=%{marker.size}<extra></extra>",
         "hovertext": [
          "University of Alaska--Fairbanks"
         ],
         "legendgroup": "AK",
         "marker": {
          "color": "#FECB52",
          "size": [
           610
          ],
          "sizemode": "area",
          "sizeref": 24.8775,
          "symbol": "circle"
         },
         "mode": "markers",
         "name": "AK",
         "orientation": "v",
         "showlegend": true,
         "type": "scatter",
         "x": [
          202
         ],
         "xaxis": "x",
         "y": [
          22469
         ],
         "yaxis": "y"
        },
        {
         "hovertemplate": "<b>%{hovertext}</b><br><br>State=MT<br>Rank=%{x}<br>Tuition and fees=%{y}<br>Undergrad Enrollment=%{marker.size}<extra></extra>",
         "hovertext": [
          "Montana State University",
          "University of Montana"
         ],
         "legendgroup": "MT",
         "marker": {
          "color": "#636efa",
          "size": [
           3707,
           732
          ],
          "sizemode": "area",
          "sizeref": 24.8775,
          "symbol": "circle"
         },
         "mode": "markers",
         "name": "MT",
         "orientation": "v",
         "showlegend": true,
         "type": "scatter",
         "x": [
          210,
          214
         ],
         "xaxis": "x",
         "y": [
          23042,
          24562
         ],
         "yaxis": "y"
        },
        {
         "hovertemplate": "<b>OLS trendline</b><br>Tuition and fees = -116.555 * Rank + 47054.4<br>R<sup>2</sup>=0.511360<br><br>Rank=%{x}<br>Tuition and fees=%{y} <b>(trend)</b><extra></extra>",
         "legendgroup": "Overall Trendline",
         "line": {
          "color": "#EF553B"
         },
         "mode": "lines",
         "name": "Overall Trendline",
         "showlegend": true,
         "type": "scatter",
         "x": [
          1,
          2,
          3,
          3,
          5,
          5,
          7,
          8,
          8,
          10,
          11,
          12,
          12,
          14,
          15,
          15,
          15,
          15,
          19,
          20,
          20,
          20,
          23,
          24,
          24,
          24,
          27,
          27,
          27,
          30,
          31,
          32,
          32,
          34,
          34,
          36,
          37,
          37,
          39,
          39,
          39,
          39,
          39,
          44,
          44,
          44,
          44,
          44,
          44,
          50,
          50,
          50,
          50,
          54,
          54,
          56,
          56,
          56,
          56,
          60,
          60,
          60,
          60,
          60,
          60,
          66,
          66,
          68,
          68,
          70,
          71,
          71,
          71,
          74,
          74,
          74,
          74,
          74,
          79,
          79,
          79,
          82,
          82,
          82,
          82,
          86,
          86,
          86,
          86,
          86,
          86,
          92,
          92,
          92,
          92,
          96,
          96,
          96,
          99,
          99,
          99,
          99,
          103,
          103,
          103,
          103,
          107,
          107,
          107,
          107,
          111,
          111,
          111,
          111,
          111,
          111,
          111,
          118,
          118,
          118,
          118,
          118,
          118,
          124,
          124,
          124,
          124,
          124,
          129,
          129,
          129,
          129,
          133,
          133,
          135,
          135,
          135,
          135,
          135,
          135,
          135,
          135,
          143,
          143,
          143,
          146,
          146,
          146,
          146,
          146,
          146,
          152,
          152,
          152,
          152,
          152,
          152,
          152,
          159,
          159,
          159,
          159,
          159,
          164,
          164,
          164,
          164,
          164,
          169,
          169,
          171,
          171,
          171,
          171,
          171,
          176,
          176,
          176,
          176,
          176,
          176,
          176,
          183,
          183,
          183,
          183,
          183,
          188,
          188,
          188,
          188,
          188,
          188,
          194,
          194,
          194,
          197,
          197,
          197,
          197,
          197,
          202,
          202,
          202,
          202,
          202,
          202,
          202,
          202,
          210,
          210,
          210,
          210,
          214,
          214,
          214,
          214,
          214,
          214,
          220,
          220,
          220,
          220,
          220,
          220,
          220,
          220,
          220,
          220,
          220,
          220
         ],
         "xaxis": "x",
         "y": [
          46937.891847592975,
          46821.33730462987,
          46704.78276166677,
          46704.78276166677,
          46471.67367574057,
          46471.67367574057,
          46238.56458981437,
          46122.01004685127,
          46122.01004685127,
          45888.900960925064,
          45772.34641796196,
          45655.79187499886,
          45655.79187499886,
          45422.682789072656,
          45306.128246109554,
          45306.128246109554,
          45306.128246109554,
          45306.128246109554,
          44839.91007425715,
          44723.35553129405,
          44723.35553129405,
          44723.35553129405,
          44373.691902404746,
          44257.137359441644,
          44257.137359441644,
          44257.137359441644,
          43907.47373055234,
          43907.47373055234,
          43907.47373055234,
          43557.81010166304,
          43441.25555869994,
          43324.701015736835,
          43324.701015736835,
          43091.59192981063,
          43091.59192981063,
          42858.48284388443,
          42741.928300921325,
          42741.928300921325,
          42508.81921499512,
          42508.81921499512,
          42508.81921499512,
          42508.81921499512,
          42508.81921499512,
          41926.04650017962,
          41926.04650017962,
          41926.04650017962,
          41926.04650017962,
          41926.04650017962,
          41926.04650017962,
          41226.71924240101,
          41226.71924240101,
          41226.71924240101,
          41226.71924240101,
          40760.501070548606,
          40760.501070548606,
          40527.3919846224,
          40527.3919846224,
          40527.3919846224,
          40527.3919846224,
          40061.173812769994,
          40061.173812769994,
          40061.173812769994,
          40061.173812769994,
          40061.173812769994,
          40061.173812769994,
          39361.84655499139,
          39361.84655499139,
          39128.737469065185,
          39128.737469065185,
          38895.62838313898,
          38779.073840175886,
          38779.073840175886,
          38779.073840175886,
          38429.41021128658,
          38429.41021128658,
          38429.41021128658,
          38429.41021128658,
          38429.41021128658,
          37846.63749647107,
          37846.63749647107,
          37846.63749647107,
          37496.973867581764,
          37496.973867581764,
          37496.973867581764,
          37496.973867581764,
          37030.755695729364,
          37030.755695729364,
          37030.755695729364,
          37030.755695729364,
          37030.755695729364,
          37030.755695729364,
          36331.42843795075,
          36331.42843795075,
          36331.42843795075,
          36331.42843795075,
          35865.21026609835,
          35865.21026609835,
          35865.21026609835,
          35515.546637209045,
          35515.546637209045,
          35515.546637209045,
          35515.546637209045,
          35049.32846535664,
          35049.32846535664,
          35049.32846535664,
          35049.32846535664,
          34583.11029350423,
          34583.11029350423,
          34583.11029350423,
          34583.11029350423,
          34116.89212165183,
          34116.89212165183,
          34116.89212165183,
          34116.89212165183,
          34116.89212165183,
          34116.89212165183,
          34116.89212165183,
          33301.01032091012,
          33301.01032091012,
          33301.01032091012,
          33301.01032091012,
          33301.01032091012,
          33301.01032091012,
          32601.68306313151,
          32601.68306313151,
          32601.68306313151,
          32601.68306313151,
          32601.68306313151,
          32018.910348316003,
          32018.910348316003,
          32018.910348316003,
          32018.910348316003,
          31552.6921764636,
          31552.6921764636,
          31319.583090537395,
          31319.583090537395,
          31319.583090537395,
          31319.583090537395,
          31319.583090537395,
          31319.583090537395,
          31319.583090537395,
          31319.583090537395,
          30387.146746832586,
          30387.146746832586,
          30387.146746832586,
          30037.48311794328,
          30037.48311794328,
          30037.48311794328,
          30037.48311794328,
          30037.48311794328,
          30037.48311794328,
          29338.155860164672,
          29338.155860164672,
          29338.155860164672,
          29338.155860164672,
          29338.155860164672,
          29338.155860164672,
          29338.155860164672,
          28522.274059422965,
          28522.274059422965,
          28522.274059422965,
          28522.274059422965,
          28522.274059422965,
          27939.501344607455,
          27939.501344607455,
          27939.501344607455,
          27939.501344607455,
          27939.501344607455,
          27356.72862979195,
          27356.72862979195,
          27123.61954386575,
          27123.61954386575,
          27123.61954386575,
          27123.61954386575,
          27123.61954386575,
          26540.846829050242,
          26540.846829050242,
          26540.846829050242,
          26540.846829050242,
          26540.846829050242,
          26540.846829050242,
          26540.846829050242,
          25724.965028308532,
          25724.965028308532,
          25724.965028308532,
          25724.965028308532,
          25724.965028308532,
          25142.192313493026,
          25142.192313493026,
          25142.192313493026,
          25142.192313493026,
          25142.192313493026,
          25142.192313493026,
          24442.865055714417,
          24442.865055714417,
          24442.865055714417,
          24093.20142682511,
          24093.20142682511,
          24093.20142682511,
          24093.20142682511,
          24093.20142682511,
          23510.428712009605,
          23510.428712009605,
          23510.428712009605,
          23510.428712009605,
          23510.428712009605,
          23510.428712009605,
          23510.428712009605,
          23510.428712009605,
          22577.992368304796,
          22577.992368304796,
          22577.992368304796,
          22577.992368304796,
          22111.77419645239,
          22111.77419645239,
          22111.77419645239,
          22111.77419645239,
          22111.77419645239,
          22111.77419645239,
          21412.446938673784,
          21412.446938673784,
          21412.446938673784,
          21412.446938673784,
          21412.446938673784,
          21412.446938673784,
          21412.446938673784,
          21412.446938673784,
          21412.446938673784,
          21412.446938673784,
          21412.446938673784,
          21412.446938673784
         ],
         "yaxis": "y"
        }
       ],
       "layout": {
        "legend": {
         "itemsizing": "constant",
         "title": {
          "text": "State"
         },
         "tracegroupgap": 0
        },
        "margin": {
         "t": 60
        },
        "template": {
         "data": {
          "bar": [
           {
            "error_x": {
             "color": "#2a3f5f"
            },
            "error_y": {
             "color": "#2a3f5f"
            },
            "marker": {
             "line": {
              "color": "#E5ECF6",
              "width": 0.5
             },
             "pattern": {
              "fillmode": "overlay",
              "size": 10,
              "solidity": 0.2
             }
            },
            "type": "bar"
           }
          ],
          "barpolar": [
           {
            "marker": {
             "line": {
              "color": "#E5ECF6",
              "width": 0.5
             },
             "pattern": {
              "fillmode": "overlay",
              "size": 10,
              "solidity": 0.2
             }
            },
            "type": "barpolar"
           }
          ],
          "carpet": [
           {
            "aaxis": {
             "endlinecolor": "#2a3f5f",
             "gridcolor": "white",
             "linecolor": "white",
             "minorgridcolor": "white",
             "startlinecolor": "#2a3f5f"
            },
            "baxis": {
             "endlinecolor": "#2a3f5f",
             "gridcolor": "white",
             "linecolor": "white",
             "minorgridcolor": "white",
             "startlinecolor": "#2a3f5f"
            },
            "type": "carpet"
           }
          ],
          "choropleth": [
           {
            "colorbar": {
             "outlinewidth": 0,
             "ticks": ""
            },
            "type": "choropleth"
           }
          ],
          "contour": [
           {
            "colorbar": {
             "outlinewidth": 0,
             "ticks": ""
            },
            "colorscale": [
             [
              0,
              "#0d0887"
             ],
             [
              0.1111111111111111,
              "#46039f"
             ],
             [
              0.2222222222222222,
              "#7201a8"
             ],
             [
              0.3333333333333333,
              "#9c179e"
             ],
             [
              0.4444444444444444,
              "#bd3786"
             ],
             [
              0.5555555555555556,
              "#d8576b"
             ],
             [
              0.6666666666666666,
              "#ed7953"
             ],
             [
              0.7777777777777778,
              "#fb9f3a"
             ],
             [
              0.8888888888888888,
              "#fdca26"
             ],
             [
              1,
              "#f0f921"
             ]
            ],
            "type": "contour"
           }
          ],
          "contourcarpet": [
           {
            "colorbar": {
             "outlinewidth": 0,
             "ticks": ""
            },
            "type": "contourcarpet"
           }
          ],
          "heatmap": [
           {
            "colorbar": {
             "outlinewidth": 0,
             "ticks": ""
            },
            "colorscale": [
             [
              0,
              "#0d0887"
             ],
             [
              0.1111111111111111,
              "#46039f"
             ],
             [
              0.2222222222222222,
              "#7201a8"
             ],
             [
              0.3333333333333333,
              "#9c179e"
             ],
             [
              0.4444444444444444,
              "#bd3786"
             ],
             [
              0.5555555555555556,
              "#d8576b"
             ],
             [
              0.6666666666666666,
              "#ed7953"
             ],
             [
              0.7777777777777778,
              "#fb9f3a"
             ],
             [
              0.8888888888888888,
              "#fdca26"
             ],
             [
              1,
              "#f0f921"
             ]
            ],
            "type": "heatmap"
           }
          ],
          "heatmapgl": [
           {
            "colorbar": {
             "outlinewidth": 0,
             "ticks": ""
            },
            "colorscale": [
             [
              0,
              "#0d0887"
             ],
             [
              0.1111111111111111,
              "#46039f"
             ],
             [
              0.2222222222222222,
              "#7201a8"
             ],
             [
              0.3333333333333333,
              "#9c179e"
             ],
             [
              0.4444444444444444,
              "#bd3786"
             ],
             [
              0.5555555555555556,
              "#d8576b"
             ],
             [
              0.6666666666666666,
              "#ed7953"
             ],
             [
              0.7777777777777778,
              "#fb9f3a"
             ],
             [
              0.8888888888888888,
              "#fdca26"
             ],
             [
              1,
              "#f0f921"
             ]
            ],
            "type": "heatmapgl"
           }
          ],
          "histogram": [
           {
            "marker": {
             "pattern": {
              "fillmode": "overlay",
              "size": 10,
              "solidity": 0.2
             }
            },
            "type": "histogram"
           }
          ],
          "histogram2d": [
           {
            "colorbar": {
             "outlinewidth": 0,
             "ticks": ""
            },
            "colorscale": [
             [
              0,
              "#0d0887"
             ],
             [
              0.1111111111111111,
              "#46039f"
             ],
             [
              0.2222222222222222,
              "#7201a8"
             ],
             [
              0.3333333333333333,
              "#9c179e"
             ],
             [
              0.4444444444444444,
              "#bd3786"
             ],
             [
              0.5555555555555556,
              "#d8576b"
             ],
             [
              0.6666666666666666,
              "#ed7953"
             ],
             [
              0.7777777777777778,
              "#fb9f3a"
             ],
             [
              0.8888888888888888,
              "#fdca26"
             ],
             [
              1,
              "#f0f921"
             ]
            ],
            "type": "histogram2d"
           }
          ],
          "histogram2dcontour": [
           {
            "colorbar": {
             "outlinewidth": 0,
             "ticks": ""
            },
            "colorscale": [
             [
              0,
              "#0d0887"
             ],
             [
              0.1111111111111111,
              "#46039f"
             ],
             [
              0.2222222222222222,
              "#7201a8"
             ],
             [
              0.3333333333333333,
              "#9c179e"
             ],
             [
              0.4444444444444444,
              "#bd3786"
             ],
             [
              0.5555555555555556,
              "#d8576b"
             ],
             [
              0.6666666666666666,
              "#ed7953"
             ],
             [
              0.7777777777777778,
              "#fb9f3a"
             ],
             [
              0.8888888888888888,
              "#fdca26"
             ],
             [
              1,
              "#f0f921"
             ]
            ],
            "type": "histogram2dcontour"
           }
          ],
          "mesh3d": [
           {
            "colorbar": {
             "outlinewidth": 0,
             "ticks": ""
            },
            "type": "mesh3d"
           }
          ],
          "parcoords": [
           {
            "line": {
             "colorbar": {
              "outlinewidth": 0,
              "ticks": ""
             }
            },
            "type": "parcoords"
           }
          ],
          "pie": [
           {
            "automargin": true,
            "type": "pie"
           }
          ],
          "scatter": [
           {
            "fillpattern": {
             "fillmode": "overlay",
             "size": 10,
             "solidity": 0.2
            },
            "type": "scatter"
           }
          ],
          "scatter3d": [
           {
            "line": {
             "colorbar": {
              "outlinewidth": 0,
              "ticks": ""
             }
            },
            "marker": {
             "colorbar": {
              "outlinewidth": 0,
              "ticks": ""
             }
            },
            "type": "scatter3d"
           }
          ],
          "scattercarpet": [
           {
            "marker": {
             "colorbar": {
              "outlinewidth": 0,
              "ticks": ""
             }
            },
            "type": "scattercarpet"
           }
          ],
          "scattergeo": [
           {
            "marker": {
             "colorbar": {
              "outlinewidth": 0,
              "ticks": ""
             }
            },
            "type": "scattergeo"
           }
          ],
          "scattergl": [
           {
            "marker": {
             "colorbar": {
              "outlinewidth": 0,
              "ticks": ""
             }
            },
            "type": "scattergl"
           }
          ],
          "scattermapbox": [
           {
            "marker": {
             "colorbar": {
              "outlinewidth": 0,
              "ticks": ""
             }
            },
            "type": "scattermapbox"
           }
          ],
          "scatterpolar": [
           {
            "marker": {
             "colorbar": {
              "outlinewidth": 0,
              "ticks": ""
             }
            },
            "type": "scatterpolar"
           }
          ],
          "scatterpolargl": [
           {
            "marker": {
             "colorbar": {
              "outlinewidth": 0,
              "ticks": ""
             }
            },
            "type": "scatterpolargl"
           }
          ],
          "scatterternary": [
           {
            "marker": {
             "colorbar": {
              "outlinewidth": 0,
              "ticks": ""
             }
            },
            "type": "scatterternary"
           }
          ],
          "surface": [
           {
            "colorbar": {
             "outlinewidth": 0,
             "ticks": ""
            },
            "colorscale": [
             [
              0,
              "#0d0887"
             ],
             [
              0.1111111111111111,
              "#46039f"
             ],
             [
              0.2222222222222222,
              "#7201a8"
             ],
             [
              0.3333333333333333,
              "#9c179e"
             ],
             [
              0.4444444444444444,
              "#bd3786"
             ],
             [
              0.5555555555555556,
              "#d8576b"
             ],
             [
              0.6666666666666666,
              "#ed7953"
             ],
             [
              0.7777777777777778,
              "#fb9f3a"
             ],
             [
              0.8888888888888888,
              "#fdca26"
             ],
             [
              1,
              "#f0f921"
             ]
            ],
            "type": "surface"
           }
          ],
          "table": [
           {
            "cells": {
             "fill": {
              "color": "#EBF0F8"
             },
             "line": {
              "color": "white"
             }
            },
            "header": {
             "fill": {
              "color": "#C8D4E3"
             },
             "line": {
              "color": "white"
             }
            },
            "type": "table"
           }
          ]
         },
         "layout": {
          "annotationdefaults": {
           "arrowcolor": "#2a3f5f",
           "arrowhead": 0,
           "arrowwidth": 1
          },
          "autotypenumbers": "strict",
          "coloraxis": {
           "colorbar": {
            "outlinewidth": 0,
            "ticks": ""
           }
          },
          "colorscale": {
           "diverging": [
            [
             0,
             "#8e0152"
            ],
            [
             0.1,
             "#c51b7d"
            ],
            [
             0.2,
             "#de77ae"
            ],
            [
             0.3,
             "#f1b6da"
            ],
            [
             0.4,
             "#fde0ef"
            ],
            [
             0.5,
             "#f7f7f7"
            ],
            [
             0.6,
             "#e6f5d0"
            ],
            [
             0.7,
             "#b8e186"
            ],
            [
             0.8,
             "#7fbc41"
            ],
            [
             0.9,
             "#4d9221"
            ],
            [
             1,
             "#276419"
            ]
           ],
           "sequential": [
            [
             0,
             "#0d0887"
            ],
            [
             0.1111111111111111,
             "#46039f"
            ],
            [
             0.2222222222222222,
             "#7201a8"
            ],
            [
             0.3333333333333333,
             "#9c179e"
            ],
            [
             0.4444444444444444,
             "#bd3786"
            ],
            [
             0.5555555555555556,
             "#d8576b"
            ],
            [
             0.6666666666666666,
             "#ed7953"
            ],
            [
             0.7777777777777778,
             "#fb9f3a"
            ],
            [
             0.8888888888888888,
             "#fdca26"
            ],
            [
             1,
             "#f0f921"
            ]
           ],
           "sequentialminus": [
            [
             0,
             "#0d0887"
            ],
            [
             0.1111111111111111,
             "#46039f"
            ],
            [
             0.2222222222222222,
             "#7201a8"
            ],
            [
             0.3333333333333333,
             "#9c179e"
            ],
            [
             0.4444444444444444,
             "#bd3786"
            ],
            [
             0.5555555555555556,
             "#d8576b"
            ],
            [
             0.6666666666666666,
             "#ed7953"
            ],
            [
             0.7777777777777778,
             "#fb9f3a"
            ],
            [
             0.8888888888888888,
             "#fdca26"
            ],
            [
             1,
             "#f0f921"
            ]
           ]
          },
          "colorway": [
           "#636efa",
           "#EF553B",
           "#00cc96",
           "#ab63fa",
           "#FFA15A",
           "#19d3f3",
           "#FF6692",
           "#B6E880",
           "#FF97FF",
           "#FECB52"
          ],
          "font": {
           "color": "#2a3f5f"
          },
          "geo": {
           "bgcolor": "white",
           "lakecolor": "white",
           "landcolor": "#E5ECF6",
           "showlakes": true,
           "showland": true,
           "subunitcolor": "white"
          },
          "hoverlabel": {
           "align": "left"
          },
          "hovermode": "closest",
          "mapbox": {
           "style": "light"
          },
          "paper_bgcolor": "white",
          "plot_bgcolor": "#E5ECF6",
          "polar": {
           "angularaxis": {
            "gridcolor": "white",
            "linecolor": "white",
            "ticks": ""
           },
           "bgcolor": "#E5ECF6",
           "radialaxis": {
            "gridcolor": "white",
            "linecolor": "white",
            "ticks": ""
           }
          },
          "scene": {
           "xaxis": {
            "backgroundcolor": "#E5ECF6",
            "gridcolor": "white",
            "gridwidth": 2,
            "linecolor": "white",
            "showbackground": true,
            "ticks": "",
            "zerolinecolor": "white"
           },
           "yaxis": {
            "backgroundcolor": "#E5ECF6",
            "gridcolor": "white",
            "gridwidth": 2,
            "linecolor": "white",
            "showbackground": true,
            "ticks": "",
            "zerolinecolor": "white"
           },
           "zaxis": {
            "backgroundcolor": "#E5ECF6",
            "gridcolor": "white",
            "gridwidth": 2,
            "linecolor": "white",
            "showbackground": true,
            "ticks": "",
            "zerolinecolor": "white"
           }
          },
          "shapedefaults": {
           "line": {
            "color": "#2a3f5f"
           }
          },
          "ternary": {
           "aaxis": {
            "gridcolor": "white",
            "linecolor": "white",
            "ticks": ""
           },
           "baxis": {
            "gridcolor": "white",
            "linecolor": "white",
            "ticks": ""
           },
           "bgcolor": "#E5ECF6",
           "caxis": {
            "gridcolor": "white",
            "linecolor": "white",
            "ticks": ""
           }
          },
          "title": {
           "x": 0.05
          },
          "xaxis": {
           "automargin": true,
           "gridcolor": "white",
           "linecolor": "white",
           "ticks": "",
           "title": {
            "standoff": 15
           },
           "zerolinecolor": "white",
           "zerolinewidth": 2
          },
          "yaxis": {
           "automargin": true,
           "gridcolor": "white",
           "linecolor": "white",
           "ticks": "",
           "title": {
            "standoff": 15
           },
           "zerolinecolor": "white",
           "zerolinewidth": 2
          }
         }
        },
        "xaxis": {
         "anchor": "y",
         "domain": [
          0,
          1
         ],
         "title": {
          "text": "Rank"
         }
        },
        "yaxis": {
         "anchor": "x",
         "domain": [
          0,
          1
         ],
         "title": {
          "text": "Tuition and fees"
         }
        }
       }
      }
     },
     "metadata": {},
     "output_type": "display_data"
    }
   ],
   "source": [
    "# create scatter plot \n",
    "fig = px.scatter(df, x=\"Rank\", y=\"Tuition and fees\",\n",
    "            size=\"Undergrad Enrollment\", color=\"State\",\n",
    "                 hover_name=\"Name\", size_max=20, trendline=\"ols\", trendline_scope=\"overall\")\n",
    "fig.show()"
   ]
  },
  {
   "attachments": {},
   "cell_type": "markdown",
   "metadata": {},
   "source": [
    "- ## observation\n",
    "- This final scatter plot shows that tuition fees are higher for more reputable universities and also confirms how universities with less students enrolled tend to be more expensive."
   ]
  },
  {
   "cell_type": "markdown",
   "metadata": {},
   "source": []
  },
  {
   "cell_type": "code",
   "execution_count": 24,
   "metadata": {},
   "outputs": [
    {
     "data": {
      "application/vnd.plotly.v1+json": {
       "config": {
        "plotlyServerURL": "https://plot.ly"
       },
       "data": [
        {
         "branchvalues": "total",
         "domain": {
          "x": [
           0,
           1
          ],
          "y": [
           0,
           1
          ]
         },
         "hovertemplate": "labels=%{label}<br>counts=%{value}<br>parent=%{parent}<br>id=%{id}<extra></extra>",
         "ids": [
          "68/5300.0",
          "202/11403.0",
          "202/11688.0",
          "220/16094.0",
          "171/16215.0",
          "220/17209.0",
          "159/17325.0",
          "202/17596.0",
          "99/17620.0",
          "159/17654.0",
          "146/18244.0",
          "194/18332.0",
          "188/18376.0",
          "202/18899.0",
          "220/19270.0",
          "220/19772.0",
          "188/19790.0",
          "176/20142.0",
          "202/20193.0",
          "176/20318.0",
          "214/20392.0",
          "197/20622.0",
          "152/20886.0",
          "152/20978.0",
          "197/21052.0",
          "146/21208.0",
          "220/21234.0",
          "176/21302.0",
          "183/21432.0",
          "111/21451.0",
          "111/21483.0",
          "220/21595.0",
          "135/22012.0",
          "171/22040.0",
          "86/22164.0",
          "71/22210.0",
          "146/22244.0",
          "176/22467.0",
          "202/22469.0",
          "210/22714.0",
          "176/22861.0",
          "210/22904.0",
          "210/23042.0",
          "111/23148.0",
          "135/23168.0",
          "135/23429.0",
          "202/23670.0",
          "214/23799.0",
          "159/24492.0",
          "214/24562.0",
          "171/24626.0",
          "92/24673.0",
          "220/24800.0",
          "124/24908.0",
          "194/25410.0",
          "176/25428.0",
          "129/25458.0",
          "143/25673.0",
          "194/25713.0",
          "197/25750.0",
          "202/25851.0",
          "111/25892.0",
          "118/25932.0",
          "118/25994.0",
          "164/26152.0",
          "214/26180.0",
          "96/26266.0",
          "99/26270.0",
          "220/26277.0",
          "133/26334.0",
          "135/26334.0",
          "92/26399.0",
          "152/26526.0",
          "103/26950.0",
          "135/27005.0",
          "210/27028.0",
          "111/27039.0",
          "214/27130.0",
          "171/27530.0",
          "214/27660.0",
          "183/27684.0",
          "164/27958.0",
          "188/28250.0",
          "129/28374.0",
          "82/28413.0",
          "50/28666.0",
          "74/28768.0",
          "60/28804.0",
          "99/28840.0",
          "143/28846.0",
          "159/28852.0",
          "152/29125.0",
          "54/29229.0",
          "197/29334.0",
          "74/29371.0",
          "135/29480.0",
          "183/29498.0",
          "176/29756.0",
          "68/29758.0",
          "197/29791.0",
          "56/29844.0",
          "220/29850.0",
          "70/30023.0",
          "124/30025.0",
          "74/30123.0",
          "135/30326.0",
          "169/30420.0",
          "103/30858.0",
          "118/30968.0",
          "107/31282.0",
          "44/31320.0",
          "220/31322.0",
          "79/31420.0",
          "107/31424.0",
          "79/31592.0",
          "164/31608.0",
          "146/31880.0",
          "220/32023.0",
          "60/32045.0",
          "220/32170.0",
          "50/32382.0",
          "34/32404.0",
          "143/32582.0",
          "44/32738.0",
          "66/32796.0",
          "103/33442.0",
          "146/33654.0",
          "169/33764.0",
          "30/33916.0",
          "146/34034.0",
          "86/34246.0",
          "56/34676.0",
          "54/34791.0",
          "82/34828.0",
          "124/35062.0",
          "92/35079.0",
          "135/35130.0",
          "152/35210.0",
          "188/35578.0",
          "60/35858.0",
          "183/36120.0",
          "164/36696.0",
          "124/37626.0",
          "188/37790.0",
          "86/38470.0",
          "107/38568.0",
          "86/38796.0",
          "159/38940.0",
          "82/39090.0",
          "118/39258.0",
          "39/39458.0",
          "164/39460.0",
          "24/39518.0",
          "118/39594.0",
          "152/39900.0",
          "152/39944.0",
          "20/40191.0",
          "79/40241.0",
          "118/40263.0",
          "92/40364.0",
          "171/40446.0",
          "66/40670.0",
          "37/40704.0",
          "96/40726.0",
          "44/40728.0",
          "111/40940.0",
          "99/41384.0",
          "44/41387.0",
          "32/41718.0",
          "71/42006.0",
          "133/42160.0",
          "124/42536.0",
          "82/42670.0",
          "188/42772.0",
          "183/42870.0",
          "74/43150.0",
          "27/43476.0",
          "15/43918.0",
          "107/44494.0",
          "111/44588.0",
          "74/44853.0",
          "60/45022.0",
          "24/45066.0",
          "103/45214.0",
          "1/45320.0",
          "129/45535.0",
          "15/45610.0",
          "37/46006.0",
          "129/46132.0",
          "86/46140.0",
          "86/46362.0",
          "60/46994.0",
          "44/47004.0",
          "2/47074.0",
          "60/47317.0",
          "12/47577.0",
          "39/47655.0",
          "5/47940.0",
          "20/47954.0",
          "44/48320.0",
          "7/48452.0",
          "71/48838.0",
          "36/49062.0",
          "50/49280.0",
          "27/49308.0",
          "3/49480.0",
          "15/49685.0",
          "19/49770.0",
          "50/50022.0",
          "32/50142.0",
          "39/50240.0",
          "56/50358.0",
          "10/50410.0",
          "20/50547.0",
          "39/50797.0",
          "12/50855.0",
          "15/50953.0",
          "39/51010.0",
          "96/51030.0",
          "8/51265.0",
          "31/51296.0",
          "14/51367.0",
          "11/51438.0",
          "8/51464.0",
          "34/51570.0",
          "56/51950.0",
          "24/52040.0",
          "23/52217.0",
          "27/52430.0",
          "3/52491.0",
          "5/55056.0",
          "1",
          "2",
          "3",
          "5",
          "7",
          "8",
          "10",
          "11",
          "12",
          "14",
          "15",
          "19",
          "20",
          "23",
          "24",
          "27",
          "30",
          "31",
          "32",
          "34",
          "36",
          "37",
          "39",
          "44",
          "50",
          "54",
          "56",
          "60",
          "66",
          "68",
          "70",
          "71",
          "74",
          "79",
          "82",
          "86",
          "92",
          "96",
          "99",
          "103",
          "107",
          "111",
          "118",
          "124",
          "129",
          "133",
          "135",
          "143",
          "146",
          "152",
          "159",
          "164",
          "169",
          "171",
          "176",
          "183",
          "188",
          "194",
          "197",
          "202",
          "210",
          "214",
          "220"
         ],
         "labels": [
          "5300.0",
          "11403.0",
          "11688.0",
          "16094.0",
          "16215.0",
          "17209.0",
          "17325.0",
          "17596.0",
          "17620.0",
          "17654.0",
          "18244.0",
          "18332.0",
          "18376.0",
          "18899.0",
          "19270.0",
          "19772.0",
          "19790.0",
          "20142.0",
          "20193.0",
          "20318.0",
          "20392.0",
          "20622.0",
          "20886.0",
          "20978.0",
          "21052.0",
          "21208.0",
          "21234.0",
          "21302.0",
          "21432.0",
          "21451.0",
          "21483.0",
          "21595.0",
          "22012.0",
          "22040.0",
          "22164.0",
          "22210.0",
          "22244.0",
          "22467.0",
          "22469.0",
          "22714.0",
          "22861.0",
          "22904.0",
          "23042.0",
          "23148.0",
          "23168.0",
          "23429.0",
          "23670.0",
          "23799.0",
          "24492.0",
          "24562.0",
          "24626.0",
          "24673.0",
          "24800.0",
          "24908.0",
          "25410.0",
          "25428.0",
          "25458.0",
          "25673.0",
          "25713.0",
          "25750.0",
          "25851.0",
          "25892.0",
          "25932.0",
          "25994.0",
          "26152.0",
          "26180.0",
          "26266.0",
          "26270.0",
          "26277.0",
          "26334.0",
          "26334.0",
          "26399.0",
          "26526.0",
          "26950.0",
          "27005.0",
          "27028.0",
          "27039.0",
          "27130.0",
          "27530.0",
          "27660.0",
          "27684.0",
          "27958.0",
          "28250.0",
          "28374.0",
          "28413.0",
          "28666.0",
          "28768.0",
          "28804.0",
          "28840.0",
          "28846.0",
          "28852.0",
          "29125.0",
          "29229.0",
          "29334.0",
          "29371.0",
          "29480.0",
          "29498.0",
          "29756.0",
          "29758.0",
          "29791.0",
          "29844.0",
          "29850.0",
          "30023.0",
          "30025.0",
          "30123.0",
          "30326.0",
          "30420.0",
          "30858.0",
          "30968.0",
          "31282.0",
          "31320.0",
          "31322.0",
          "31420.0",
          "31424.0",
          "31592.0",
          "31608.0",
          "31880.0",
          "32023.0",
          "32045.0",
          "32170.0",
          "32382.0",
          "32404.0",
          "32582.0",
          "32738.0",
          "32796.0",
          "33442.0",
          "33654.0",
          "33764.0",
          "33916.0",
          "34034.0",
          "34246.0",
          "34676.0",
          "34791.0",
          "34828.0",
          "35062.0",
          "35079.0",
          "35130.0",
          "35210.0",
          "35578.0",
          "35858.0",
          "36120.0",
          "36696.0",
          "37626.0",
          "37790.0",
          "38470.0",
          "38568.0",
          "38796.0",
          "38940.0",
          "39090.0",
          "39258.0",
          "39458.0",
          "39460.0",
          "39518.0",
          "39594.0",
          "39900.0",
          "39944.0",
          "40191.0",
          "40241.0",
          "40263.0",
          "40364.0",
          "40446.0",
          "40670.0",
          "40704.0",
          "40726.0",
          "40728.0",
          "40940.0",
          "41384.0",
          "41387.0",
          "41718.0",
          "42006.0",
          "42160.0",
          "42536.0",
          "42670.0",
          "42772.0",
          "42870.0",
          "43150.0",
          "43476.0",
          "43918.0",
          "44494.0",
          "44588.0",
          "44853.0",
          "45022.0",
          "45066.0",
          "45214.0",
          "45320.0",
          "45535.0",
          "45610.0",
          "46006.0",
          "46132.0",
          "46140.0",
          "46362.0",
          "46994.0",
          "47004.0",
          "47074.0",
          "47317.0",
          "47577.0",
          "47655.0",
          "47940.0",
          "47954.0",
          "48320.0",
          "48452.0",
          "48838.0",
          "49062.0",
          "49280.0",
          "49308.0",
          "49480.0",
          "49685.0",
          "49770.0",
          "50022.0",
          "50142.0",
          "50240.0",
          "50358.0",
          "50410.0",
          "50547.0",
          "50797.0",
          "50855.0",
          "50953.0",
          "51010.0",
          "51030.0",
          "51265.0",
          "51296.0",
          "51367.0",
          "51438.0",
          "51464.0",
          "51570.0",
          "51950.0",
          "52040.0",
          "52217.0",
          "52430.0",
          "52491.0",
          "55056.0",
          "1",
          "2",
          "3",
          "5",
          "7",
          "8",
          "10",
          "11",
          "12",
          "14",
          "15",
          "19",
          "20",
          "23",
          "24",
          "27",
          "30",
          "31",
          "32",
          "34",
          "36",
          "37",
          "39",
          "44",
          "50",
          "54",
          "56",
          "60",
          "66",
          "68",
          "70",
          "71",
          "74",
          "79",
          "82",
          "86",
          "92",
          "96",
          "99",
          "103",
          "107",
          "111",
          "118",
          "124",
          "129",
          "133",
          "135",
          "143",
          "146",
          "152",
          "159",
          "164",
          "169",
          "171",
          "176",
          "183",
          "188",
          "194",
          "197",
          "202",
          "210",
          "214",
          "220"
         ],
         "name": "",
         "parents": [
          "68",
          "202",
          "202",
          "220",
          "171",
          "220",
          "159",
          "202",
          "99",
          "159",
          "146",
          "194",
          "188",
          "202",
          "220",
          "220",
          "188",
          "176",
          "202",
          "176",
          "214",
          "197",
          "152",
          "152",
          "197",
          "146",
          "220",
          "176",
          "183",
          "111",
          "111",
          "220",
          "135",
          "171",
          "86",
          "71",
          "146",
          "176",
          "202",
          "210",
          "176",
          "210",
          "210",
          "111",
          "135",
          "135",
          "202",
          "214",
          "159",
          "214",
          "171",
          "92",
          "220",
          "124",
          "194",
          "176",
          "129",
          "143",
          "194",
          "197",
          "202",
          "111",
          "118",
          "118",
          "164",
          "214",
          "96",
          "99",
          "220",
          "133",
          "135",
          "92",
          "152",
          "103",
          "135",
          "210",
          "111",
          "214",
          "171",
          "214",
          "183",
          "164",
          "188",
          "129",
          "82",
          "50",
          "74",
          "60",
          "99",
          "143",
          "159",
          "152",
          "54",
          "197",
          "74",
          "135",
          "183",
          "176",
          "68",
          "197",
          "56",
          "220",
          "70",
          "124",
          "74",
          "135",
          "169",
          "103",
          "118",
          "107",
          "44",
          "220",
          "79",
          "107",
          "79",
          "164",
          "146",
          "220",
          "60",
          "220",
          "50",
          "34",
          "143",
          "44",
          "66",
          "103",
          "146",
          "169",
          "30",
          "146",
          "86",
          "56",
          "54",
          "82",
          "124",
          "92",
          "135",
          "152",
          "188",
          "60",
          "183",
          "164",
          "124",
          "188",
          "86",
          "107",
          "86",
          "159",
          "82",
          "118",
          "39",
          "164",
          "24",
          "118",
          "152",
          "152",
          "20",
          "79",
          "118",
          "92",
          "171",
          "66",
          "37",
          "96",
          "44",
          "111",
          "99",
          "44",
          "32",
          "71",
          "133",
          "124",
          "82",
          "188",
          "183",
          "74",
          "27",
          "15",
          "107",
          "111",
          "74",
          "60",
          "24",
          "103",
          "1",
          "129",
          "15",
          "37",
          "129",
          "86",
          "86",
          "60",
          "44",
          "2",
          "60",
          "12",
          "39",
          "5",
          "20",
          "44",
          "7",
          "71",
          "36",
          "50",
          "27",
          "3",
          "15",
          "19",
          "50",
          "32",
          "39",
          "56",
          "10",
          "20",
          "39",
          "12",
          "15",
          "39",
          "96",
          "8",
          "31",
          "14",
          "11",
          "8",
          "34",
          "56",
          "24",
          "23",
          "27",
          "3",
          "5",
          "",
          "",
          "",
          "",
          "",
          "",
          "",
          "",
          "",
          "",
          "",
          "",
          "",
          "",
          "",
          "",
          "",
          "",
          "",
          "",
          "",
          "",
          "",
          "",
          "",
          "",
          "",
          "",
          "",
          "",
          "",
          "",
          "",
          "",
          "",
          "",
          "",
          "",
          "",
          "",
          "",
          "",
          "",
          "",
          "",
          "",
          "",
          "",
          "",
          "",
          "",
          "",
          "",
          "",
          "",
          "",
          "",
          "",
          "",
          "",
          "",
          "",
          ""
         ],
         "type": "sunburst",
         "values": [
          1,
          1,
          1,
          1,
          1,
          1,
          1,
          1,
          1,
          1,
          1,
          1,
          1,
          1,
          1,
          1,
          1,
          1,
          1,
          1,
          1,
          1,
          1,
          1,
          1,
          1,
          1,
          1,
          1,
          1,
          1,
          1,
          1,
          1,
          1,
          1,
          1,
          1,
          1,
          1,
          1,
          1,
          1,
          1,
          1,
          1,
          1,
          1,
          1,
          1,
          1,
          1,
          1,
          1,
          1,
          1,
          1,
          1,
          1,
          1,
          1,
          1,
          1,
          1,
          1,
          1,
          1,
          1,
          1,
          1,
          1,
          1,
          1,
          1,
          1,
          1,
          1,
          1,
          1,
          1,
          1,
          1,
          1,
          1,
          1,
          1,
          1,
          1,
          1,
          1,
          1,
          1,
          1,
          1,
          1,
          1,
          1,
          1,
          1,
          1,
          1,
          1,
          1,
          1,
          1,
          1,
          1,
          1,
          1,
          1,
          1,
          1,
          1,
          1,
          1,
          1,
          1,
          1,
          1,
          1,
          1,
          1,
          1,
          1,
          1,
          1,
          1,
          1,
          1,
          1,
          1,
          1,
          1,
          1,
          1,
          1,
          1,
          1,
          1,
          1,
          1,
          1,
          1,
          1,
          1,
          1,
          1,
          1,
          1,
          1,
          1,
          1,
          1,
          1,
          1,
          1,
          1,
          1,
          1,
          1,
          1,
          1,
          1,
          1,
          1,
          1,
          1,
          1,
          1,
          1,
          1,
          1,
          1,
          1,
          1,
          1,
          1,
          1,
          1,
          1,
          1,
          1,
          1,
          1,
          1,
          1,
          1,
          1,
          1,
          1,
          1,
          1,
          1,
          1,
          1,
          1,
          1,
          1,
          1,
          1,
          1,
          1,
          1,
          1,
          1,
          1,
          1,
          1,
          1,
          1,
          1,
          1,
          1,
          1,
          1,
          1,
          1,
          1,
          1,
          1,
          1,
          1,
          1,
          1,
          1,
          1,
          1,
          1,
          1,
          1,
          1,
          1,
          1,
          2,
          2,
          1,
          2,
          1,
          1,
          2,
          1,
          4,
          1,
          3,
          1,
          3,
          3,
          1,
          1,
          2,
          2,
          1,
          2,
          5,
          6,
          4,
          2,
          4,
          6,
          2,
          2,
          1,
          3,
          5,
          3,
          4,
          6,
          4,
          3,
          4,
          4,
          4,
          7,
          6,
          5,
          4,
          2,
          8,
          3,
          6,
          7,
          5,
          5,
          2,
          5,
          7,
          5,
          6,
          3,
          5,
          8,
          4,
          6,
          12
         ]
        }
       ],
       "layout": {
        "legend": {
         "tracegroupgap": 0
        },
        "margin": {
         "t": 60
        },
        "template": {
         "data": {
          "bar": [
           {
            "error_x": {
             "color": "#2a3f5f"
            },
            "error_y": {
             "color": "#2a3f5f"
            },
            "marker": {
             "line": {
              "color": "#E5ECF6",
              "width": 0.5
             },
             "pattern": {
              "fillmode": "overlay",
              "size": 10,
              "solidity": 0.2
             }
            },
            "type": "bar"
           }
          ],
          "barpolar": [
           {
            "marker": {
             "line": {
              "color": "#E5ECF6",
              "width": 0.5
             },
             "pattern": {
              "fillmode": "overlay",
              "size": 10,
              "solidity": 0.2
             }
            },
            "type": "barpolar"
           }
          ],
          "carpet": [
           {
            "aaxis": {
             "endlinecolor": "#2a3f5f",
             "gridcolor": "white",
             "linecolor": "white",
             "minorgridcolor": "white",
             "startlinecolor": "#2a3f5f"
            },
            "baxis": {
             "endlinecolor": "#2a3f5f",
             "gridcolor": "white",
             "linecolor": "white",
             "minorgridcolor": "white",
             "startlinecolor": "#2a3f5f"
            },
            "type": "carpet"
           }
          ],
          "choropleth": [
           {
            "colorbar": {
             "outlinewidth": 0,
             "ticks": ""
            },
            "type": "choropleth"
           }
          ],
          "contour": [
           {
            "colorbar": {
             "outlinewidth": 0,
             "ticks": ""
            },
            "colorscale": [
             [
              0,
              "#0d0887"
             ],
             [
              0.1111111111111111,
              "#46039f"
             ],
             [
              0.2222222222222222,
              "#7201a8"
             ],
             [
              0.3333333333333333,
              "#9c179e"
             ],
             [
              0.4444444444444444,
              "#bd3786"
             ],
             [
              0.5555555555555556,
              "#d8576b"
             ],
             [
              0.6666666666666666,
              "#ed7953"
             ],
             [
              0.7777777777777778,
              "#fb9f3a"
             ],
             [
              0.8888888888888888,
              "#fdca26"
             ],
             [
              1,
              "#f0f921"
             ]
            ],
            "type": "contour"
           }
          ],
          "contourcarpet": [
           {
            "colorbar": {
             "outlinewidth": 0,
             "ticks": ""
            },
            "type": "contourcarpet"
           }
          ],
          "heatmap": [
           {
            "colorbar": {
             "outlinewidth": 0,
             "ticks": ""
            },
            "colorscale": [
             [
              0,
              "#0d0887"
             ],
             [
              0.1111111111111111,
              "#46039f"
             ],
             [
              0.2222222222222222,
              "#7201a8"
             ],
             [
              0.3333333333333333,
              "#9c179e"
             ],
             [
              0.4444444444444444,
              "#bd3786"
             ],
             [
              0.5555555555555556,
              "#d8576b"
             ],
             [
              0.6666666666666666,
              "#ed7953"
             ],
             [
              0.7777777777777778,
              "#fb9f3a"
             ],
             [
              0.8888888888888888,
              "#fdca26"
             ],
             [
              1,
              "#f0f921"
             ]
            ],
            "type": "heatmap"
           }
          ],
          "heatmapgl": [
           {
            "colorbar": {
             "outlinewidth": 0,
             "ticks": ""
            },
            "colorscale": [
             [
              0,
              "#0d0887"
             ],
             [
              0.1111111111111111,
              "#46039f"
             ],
             [
              0.2222222222222222,
              "#7201a8"
             ],
             [
              0.3333333333333333,
              "#9c179e"
             ],
             [
              0.4444444444444444,
              "#bd3786"
             ],
             [
              0.5555555555555556,
              "#d8576b"
             ],
             [
              0.6666666666666666,
              "#ed7953"
             ],
             [
              0.7777777777777778,
              "#fb9f3a"
             ],
             [
              0.8888888888888888,
              "#fdca26"
             ],
             [
              1,
              "#f0f921"
             ]
            ],
            "type": "heatmapgl"
           }
          ],
          "histogram": [
           {
            "marker": {
             "pattern": {
              "fillmode": "overlay",
              "size": 10,
              "solidity": 0.2
             }
            },
            "type": "histogram"
           }
          ],
          "histogram2d": [
           {
            "colorbar": {
             "outlinewidth": 0,
             "ticks": ""
            },
            "colorscale": [
             [
              0,
              "#0d0887"
             ],
             [
              0.1111111111111111,
              "#46039f"
             ],
             [
              0.2222222222222222,
              "#7201a8"
             ],
             [
              0.3333333333333333,
              "#9c179e"
             ],
             [
              0.4444444444444444,
              "#bd3786"
             ],
             [
              0.5555555555555556,
              "#d8576b"
             ],
             [
              0.6666666666666666,
              "#ed7953"
             ],
             [
              0.7777777777777778,
              "#fb9f3a"
             ],
             [
              0.8888888888888888,
              "#fdca26"
             ],
             [
              1,
              "#f0f921"
             ]
            ],
            "type": "histogram2d"
           }
          ],
          "histogram2dcontour": [
           {
            "colorbar": {
             "outlinewidth": 0,
             "ticks": ""
            },
            "colorscale": [
             [
              0,
              "#0d0887"
             ],
             [
              0.1111111111111111,
              "#46039f"
             ],
             [
              0.2222222222222222,
              "#7201a8"
             ],
             [
              0.3333333333333333,
              "#9c179e"
             ],
             [
              0.4444444444444444,
              "#bd3786"
             ],
             [
              0.5555555555555556,
              "#d8576b"
             ],
             [
              0.6666666666666666,
              "#ed7953"
             ],
             [
              0.7777777777777778,
              "#fb9f3a"
             ],
             [
              0.8888888888888888,
              "#fdca26"
             ],
             [
              1,
              "#f0f921"
             ]
            ],
            "type": "histogram2dcontour"
           }
          ],
          "mesh3d": [
           {
            "colorbar": {
             "outlinewidth": 0,
             "ticks": ""
            },
            "type": "mesh3d"
           }
          ],
          "parcoords": [
           {
            "line": {
             "colorbar": {
              "outlinewidth": 0,
              "ticks": ""
             }
            },
            "type": "parcoords"
           }
          ],
          "pie": [
           {
            "automargin": true,
            "type": "pie"
           }
          ],
          "scatter": [
           {
            "fillpattern": {
             "fillmode": "overlay",
             "size": 10,
             "solidity": 0.2
            },
            "type": "scatter"
           }
          ],
          "scatter3d": [
           {
            "line": {
             "colorbar": {
              "outlinewidth": 0,
              "ticks": ""
             }
            },
            "marker": {
             "colorbar": {
              "outlinewidth": 0,
              "ticks": ""
             }
            },
            "type": "scatter3d"
           }
          ],
          "scattercarpet": [
           {
            "marker": {
             "colorbar": {
              "outlinewidth": 0,
              "ticks": ""
             }
            },
            "type": "scattercarpet"
           }
          ],
          "scattergeo": [
           {
            "marker": {
             "colorbar": {
              "outlinewidth": 0,
              "ticks": ""
             }
            },
            "type": "scattergeo"
           }
          ],
          "scattergl": [
           {
            "marker": {
             "colorbar": {
              "outlinewidth": 0,
              "ticks": ""
             }
            },
            "type": "scattergl"
           }
          ],
          "scattermapbox": [
           {
            "marker": {
             "colorbar": {
              "outlinewidth": 0,
              "ticks": ""
             }
            },
            "type": "scattermapbox"
           }
          ],
          "scatterpolar": [
           {
            "marker": {
             "colorbar": {
              "outlinewidth": 0,
              "ticks": ""
             }
            },
            "type": "scatterpolar"
           }
          ],
          "scatterpolargl": [
           {
            "marker": {
             "colorbar": {
              "outlinewidth": 0,
              "ticks": ""
             }
            },
            "type": "scatterpolargl"
           }
          ],
          "scatterternary": [
           {
            "marker": {
             "colorbar": {
              "outlinewidth": 0,
              "ticks": ""
             }
            },
            "type": "scatterternary"
           }
          ],
          "surface": [
           {
            "colorbar": {
             "outlinewidth": 0,
             "ticks": ""
            },
            "colorscale": [
             [
              0,
              "#0d0887"
             ],
             [
              0.1111111111111111,
              "#46039f"
             ],
             [
              0.2222222222222222,
              "#7201a8"
             ],
             [
              0.3333333333333333,
              "#9c179e"
             ],
             [
              0.4444444444444444,
              "#bd3786"
             ],
             [
              0.5555555555555556,
              "#d8576b"
             ],
             [
              0.6666666666666666,
              "#ed7953"
             ],
             [
              0.7777777777777778,
              "#fb9f3a"
             ],
             [
              0.8888888888888888,
              "#fdca26"
             ],
             [
              1,
              "#f0f921"
             ]
            ],
            "type": "surface"
           }
          ],
          "table": [
           {
            "cells": {
             "fill": {
              "color": "#EBF0F8"
             },
             "line": {
              "color": "white"
             }
            },
            "header": {
             "fill": {
              "color": "#C8D4E3"
             },
             "line": {
              "color": "white"
             }
            },
            "type": "table"
           }
          ]
         },
         "layout": {
          "annotationdefaults": {
           "arrowcolor": "#2a3f5f",
           "arrowhead": 0,
           "arrowwidth": 1
          },
          "autotypenumbers": "strict",
          "coloraxis": {
           "colorbar": {
            "outlinewidth": 0,
            "ticks": ""
           }
          },
          "colorscale": {
           "diverging": [
            [
             0,
             "#8e0152"
            ],
            [
             0.1,
             "#c51b7d"
            ],
            [
             0.2,
             "#de77ae"
            ],
            [
             0.3,
             "#f1b6da"
            ],
            [
             0.4,
             "#fde0ef"
            ],
            [
             0.5,
             "#f7f7f7"
            ],
            [
             0.6,
             "#e6f5d0"
            ],
            [
             0.7,
             "#b8e186"
            ],
            [
             0.8,
             "#7fbc41"
            ],
            [
             0.9,
             "#4d9221"
            ],
            [
             1,
             "#276419"
            ]
           ],
           "sequential": [
            [
             0,
             "#0d0887"
            ],
            [
             0.1111111111111111,
             "#46039f"
            ],
            [
             0.2222222222222222,
             "#7201a8"
            ],
            [
             0.3333333333333333,
             "#9c179e"
            ],
            [
             0.4444444444444444,
             "#bd3786"
            ],
            [
             0.5555555555555556,
             "#d8576b"
            ],
            [
             0.6666666666666666,
             "#ed7953"
            ],
            [
             0.7777777777777778,
             "#fb9f3a"
            ],
            [
             0.8888888888888888,
             "#fdca26"
            ],
            [
             1,
             "#f0f921"
            ]
           ],
           "sequentialminus": [
            [
             0,
             "#0d0887"
            ],
            [
             0.1111111111111111,
             "#46039f"
            ],
            [
             0.2222222222222222,
             "#7201a8"
            ],
            [
             0.3333333333333333,
             "#9c179e"
            ],
            [
             0.4444444444444444,
             "#bd3786"
            ],
            [
             0.5555555555555556,
             "#d8576b"
            ],
            [
             0.6666666666666666,
             "#ed7953"
            ],
            [
             0.7777777777777778,
             "#fb9f3a"
            ],
            [
             0.8888888888888888,
             "#fdca26"
            ],
            [
             1,
             "#f0f921"
            ]
           ]
          },
          "colorway": [
           "#636efa",
           "#EF553B",
           "#00cc96",
           "#ab63fa",
           "#FFA15A",
           "#19d3f3",
           "#FF6692",
           "#B6E880",
           "#FF97FF",
           "#FECB52"
          ],
          "font": {
           "color": "#2a3f5f"
          },
          "geo": {
           "bgcolor": "white",
           "lakecolor": "white",
           "landcolor": "#E5ECF6",
           "showlakes": true,
           "showland": true,
           "subunitcolor": "white"
          },
          "hoverlabel": {
           "align": "left"
          },
          "hovermode": "closest",
          "mapbox": {
           "style": "light"
          },
          "paper_bgcolor": "white",
          "plot_bgcolor": "#E5ECF6",
          "polar": {
           "angularaxis": {
            "gridcolor": "white",
            "linecolor": "white",
            "ticks": ""
           },
           "bgcolor": "#E5ECF6",
           "radialaxis": {
            "gridcolor": "white",
            "linecolor": "white",
            "ticks": ""
           }
          },
          "scene": {
           "xaxis": {
            "backgroundcolor": "#E5ECF6",
            "gridcolor": "white",
            "gridwidth": 2,
            "linecolor": "white",
            "showbackground": true,
            "ticks": "",
            "zerolinecolor": "white"
           },
           "yaxis": {
            "backgroundcolor": "#E5ECF6",
            "gridcolor": "white",
            "gridwidth": 2,
            "linecolor": "white",
            "showbackground": true,
            "ticks": "",
            "zerolinecolor": "white"
           },
           "zaxis": {
            "backgroundcolor": "#E5ECF6",
            "gridcolor": "white",
            "gridwidth": 2,
            "linecolor": "white",
            "showbackground": true,
            "ticks": "",
            "zerolinecolor": "white"
           }
          },
          "shapedefaults": {
           "line": {
            "color": "#2a3f5f"
           }
          },
          "ternary": {
           "aaxis": {
            "gridcolor": "white",
            "linecolor": "white",
            "ticks": ""
           },
           "baxis": {
            "gridcolor": "white",
            "linecolor": "white",
            "ticks": ""
           },
           "bgcolor": "#E5ECF6",
           "caxis": {
            "gridcolor": "white",
            "linecolor": "white",
            "ticks": ""
           }
          },
          "title": {
           "x": 0.05
          },
          "xaxis": {
           "automargin": true,
           "gridcolor": "white",
           "linecolor": "white",
           "ticks": "",
           "title": {
            "standoff": 15
           },
           "zerolinecolor": "white",
           "zerolinewidth": 2
          },
          "yaxis": {
           "automargin": true,
           "gridcolor": "white",
           "linecolor": "white",
           "ticks": "",
           "title": {
            "standoff": 15
           },
           "zerolinecolor": "white",
           "zerolinewidth": 2
          }
         }
        }
       }
      }
     },
     "metadata": {},
     "output_type": "display_data"
    }
   ],
   "source": [
    "#   sunburst chart\n",
    "df_sunburst = df.groupby([\"Rank\", \"Tuition and fees\"]).size().reset_index(name='counts')\n",
    "\n",
    "fig11 = px.sunburst(df_sunburst, path=[\"Rank\", \"Tuition and fees\"], values='counts')\n",
    "fig11.show()\n",
    "\n",
    "# save this plot as html\n",
    "# fig11.write_html(\"./output/fig11.html\")\n",
    "\n",
    "#save this plot\n",
    "# fig11.write_image(\"./output/fig11.png\", scale=3)"
   ]
  },
  {
   "attachments": {},
   "cell_type": "markdown",
   "metadata": {},
   "source": [
    "- ## observation\n",
    "- *This sunburst chart shows more clearly that tuition fees are higher for more reputable universities and also confirms how universities with less students enrolled tend to be more expensive.*"
   ]
  }
 ],
 "metadata": {
  "kernelspec": {
   "display_name": "base",
   "language": "python",
   "name": "python3"
  },
  "language_info": {
   "codemirror_mode": {
    "name": "ipython",
    "version": 3
   },
   "file_extension": ".py",
   "mimetype": "text/x-python",
   "name": "python",
   "nbconvert_exporter": "python",
   "pygments_lexer": "ipython3",
   "version": "3.11.4 | packaged by Anaconda, Inc. | (main, Jul  5 2023, 13:38:37) [MSC v.1916 64 bit (AMD64)]"
  },
  "orig_nbformat": 4,
  "vscode": {
   "interpreter": {
    "hash": "35792f690c9f1f3442547cf038e6c24b19cf974df967b0f50cbf97b948b3dfb5"
   }
  }
 },
 "nbformat": 4,
 "nbformat_minor": 2
}
